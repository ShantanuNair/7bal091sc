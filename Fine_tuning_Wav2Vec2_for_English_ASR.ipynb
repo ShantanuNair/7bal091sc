{
  "nbformat": 4,
  "nbformat_minor": 0,
  "metadata": {
    "colab": {
      "name": "Fine-tuning Wav2Vec2 for English ASR",
      "provenance": [],
      "collapsed_sections": [],
      "machine_shape": "hm"
    },
    "kernelspec": {
      "name": "python3",
      "display_name": "Python 3"
    },
    "accelerator": "GPU",
    "widgets": {
      "application/vnd.jupyter.widget-state+json": {
        "4fae0d04a34b4fbcbbac419ef522389d": {
          "model_module": "@jupyter-widgets/controls",
          "model_name": "VBoxModel",
          "model_module_version": "1.5.0",
          "state": {
            "_dom_classes": [],
            "_model_module": "@jupyter-widgets/controls",
            "_model_module_version": "1.5.0",
            "_model_name": "VBoxModel",
            "_view_count": null,
            "_view_module": "@jupyter-widgets/controls",
            "_view_module_version": "1.5.0",
            "_view_name": "VBoxView",
            "box_style": "",
            "children": [
              "IPY_MODEL_04889e8a534846219c60b6c637ff9703",
              "IPY_MODEL_dd0d9ccef1b34806a8989f882caca422",
              "IPY_MODEL_cfcf385787a94992ac39070cad8fcada",
              "IPY_MODEL_6d2c83e9574c4b0796e73ccc5ba2632e",
              "IPY_MODEL_8f15f29ae18640d3ba9215ca91e764b7"
            ],
            "layout": "IPY_MODEL_b58bd0d46cbc4d7ab932940941d2ad36"
          }
        },
        "04889e8a534846219c60b6c637ff9703": {
          "model_module": "@jupyter-widgets/controls",
          "model_name": "HTMLModel",
          "model_module_version": "1.5.0",
          "state": {
            "_dom_classes": [],
            "_model_module": "@jupyter-widgets/controls",
            "_model_module_version": "1.5.0",
            "_model_name": "HTMLModel",
            "_view_count": null,
            "_view_module": "@jupyter-widgets/controls",
            "_view_module_version": "1.5.0",
            "_view_name": "HTMLView",
            "description": "",
            "description_tooltip": null,
            "layout": "IPY_MODEL_b807a57d90ae41c1bfa3a54b121affd1",
            "placeholder": "​",
            "style": "IPY_MODEL_edbc56749e544622be7717992bd72dbc",
            "value": "<center> <img\nsrc=https://huggingface.co/front/assets/huggingface_logo-noborder.svg\nalt='Hugging Face'> <br> Copy a token from <a\nhref=\"https://huggingface.co/settings/tokens\" target=\"_blank\">your Hugging Face\ntokens page</a> and paste it below. <br> Immediately click login after copying\nyour token or it might be stored in plain text in this notebook file. </center>"
          }
        },
        "dd0d9ccef1b34806a8989f882caca422": {
          "model_module": "@jupyter-widgets/controls",
          "model_name": "PasswordModel",
          "model_module_version": "1.5.0",
          "state": {
            "_dom_classes": [],
            "_model_module": "@jupyter-widgets/controls",
            "_model_module_version": "1.5.0",
            "_model_name": "PasswordModel",
            "_view_count": null,
            "_view_module": "@jupyter-widgets/controls",
            "_view_module_version": "1.5.0",
            "_view_name": "PasswordView",
            "continuous_update": true,
            "description": "Token:",
            "description_tooltip": null,
            "disabled": false,
            "layout": "IPY_MODEL_3328f4a664d24ba89dbc892734a3ed58",
            "placeholder": "​",
            "style": "IPY_MODEL_e0c3115ae01a44848620d6f19a071542",
            "value": ""
          }
        },
        "cfcf385787a94992ac39070cad8fcada": {
          "model_module": "@jupyter-widgets/controls",
          "model_name": "ButtonModel",
          "model_module_version": "1.5.0",
          "state": {
            "_dom_classes": [],
            "_model_module": "@jupyter-widgets/controls",
            "_model_module_version": "1.5.0",
            "_model_name": "ButtonModel",
            "_view_count": null,
            "_view_module": "@jupyter-widgets/controls",
            "_view_module_version": "1.5.0",
            "_view_name": "ButtonView",
            "button_style": "",
            "description": "Login",
            "disabled": false,
            "icon": "",
            "layout": "IPY_MODEL_ecc433611c5144d3a909627ffb08eb77",
            "style": "IPY_MODEL_3378d5d15d0f4c45a286842339425003",
            "tooltip": ""
          }
        },
        "6d2c83e9574c4b0796e73ccc5ba2632e": {
          "model_module": "@jupyter-widgets/controls",
          "model_name": "HTMLModel",
          "model_module_version": "1.5.0",
          "state": {
            "_dom_classes": [],
            "_model_module": "@jupyter-widgets/controls",
            "_model_module_version": "1.5.0",
            "_model_name": "HTMLModel",
            "_view_count": null,
            "_view_module": "@jupyter-widgets/controls",
            "_view_module_version": "1.5.0",
            "_view_name": "HTMLView",
            "description": "",
            "description_tooltip": null,
            "layout": "IPY_MODEL_70914255a10141ef8882c4e69a4f4057",
            "placeholder": "​",
            "style": "IPY_MODEL_5ca38ad0652b4d27ba646d6b55298498",
            "value": "\n<b>Pro Tip:</b> If you don't already have one, you can create a dedicated\n'notebooks' token with 'write' access, that you can then easily reuse for all\nnotebooks. <br> <i>Logging in with your username and password is deprecated and\nwon't be possible anymore in the near future. You can still use them for now by\nclicking below.</i> </center>"
          }
        },
        "8f15f29ae18640d3ba9215ca91e764b7": {
          "model_module": "@jupyter-widgets/controls",
          "model_name": "ButtonModel",
          "model_module_version": "1.5.0",
          "state": {
            "_dom_classes": [],
            "_model_module": "@jupyter-widgets/controls",
            "_model_module_version": "1.5.0",
            "_model_name": "ButtonModel",
            "_view_count": null,
            "_view_module": "@jupyter-widgets/controls",
            "_view_module_version": "1.5.0",
            "_view_name": "ButtonView",
            "button_style": "",
            "description": "Use password",
            "disabled": false,
            "icon": "",
            "layout": "IPY_MODEL_84c3f51a7956477eaa1c9ecdeba5c00a",
            "style": "IPY_MODEL_1eb4c98ebb084e8898b793265738b7fc",
            "tooltip": ""
          }
        },
        "b58bd0d46cbc4d7ab932940941d2ad36": {
          "model_module": "@jupyter-widgets/base",
          "model_name": "LayoutModel",
          "model_module_version": "1.2.0",
          "state": {
            "_model_module": "@jupyter-widgets/base",
            "_model_module_version": "1.2.0",
            "_model_name": "LayoutModel",
            "_view_count": null,
            "_view_module": "@jupyter-widgets/base",
            "_view_module_version": "1.2.0",
            "_view_name": "LayoutView",
            "align_content": null,
            "align_items": "center",
            "align_self": null,
            "border": null,
            "bottom": null,
            "display": "flex",
            "flex": null,
            "flex_flow": "column",
            "grid_area": null,
            "grid_auto_columns": null,
            "grid_auto_flow": null,
            "grid_auto_rows": null,
            "grid_column": null,
            "grid_gap": null,
            "grid_row": null,
            "grid_template_areas": null,
            "grid_template_columns": null,
            "grid_template_rows": null,
            "height": null,
            "justify_content": null,
            "justify_items": null,
            "left": null,
            "margin": null,
            "max_height": null,
            "max_width": null,
            "min_height": null,
            "min_width": null,
            "object_fit": null,
            "object_position": null,
            "order": null,
            "overflow": null,
            "overflow_x": null,
            "overflow_y": null,
            "padding": null,
            "right": null,
            "top": null,
            "visibility": null,
            "width": "50%"
          }
        },
        "b807a57d90ae41c1bfa3a54b121affd1": {
          "model_module": "@jupyter-widgets/base",
          "model_name": "LayoutModel",
          "model_module_version": "1.2.0",
          "state": {
            "_model_module": "@jupyter-widgets/base",
            "_model_module_version": "1.2.0",
            "_model_name": "LayoutModel",
            "_view_count": null,
            "_view_module": "@jupyter-widgets/base",
            "_view_module_version": "1.2.0",
            "_view_name": "LayoutView",
            "align_content": null,
            "align_items": null,
            "align_self": null,
            "border": null,
            "bottom": null,
            "display": null,
            "flex": null,
            "flex_flow": null,
            "grid_area": null,
            "grid_auto_columns": null,
            "grid_auto_flow": null,
            "grid_auto_rows": null,
            "grid_column": null,
            "grid_gap": null,
            "grid_row": null,
            "grid_template_areas": null,
            "grid_template_columns": null,
            "grid_template_rows": null,
            "height": null,
            "justify_content": null,
            "justify_items": null,
            "left": null,
            "margin": null,
            "max_height": null,
            "max_width": null,
            "min_height": null,
            "min_width": null,
            "object_fit": null,
            "object_position": null,
            "order": null,
            "overflow": null,
            "overflow_x": null,
            "overflow_y": null,
            "padding": null,
            "right": null,
            "top": null,
            "visibility": null,
            "width": null
          }
        },
        "edbc56749e544622be7717992bd72dbc": {
          "model_module": "@jupyter-widgets/controls",
          "model_name": "DescriptionStyleModel",
          "model_module_version": "1.5.0",
          "state": {
            "_model_module": "@jupyter-widgets/controls",
            "_model_module_version": "1.5.0",
            "_model_name": "DescriptionStyleModel",
            "_view_count": null,
            "_view_module": "@jupyter-widgets/base",
            "_view_module_version": "1.2.0",
            "_view_name": "StyleView",
            "description_width": ""
          }
        },
        "3328f4a664d24ba89dbc892734a3ed58": {
          "model_module": "@jupyter-widgets/base",
          "model_name": "LayoutModel",
          "model_module_version": "1.2.0",
          "state": {
            "_model_module": "@jupyter-widgets/base",
            "_model_module_version": "1.2.0",
            "_model_name": "LayoutModel",
            "_view_count": null,
            "_view_module": "@jupyter-widgets/base",
            "_view_module_version": "1.2.0",
            "_view_name": "LayoutView",
            "align_content": null,
            "align_items": null,
            "align_self": null,
            "border": null,
            "bottom": null,
            "display": null,
            "flex": null,
            "flex_flow": null,
            "grid_area": null,
            "grid_auto_columns": null,
            "grid_auto_flow": null,
            "grid_auto_rows": null,
            "grid_column": null,
            "grid_gap": null,
            "grid_row": null,
            "grid_template_areas": null,
            "grid_template_columns": null,
            "grid_template_rows": null,
            "height": null,
            "justify_content": null,
            "justify_items": null,
            "left": null,
            "margin": null,
            "max_height": null,
            "max_width": null,
            "min_height": null,
            "min_width": null,
            "object_fit": null,
            "object_position": null,
            "order": null,
            "overflow": null,
            "overflow_x": null,
            "overflow_y": null,
            "padding": null,
            "right": null,
            "top": null,
            "visibility": null,
            "width": null
          }
        },
        "e0c3115ae01a44848620d6f19a071542": {
          "model_module": "@jupyter-widgets/controls",
          "model_name": "DescriptionStyleModel",
          "model_module_version": "1.5.0",
          "state": {
            "_model_module": "@jupyter-widgets/controls",
            "_model_module_version": "1.5.0",
            "_model_name": "DescriptionStyleModel",
            "_view_count": null,
            "_view_module": "@jupyter-widgets/base",
            "_view_module_version": "1.2.0",
            "_view_name": "StyleView",
            "description_width": ""
          }
        },
        "ecc433611c5144d3a909627ffb08eb77": {
          "model_module": "@jupyter-widgets/base",
          "model_name": "LayoutModel",
          "model_module_version": "1.2.0",
          "state": {
            "_model_module": "@jupyter-widgets/base",
            "_model_module_version": "1.2.0",
            "_model_name": "LayoutModel",
            "_view_count": null,
            "_view_module": "@jupyter-widgets/base",
            "_view_module_version": "1.2.0",
            "_view_name": "LayoutView",
            "align_content": null,
            "align_items": null,
            "align_self": null,
            "border": null,
            "bottom": null,
            "display": null,
            "flex": null,
            "flex_flow": null,
            "grid_area": null,
            "grid_auto_columns": null,
            "grid_auto_flow": null,
            "grid_auto_rows": null,
            "grid_column": null,
            "grid_gap": null,
            "grid_row": null,
            "grid_template_areas": null,
            "grid_template_columns": null,
            "grid_template_rows": null,
            "height": null,
            "justify_content": null,
            "justify_items": null,
            "left": null,
            "margin": null,
            "max_height": null,
            "max_width": null,
            "min_height": null,
            "min_width": null,
            "object_fit": null,
            "object_position": null,
            "order": null,
            "overflow": null,
            "overflow_x": null,
            "overflow_y": null,
            "padding": null,
            "right": null,
            "top": null,
            "visibility": null,
            "width": null
          }
        },
        "3378d5d15d0f4c45a286842339425003": {
          "model_module": "@jupyter-widgets/controls",
          "model_name": "ButtonStyleModel",
          "model_module_version": "1.5.0",
          "state": {
            "_model_module": "@jupyter-widgets/controls",
            "_model_module_version": "1.5.0",
            "_model_name": "ButtonStyleModel",
            "_view_count": null,
            "_view_module": "@jupyter-widgets/base",
            "_view_module_version": "1.2.0",
            "_view_name": "StyleView",
            "button_color": null,
            "font_weight": ""
          }
        },
        "70914255a10141ef8882c4e69a4f4057": {
          "model_module": "@jupyter-widgets/base",
          "model_name": "LayoutModel",
          "model_module_version": "1.2.0",
          "state": {
            "_model_module": "@jupyter-widgets/base",
            "_model_module_version": "1.2.0",
            "_model_name": "LayoutModel",
            "_view_count": null,
            "_view_module": "@jupyter-widgets/base",
            "_view_module_version": "1.2.0",
            "_view_name": "LayoutView",
            "align_content": null,
            "align_items": null,
            "align_self": null,
            "border": null,
            "bottom": null,
            "display": null,
            "flex": null,
            "flex_flow": null,
            "grid_area": null,
            "grid_auto_columns": null,
            "grid_auto_flow": null,
            "grid_auto_rows": null,
            "grid_column": null,
            "grid_gap": null,
            "grid_row": null,
            "grid_template_areas": null,
            "grid_template_columns": null,
            "grid_template_rows": null,
            "height": null,
            "justify_content": null,
            "justify_items": null,
            "left": null,
            "margin": null,
            "max_height": null,
            "max_width": null,
            "min_height": null,
            "min_width": null,
            "object_fit": null,
            "object_position": null,
            "order": null,
            "overflow": null,
            "overflow_x": null,
            "overflow_y": null,
            "padding": null,
            "right": null,
            "top": null,
            "visibility": null,
            "width": null
          }
        },
        "5ca38ad0652b4d27ba646d6b55298498": {
          "model_module": "@jupyter-widgets/controls",
          "model_name": "DescriptionStyleModel",
          "model_module_version": "1.5.0",
          "state": {
            "_model_module": "@jupyter-widgets/controls",
            "_model_module_version": "1.5.0",
            "_model_name": "DescriptionStyleModel",
            "_view_count": null,
            "_view_module": "@jupyter-widgets/base",
            "_view_module_version": "1.2.0",
            "_view_name": "StyleView",
            "description_width": ""
          }
        },
        "84c3f51a7956477eaa1c9ecdeba5c00a": {
          "model_module": "@jupyter-widgets/base",
          "model_name": "LayoutModel",
          "model_module_version": "1.2.0",
          "state": {
            "_model_module": "@jupyter-widgets/base",
            "_model_module_version": "1.2.0",
            "_model_name": "LayoutModel",
            "_view_count": null,
            "_view_module": "@jupyter-widgets/base",
            "_view_module_version": "1.2.0",
            "_view_name": "LayoutView",
            "align_content": null,
            "align_items": null,
            "align_self": null,
            "border": null,
            "bottom": null,
            "display": null,
            "flex": null,
            "flex_flow": null,
            "grid_area": null,
            "grid_auto_columns": null,
            "grid_auto_flow": null,
            "grid_auto_rows": null,
            "grid_column": null,
            "grid_gap": null,
            "grid_row": null,
            "grid_template_areas": null,
            "grid_template_columns": null,
            "grid_template_rows": null,
            "height": null,
            "justify_content": null,
            "justify_items": null,
            "left": null,
            "margin": null,
            "max_height": null,
            "max_width": null,
            "min_height": null,
            "min_width": null,
            "object_fit": null,
            "object_position": null,
            "order": null,
            "overflow": null,
            "overflow_x": null,
            "overflow_y": null,
            "padding": null,
            "right": null,
            "top": null,
            "visibility": null,
            "width": null
          }
        },
        "1eb4c98ebb084e8898b793265738b7fc": {
          "model_module": "@jupyter-widgets/controls",
          "model_name": "ButtonStyleModel",
          "model_module_version": "1.5.0",
          "state": {
            "_model_module": "@jupyter-widgets/controls",
            "_model_module_version": "1.5.0",
            "_model_name": "ButtonStyleModel",
            "_view_count": null,
            "_view_module": "@jupyter-widgets/base",
            "_view_module_version": "1.2.0",
            "_view_name": "StyleView",
            "button_color": null,
            "font_weight": ""
          }
        },
        "aadac5aba97941f4922c2cdb74dadc6f": {
          "model_module": "@jupyter-widgets/controls",
          "model_name": "HBoxModel",
          "model_module_version": "1.5.0",
          "state": {
            "_dom_classes": [],
            "_model_module": "@jupyter-widgets/controls",
            "_model_module_version": "1.5.0",
            "_model_name": "HBoxModel",
            "_view_count": null,
            "_view_module": "@jupyter-widgets/controls",
            "_view_module_version": "1.5.0",
            "_view_name": "HBoxView",
            "box_style": "",
            "children": [
              "IPY_MODEL_4b4bd3b71ffc46deaeaed4d7ad7a768e",
              "IPY_MODEL_e225f2981fe7472d899a1fff0eb6bb8a",
              "IPY_MODEL_8ba58dd1b97644869a58a1b5a390e96d"
            ],
            "layout": "IPY_MODEL_dc086ef489044898b7ec0830d8175f56"
          }
        },
        "4b4bd3b71ffc46deaeaed4d7ad7a768e": {
          "model_module": "@jupyter-widgets/controls",
          "model_name": "HTMLModel",
          "model_module_version": "1.5.0",
          "state": {
            "_dom_classes": [],
            "_model_module": "@jupyter-widgets/controls",
            "_model_module_version": "1.5.0",
            "_model_name": "HTMLModel",
            "_view_count": null,
            "_view_module": "@jupyter-widgets/controls",
            "_view_module_version": "1.5.0",
            "_view_name": "HTMLView",
            "description": "",
            "description_tooltip": null,
            "layout": "IPY_MODEL_a579ecba69ff45c096f3e1dabb535209",
            "placeholder": "​",
            "style": "IPY_MODEL_1e596bd81f984654b5e965a9e8159caf",
            "value": "100%"
          }
        },
        "e225f2981fe7472d899a1fff0eb6bb8a": {
          "model_module": "@jupyter-widgets/controls",
          "model_name": "FloatProgressModel",
          "model_module_version": "1.5.0",
          "state": {
            "_dom_classes": [],
            "_model_module": "@jupyter-widgets/controls",
            "_model_module_version": "1.5.0",
            "_model_name": "FloatProgressModel",
            "_view_count": null,
            "_view_module": "@jupyter-widgets/controls",
            "_view_module_version": "1.5.0",
            "_view_name": "ProgressView",
            "bar_style": "success",
            "description": "",
            "description_tooltip": null,
            "layout": "IPY_MODEL_162b2b0630244c2182042899074c222d",
            "max": 2,
            "min": 0,
            "orientation": "horizontal",
            "style": "IPY_MODEL_425c9b6bd9f74bfbbc1d72ffdceec0d0",
            "value": 2
          }
        },
        "8ba58dd1b97644869a58a1b5a390e96d": {
          "model_module": "@jupyter-widgets/controls",
          "model_name": "HTMLModel",
          "model_module_version": "1.5.0",
          "state": {
            "_dom_classes": [],
            "_model_module": "@jupyter-widgets/controls",
            "_model_module_version": "1.5.0",
            "_model_name": "HTMLModel",
            "_view_count": null,
            "_view_module": "@jupyter-widgets/controls",
            "_view_module_version": "1.5.0",
            "_view_name": "HTMLView",
            "description": "",
            "description_tooltip": null,
            "layout": "IPY_MODEL_4c2a4d2dadf5422aba969cd5ab6eb762",
            "placeholder": "​",
            "style": "IPY_MODEL_3a1fb95b6101460fa5925cab3ba86cf6",
            "value": " 2/2 [00:00&lt;00:00, 61.66it/s]"
          }
        },
        "dc086ef489044898b7ec0830d8175f56": {
          "model_module": "@jupyter-widgets/base",
          "model_name": "LayoutModel",
          "model_module_version": "1.2.0",
          "state": {
            "_model_module": "@jupyter-widgets/base",
            "_model_module_version": "1.2.0",
            "_model_name": "LayoutModel",
            "_view_count": null,
            "_view_module": "@jupyter-widgets/base",
            "_view_module_version": "1.2.0",
            "_view_name": "LayoutView",
            "align_content": null,
            "align_items": null,
            "align_self": null,
            "border": null,
            "bottom": null,
            "display": null,
            "flex": null,
            "flex_flow": null,
            "grid_area": null,
            "grid_auto_columns": null,
            "grid_auto_flow": null,
            "grid_auto_rows": null,
            "grid_column": null,
            "grid_gap": null,
            "grid_row": null,
            "grid_template_areas": null,
            "grid_template_columns": null,
            "grid_template_rows": null,
            "height": null,
            "justify_content": null,
            "justify_items": null,
            "left": null,
            "margin": null,
            "max_height": null,
            "max_width": null,
            "min_height": null,
            "min_width": null,
            "object_fit": null,
            "object_position": null,
            "order": null,
            "overflow": null,
            "overflow_x": null,
            "overflow_y": null,
            "padding": null,
            "right": null,
            "top": null,
            "visibility": null,
            "width": null
          }
        },
        "a579ecba69ff45c096f3e1dabb535209": {
          "model_module": "@jupyter-widgets/base",
          "model_name": "LayoutModel",
          "model_module_version": "1.2.0",
          "state": {
            "_model_module": "@jupyter-widgets/base",
            "_model_module_version": "1.2.0",
            "_model_name": "LayoutModel",
            "_view_count": null,
            "_view_module": "@jupyter-widgets/base",
            "_view_module_version": "1.2.0",
            "_view_name": "LayoutView",
            "align_content": null,
            "align_items": null,
            "align_self": null,
            "border": null,
            "bottom": null,
            "display": null,
            "flex": null,
            "flex_flow": null,
            "grid_area": null,
            "grid_auto_columns": null,
            "grid_auto_flow": null,
            "grid_auto_rows": null,
            "grid_column": null,
            "grid_gap": null,
            "grid_row": null,
            "grid_template_areas": null,
            "grid_template_columns": null,
            "grid_template_rows": null,
            "height": null,
            "justify_content": null,
            "justify_items": null,
            "left": null,
            "margin": null,
            "max_height": null,
            "max_width": null,
            "min_height": null,
            "min_width": null,
            "object_fit": null,
            "object_position": null,
            "order": null,
            "overflow": null,
            "overflow_x": null,
            "overflow_y": null,
            "padding": null,
            "right": null,
            "top": null,
            "visibility": null,
            "width": null
          }
        },
        "1e596bd81f984654b5e965a9e8159caf": {
          "model_module": "@jupyter-widgets/controls",
          "model_name": "DescriptionStyleModel",
          "model_module_version": "1.5.0",
          "state": {
            "_model_module": "@jupyter-widgets/controls",
            "_model_module_version": "1.5.0",
            "_model_name": "DescriptionStyleModel",
            "_view_count": null,
            "_view_module": "@jupyter-widgets/base",
            "_view_module_version": "1.2.0",
            "_view_name": "StyleView",
            "description_width": ""
          }
        },
        "162b2b0630244c2182042899074c222d": {
          "model_module": "@jupyter-widgets/base",
          "model_name": "LayoutModel",
          "model_module_version": "1.2.0",
          "state": {
            "_model_module": "@jupyter-widgets/base",
            "_model_module_version": "1.2.0",
            "_model_name": "LayoutModel",
            "_view_count": null,
            "_view_module": "@jupyter-widgets/base",
            "_view_module_version": "1.2.0",
            "_view_name": "LayoutView",
            "align_content": null,
            "align_items": null,
            "align_self": null,
            "border": null,
            "bottom": null,
            "display": null,
            "flex": null,
            "flex_flow": null,
            "grid_area": null,
            "grid_auto_columns": null,
            "grid_auto_flow": null,
            "grid_auto_rows": null,
            "grid_column": null,
            "grid_gap": null,
            "grid_row": null,
            "grid_template_areas": null,
            "grid_template_columns": null,
            "grid_template_rows": null,
            "height": null,
            "justify_content": null,
            "justify_items": null,
            "left": null,
            "margin": null,
            "max_height": null,
            "max_width": null,
            "min_height": null,
            "min_width": null,
            "object_fit": null,
            "object_position": null,
            "order": null,
            "overflow": null,
            "overflow_x": null,
            "overflow_y": null,
            "padding": null,
            "right": null,
            "top": null,
            "visibility": null,
            "width": null
          }
        },
        "425c9b6bd9f74bfbbc1d72ffdceec0d0": {
          "model_module": "@jupyter-widgets/controls",
          "model_name": "ProgressStyleModel",
          "model_module_version": "1.5.0",
          "state": {
            "_model_module": "@jupyter-widgets/controls",
            "_model_module_version": "1.5.0",
            "_model_name": "ProgressStyleModel",
            "_view_count": null,
            "_view_module": "@jupyter-widgets/base",
            "_view_module_version": "1.2.0",
            "_view_name": "StyleView",
            "bar_color": null,
            "description_width": ""
          }
        },
        "4c2a4d2dadf5422aba969cd5ab6eb762": {
          "model_module": "@jupyter-widgets/base",
          "model_name": "LayoutModel",
          "model_module_version": "1.2.0",
          "state": {
            "_model_module": "@jupyter-widgets/base",
            "_model_module_version": "1.2.0",
            "_model_name": "LayoutModel",
            "_view_count": null,
            "_view_module": "@jupyter-widgets/base",
            "_view_module_version": "1.2.0",
            "_view_name": "LayoutView",
            "align_content": null,
            "align_items": null,
            "align_self": null,
            "border": null,
            "bottom": null,
            "display": null,
            "flex": null,
            "flex_flow": null,
            "grid_area": null,
            "grid_auto_columns": null,
            "grid_auto_flow": null,
            "grid_auto_rows": null,
            "grid_column": null,
            "grid_gap": null,
            "grid_row": null,
            "grid_template_areas": null,
            "grid_template_columns": null,
            "grid_template_rows": null,
            "height": null,
            "justify_content": null,
            "justify_items": null,
            "left": null,
            "margin": null,
            "max_height": null,
            "max_width": null,
            "min_height": null,
            "min_width": null,
            "object_fit": null,
            "object_position": null,
            "order": null,
            "overflow": null,
            "overflow_x": null,
            "overflow_y": null,
            "padding": null,
            "right": null,
            "top": null,
            "visibility": null,
            "width": null
          }
        },
        "3a1fb95b6101460fa5925cab3ba86cf6": {
          "model_module": "@jupyter-widgets/controls",
          "model_name": "DescriptionStyleModel",
          "model_module_version": "1.5.0",
          "state": {
            "_model_module": "@jupyter-widgets/controls",
            "_model_module_version": "1.5.0",
            "_model_name": "DescriptionStyleModel",
            "_view_count": null,
            "_view_module": "@jupyter-widgets/base",
            "_view_module_version": "1.2.0",
            "_view_name": "StyleView",
            "description_width": ""
          }
        },
        "92b0669ac4c34f3daa4dac1eb3d12b1d": {
          "model_module": "@jupyter-widgets/controls",
          "model_name": "HBoxModel",
          "model_module_version": "1.5.0",
          "state": {
            "_dom_classes": [],
            "_model_module": "@jupyter-widgets/controls",
            "_model_module_version": "1.5.0",
            "_model_name": "HBoxModel",
            "_view_count": null,
            "_view_module": "@jupyter-widgets/controls",
            "_view_module_version": "1.5.0",
            "_view_name": "HBoxView",
            "box_style": "",
            "children": [
              "IPY_MODEL_cc5ef0d5c963487e9f630101ba0d9572",
              "IPY_MODEL_5929b873c33d4c559b36935102f33e78",
              "IPY_MODEL_21ceaf0f53d444c396801784d3f1db45"
            ],
            "layout": "IPY_MODEL_1decb0d7a7504439825a6e12c21fe8ed"
          }
        },
        "cc5ef0d5c963487e9f630101ba0d9572": {
          "model_module": "@jupyter-widgets/controls",
          "model_name": "HTMLModel",
          "model_module_version": "1.5.0",
          "state": {
            "_dom_classes": [],
            "_model_module": "@jupyter-widgets/controls",
            "_model_module_version": "1.5.0",
            "_model_name": "HTMLModel",
            "_view_count": null,
            "_view_module": "@jupyter-widgets/controls",
            "_view_module_version": "1.5.0",
            "_view_name": "HTMLView",
            "description": "",
            "description_tooltip": null,
            "layout": "IPY_MODEL_285447fa0e1e4ae8b5346477ad397ceb",
            "placeholder": "​",
            "style": "IPY_MODEL_381bc655291b4effaa6460f7476b0e9b",
            "value": "100%"
          }
        },
        "5929b873c33d4c559b36935102f33e78": {
          "model_module": "@jupyter-widgets/controls",
          "model_name": "FloatProgressModel",
          "model_module_version": "1.5.0",
          "state": {
            "_dom_classes": [],
            "_model_module": "@jupyter-widgets/controls",
            "_model_module_version": "1.5.0",
            "_model_name": "FloatProgressModel",
            "_view_count": null,
            "_view_module": "@jupyter-widgets/controls",
            "_view_module_version": "1.5.0",
            "_view_name": "ProgressView",
            "bar_style": "success",
            "description": "",
            "description_tooltip": null,
            "layout": "IPY_MODEL_8f88e6872d3d45fca03ed5b89d67e6ab",
            "max": 1,
            "min": 0,
            "orientation": "horizontal",
            "style": "IPY_MODEL_68b713049fff4a10a14344a5ec358d5c",
            "value": 1
          }
        },
        "21ceaf0f53d444c396801784d3f1db45": {
          "model_module": "@jupyter-widgets/controls",
          "model_name": "HTMLModel",
          "model_module_version": "1.5.0",
          "state": {
            "_dom_classes": [],
            "_model_module": "@jupyter-widgets/controls",
            "_model_module_version": "1.5.0",
            "_model_name": "HTMLModel",
            "_view_count": null,
            "_view_module": "@jupyter-widgets/controls",
            "_view_module_version": "1.5.0",
            "_view_name": "HTMLView",
            "description": "",
            "description_tooltip": null,
            "layout": "IPY_MODEL_7802f2a76e6b4435b4c9c8bb1d40e28e",
            "placeholder": "​",
            "style": "IPY_MODEL_6013756a6b204b368184e09e40a4567c",
            "value": " 1/1 [00:00&lt;00:00, 14.90ba/s]"
          }
        },
        "1decb0d7a7504439825a6e12c21fe8ed": {
          "model_module": "@jupyter-widgets/base",
          "model_name": "LayoutModel",
          "model_module_version": "1.2.0",
          "state": {
            "_model_module": "@jupyter-widgets/base",
            "_model_module_version": "1.2.0",
            "_model_name": "LayoutModel",
            "_view_count": null,
            "_view_module": "@jupyter-widgets/base",
            "_view_module_version": "1.2.0",
            "_view_name": "LayoutView",
            "align_content": null,
            "align_items": null,
            "align_self": null,
            "border": null,
            "bottom": null,
            "display": null,
            "flex": null,
            "flex_flow": null,
            "grid_area": null,
            "grid_auto_columns": null,
            "grid_auto_flow": null,
            "grid_auto_rows": null,
            "grid_column": null,
            "grid_gap": null,
            "grid_row": null,
            "grid_template_areas": null,
            "grid_template_columns": null,
            "grid_template_rows": null,
            "height": null,
            "justify_content": null,
            "justify_items": null,
            "left": null,
            "margin": null,
            "max_height": null,
            "max_width": null,
            "min_height": null,
            "min_width": null,
            "object_fit": null,
            "object_position": null,
            "order": null,
            "overflow": null,
            "overflow_x": null,
            "overflow_y": null,
            "padding": null,
            "right": null,
            "top": null,
            "visibility": null,
            "width": null
          }
        },
        "285447fa0e1e4ae8b5346477ad397ceb": {
          "model_module": "@jupyter-widgets/base",
          "model_name": "LayoutModel",
          "model_module_version": "1.2.0",
          "state": {
            "_model_module": "@jupyter-widgets/base",
            "_model_module_version": "1.2.0",
            "_model_name": "LayoutModel",
            "_view_count": null,
            "_view_module": "@jupyter-widgets/base",
            "_view_module_version": "1.2.0",
            "_view_name": "LayoutView",
            "align_content": null,
            "align_items": null,
            "align_self": null,
            "border": null,
            "bottom": null,
            "display": null,
            "flex": null,
            "flex_flow": null,
            "grid_area": null,
            "grid_auto_columns": null,
            "grid_auto_flow": null,
            "grid_auto_rows": null,
            "grid_column": null,
            "grid_gap": null,
            "grid_row": null,
            "grid_template_areas": null,
            "grid_template_columns": null,
            "grid_template_rows": null,
            "height": null,
            "justify_content": null,
            "justify_items": null,
            "left": null,
            "margin": null,
            "max_height": null,
            "max_width": null,
            "min_height": null,
            "min_width": null,
            "object_fit": null,
            "object_position": null,
            "order": null,
            "overflow": null,
            "overflow_x": null,
            "overflow_y": null,
            "padding": null,
            "right": null,
            "top": null,
            "visibility": null,
            "width": null
          }
        },
        "381bc655291b4effaa6460f7476b0e9b": {
          "model_module": "@jupyter-widgets/controls",
          "model_name": "DescriptionStyleModel",
          "model_module_version": "1.5.0",
          "state": {
            "_model_module": "@jupyter-widgets/controls",
            "_model_module_version": "1.5.0",
            "_model_name": "DescriptionStyleModel",
            "_view_count": null,
            "_view_module": "@jupyter-widgets/base",
            "_view_module_version": "1.2.0",
            "_view_name": "StyleView",
            "description_width": ""
          }
        },
        "8f88e6872d3d45fca03ed5b89d67e6ab": {
          "model_module": "@jupyter-widgets/base",
          "model_name": "LayoutModel",
          "model_module_version": "1.2.0",
          "state": {
            "_model_module": "@jupyter-widgets/base",
            "_model_module_version": "1.2.0",
            "_model_name": "LayoutModel",
            "_view_count": null,
            "_view_module": "@jupyter-widgets/base",
            "_view_module_version": "1.2.0",
            "_view_name": "LayoutView",
            "align_content": null,
            "align_items": null,
            "align_self": null,
            "border": null,
            "bottom": null,
            "display": null,
            "flex": null,
            "flex_flow": null,
            "grid_area": null,
            "grid_auto_columns": null,
            "grid_auto_flow": null,
            "grid_auto_rows": null,
            "grid_column": null,
            "grid_gap": null,
            "grid_row": null,
            "grid_template_areas": null,
            "grid_template_columns": null,
            "grid_template_rows": null,
            "height": null,
            "justify_content": null,
            "justify_items": null,
            "left": null,
            "margin": null,
            "max_height": null,
            "max_width": null,
            "min_height": null,
            "min_width": null,
            "object_fit": null,
            "object_position": null,
            "order": null,
            "overflow": null,
            "overflow_x": null,
            "overflow_y": null,
            "padding": null,
            "right": null,
            "top": null,
            "visibility": null,
            "width": null
          }
        },
        "68b713049fff4a10a14344a5ec358d5c": {
          "model_module": "@jupyter-widgets/controls",
          "model_name": "ProgressStyleModel",
          "model_module_version": "1.5.0",
          "state": {
            "_model_module": "@jupyter-widgets/controls",
            "_model_module_version": "1.5.0",
            "_model_name": "ProgressStyleModel",
            "_view_count": null,
            "_view_module": "@jupyter-widgets/base",
            "_view_module_version": "1.2.0",
            "_view_name": "StyleView",
            "bar_color": null,
            "description_width": ""
          }
        },
        "7802f2a76e6b4435b4c9c8bb1d40e28e": {
          "model_module": "@jupyter-widgets/base",
          "model_name": "LayoutModel",
          "model_module_version": "1.2.0",
          "state": {
            "_model_module": "@jupyter-widgets/base",
            "_model_module_version": "1.2.0",
            "_model_name": "LayoutModel",
            "_view_count": null,
            "_view_module": "@jupyter-widgets/base",
            "_view_module_version": "1.2.0",
            "_view_name": "LayoutView",
            "align_content": null,
            "align_items": null,
            "align_self": null,
            "border": null,
            "bottom": null,
            "display": null,
            "flex": null,
            "flex_flow": null,
            "grid_area": null,
            "grid_auto_columns": null,
            "grid_auto_flow": null,
            "grid_auto_rows": null,
            "grid_column": null,
            "grid_gap": null,
            "grid_row": null,
            "grid_template_areas": null,
            "grid_template_columns": null,
            "grid_template_rows": null,
            "height": null,
            "justify_content": null,
            "justify_items": null,
            "left": null,
            "margin": null,
            "max_height": null,
            "max_width": null,
            "min_height": null,
            "min_width": null,
            "object_fit": null,
            "object_position": null,
            "order": null,
            "overflow": null,
            "overflow_x": null,
            "overflow_y": null,
            "padding": null,
            "right": null,
            "top": null,
            "visibility": null,
            "width": null
          }
        },
        "6013756a6b204b368184e09e40a4567c": {
          "model_module": "@jupyter-widgets/controls",
          "model_name": "DescriptionStyleModel",
          "model_module_version": "1.5.0",
          "state": {
            "_model_module": "@jupyter-widgets/controls",
            "_model_module_version": "1.5.0",
            "_model_name": "DescriptionStyleModel",
            "_view_count": null,
            "_view_module": "@jupyter-widgets/base",
            "_view_module_version": "1.2.0",
            "_view_name": "StyleView",
            "description_width": ""
          }
        },
        "aaf920d2593846b1bc5824c610167721": {
          "model_module": "@jupyter-widgets/controls",
          "model_name": "HBoxModel",
          "model_module_version": "1.5.0",
          "state": {
            "_dom_classes": [],
            "_model_module": "@jupyter-widgets/controls",
            "_model_module_version": "1.5.0",
            "_model_name": "HBoxModel",
            "_view_count": null,
            "_view_module": "@jupyter-widgets/controls",
            "_view_module_version": "1.5.0",
            "_view_name": "HBoxView",
            "box_style": "",
            "children": [
              "IPY_MODEL_c9126b3964f141a2af5c611c339e8156",
              "IPY_MODEL_2d8e6e61f14f4cba8bd07e73ca868caf",
              "IPY_MODEL_efe617968ca54b26b0048c7d20af1ba8"
            ],
            "layout": "IPY_MODEL_821399caca9242eca44d7232edafe213"
          }
        },
        "c9126b3964f141a2af5c611c339e8156": {
          "model_module": "@jupyter-widgets/controls",
          "model_name": "HTMLModel",
          "model_module_version": "1.5.0",
          "state": {
            "_dom_classes": [],
            "_model_module": "@jupyter-widgets/controls",
            "_model_module_version": "1.5.0",
            "_model_name": "HTMLModel",
            "_view_count": null,
            "_view_module": "@jupyter-widgets/controls",
            "_view_module_version": "1.5.0",
            "_view_name": "HTMLView",
            "description": "",
            "description_tooltip": null,
            "layout": "IPY_MODEL_b3a6d272dc4940b4824c86b22068d8f8",
            "placeholder": "​",
            "style": "IPY_MODEL_0c34c7a51c284cda95a8848bad451603",
            "value": "100%"
          }
        },
        "2d8e6e61f14f4cba8bd07e73ca868caf": {
          "model_module": "@jupyter-widgets/controls",
          "model_name": "FloatProgressModel",
          "model_module_version": "1.5.0",
          "state": {
            "_dom_classes": [],
            "_model_module": "@jupyter-widgets/controls",
            "_model_module_version": "1.5.0",
            "_model_name": "FloatProgressModel",
            "_view_count": null,
            "_view_module": "@jupyter-widgets/controls",
            "_view_module_version": "1.5.0",
            "_view_name": "ProgressView",
            "bar_style": "success",
            "description": "",
            "description_tooltip": null,
            "layout": "IPY_MODEL_28e9858f73c3469aaf7e94c819bc5304",
            "max": 1,
            "min": 0,
            "orientation": "horizontal",
            "style": "IPY_MODEL_9ad678ebacc941e78a97b0bd728819eb",
            "value": 1
          }
        },
        "efe617968ca54b26b0048c7d20af1ba8": {
          "model_module": "@jupyter-widgets/controls",
          "model_name": "HTMLModel",
          "model_module_version": "1.5.0",
          "state": {
            "_dom_classes": [],
            "_model_module": "@jupyter-widgets/controls",
            "_model_module_version": "1.5.0",
            "_model_name": "HTMLModel",
            "_view_count": null,
            "_view_module": "@jupyter-widgets/controls",
            "_view_module_version": "1.5.0",
            "_view_name": "HTMLView",
            "description": "",
            "description_tooltip": null,
            "layout": "IPY_MODEL_29bc21f75fe84b62861e859304a70a4c",
            "placeholder": "​",
            "style": "IPY_MODEL_dc7b87eab1a344be9c6c29e92e7278b8",
            "value": " 1/1 [00:00&lt;00:00, 25.91ba/s]"
          }
        },
        "821399caca9242eca44d7232edafe213": {
          "model_module": "@jupyter-widgets/base",
          "model_name": "LayoutModel",
          "model_module_version": "1.2.0",
          "state": {
            "_model_module": "@jupyter-widgets/base",
            "_model_module_version": "1.2.0",
            "_model_name": "LayoutModel",
            "_view_count": null,
            "_view_module": "@jupyter-widgets/base",
            "_view_module_version": "1.2.0",
            "_view_name": "LayoutView",
            "align_content": null,
            "align_items": null,
            "align_self": null,
            "border": null,
            "bottom": null,
            "display": null,
            "flex": null,
            "flex_flow": null,
            "grid_area": null,
            "grid_auto_columns": null,
            "grid_auto_flow": null,
            "grid_auto_rows": null,
            "grid_column": null,
            "grid_gap": null,
            "grid_row": null,
            "grid_template_areas": null,
            "grid_template_columns": null,
            "grid_template_rows": null,
            "height": null,
            "justify_content": null,
            "justify_items": null,
            "left": null,
            "margin": null,
            "max_height": null,
            "max_width": null,
            "min_height": null,
            "min_width": null,
            "object_fit": null,
            "object_position": null,
            "order": null,
            "overflow": null,
            "overflow_x": null,
            "overflow_y": null,
            "padding": null,
            "right": null,
            "top": null,
            "visibility": null,
            "width": null
          }
        },
        "b3a6d272dc4940b4824c86b22068d8f8": {
          "model_module": "@jupyter-widgets/base",
          "model_name": "LayoutModel",
          "model_module_version": "1.2.0",
          "state": {
            "_model_module": "@jupyter-widgets/base",
            "_model_module_version": "1.2.0",
            "_model_name": "LayoutModel",
            "_view_count": null,
            "_view_module": "@jupyter-widgets/base",
            "_view_module_version": "1.2.0",
            "_view_name": "LayoutView",
            "align_content": null,
            "align_items": null,
            "align_self": null,
            "border": null,
            "bottom": null,
            "display": null,
            "flex": null,
            "flex_flow": null,
            "grid_area": null,
            "grid_auto_columns": null,
            "grid_auto_flow": null,
            "grid_auto_rows": null,
            "grid_column": null,
            "grid_gap": null,
            "grid_row": null,
            "grid_template_areas": null,
            "grid_template_columns": null,
            "grid_template_rows": null,
            "height": null,
            "justify_content": null,
            "justify_items": null,
            "left": null,
            "margin": null,
            "max_height": null,
            "max_width": null,
            "min_height": null,
            "min_width": null,
            "object_fit": null,
            "object_position": null,
            "order": null,
            "overflow": null,
            "overflow_x": null,
            "overflow_y": null,
            "padding": null,
            "right": null,
            "top": null,
            "visibility": null,
            "width": null
          }
        },
        "0c34c7a51c284cda95a8848bad451603": {
          "model_module": "@jupyter-widgets/controls",
          "model_name": "DescriptionStyleModel",
          "model_module_version": "1.5.0",
          "state": {
            "_model_module": "@jupyter-widgets/controls",
            "_model_module_version": "1.5.0",
            "_model_name": "DescriptionStyleModel",
            "_view_count": null,
            "_view_module": "@jupyter-widgets/base",
            "_view_module_version": "1.2.0",
            "_view_name": "StyleView",
            "description_width": ""
          }
        },
        "28e9858f73c3469aaf7e94c819bc5304": {
          "model_module": "@jupyter-widgets/base",
          "model_name": "LayoutModel",
          "model_module_version": "1.2.0",
          "state": {
            "_model_module": "@jupyter-widgets/base",
            "_model_module_version": "1.2.0",
            "_model_name": "LayoutModel",
            "_view_count": null,
            "_view_module": "@jupyter-widgets/base",
            "_view_module_version": "1.2.0",
            "_view_name": "LayoutView",
            "align_content": null,
            "align_items": null,
            "align_self": null,
            "border": null,
            "bottom": null,
            "display": null,
            "flex": null,
            "flex_flow": null,
            "grid_area": null,
            "grid_auto_columns": null,
            "grid_auto_flow": null,
            "grid_auto_rows": null,
            "grid_column": null,
            "grid_gap": null,
            "grid_row": null,
            "grid_template_areas": null,
            "grid_template_columns": null,
            "grid_template_rows": null,
            "height": null,
            "justify_content": null,
            "justify_items": null,
            "left": null,
            "margin": null,
            "max_height": null,
            "max_width": null,
            "min_height": null,
            "min_width": null,
            "object_fit": null,
            "object_position": null,
            "order": null,
            "overflow": null,
            "overflow_x": null,
            "overflow_y": null,
            "padding": null,
            "right": null,
            "top": null,
            "visibility": null,
            "width": null
          }
        },
        "9ad678ebacc941e78a97b0bd728819eb": {
          "model_module": "@jupyter-widgets/controls",
          "model_name": "ProgressStyleModel",
          "model_module_version": "1.5.0",
          "state": {
            "_model_module": "@jupyter-widgets/controls",
            "_model_module_version": "1.5.0",
            "_model_name": "ProgressStyleModel",
            "_view_count": null,
            "_view_module": "@jupyter-widgets/base",
            "_view_module_version": "1.2.0",
            "_view_name": "StyleView",
            "bar_color": null,
            "description_width": ""
          }
        },
        "29bc21f75fe84b62861e859304a70a4c": {
          "model_module": "@jupyter-widgets/base",
          "model_name": "LayoutModel",
          "model_module_version": "1.2.0",
          "state": {
            "_model_module": "@jupyter-widgets/base",
            "_model_module_version": "1.2.0",
            "_model_name": "LayoutModel",
            "_view_count": null,
            "_view_module": "@jupyter-widgets/base",
            "_view_module_version": "1.2.0",
            "_view_name": "LayoutView",
            "align_content": null,
            "align_items": null,
            "align_self": null,
            "border": null,
            "bottom": null,
            "display": null,
            "flex": null,
            "flex_flow": null,
            "grid_area": null,
            "grid_auto_columns": null,
            "grid_auto_flow": null,
            "grid_auto_rows": null,
            "grid_column": null,
            "grid_gap": null,
            "grid_row": null,
            "grid_template_areas": null,
            "grid_template_columns": null,
            "grid_template_rows": null,
            "height": null,
            "justify_content": null,
            "justify_items": null,
            "left": null,
            "margin": null,
            "max_height": null,
            "max_width": null,
            "min_height": null,
            "min_width": null,
            "object_fit": null,
            "object_position": null,
            "order": null,
            "overflow": null,
            "overflow_x": null,
            "overflow_y": null,
            "padding": null,
            "right": null,
            "top": null,
            "visibility": null,
            "width": null
          }
        },
        "dc7b87eab1a344be9c6c29e92e7278b8": {
          "model_module": "@jupyter-widgets/controls",
          "model_name": "DescriptionStyleModel",
          "model_module_version": "1.5.0",
          "state": {
            "_model_module": "@jupyter-widgets/controls",
            "_model_module_version": "1.5.0",
            "_model_name": "DescriptionStyleModel",
            "_view_count": null,
            "_view_module": "@jupyter-widgets/base",
            "_view_module_version": "1.2.0",
            "_view_name": "StyleView",
            "description_width": ""
          }
        },
        "a7725ad7a1774178bba1b39b48bee36b": {
          "model_module": "@jupyter-widgets/controls",
          "model_name": "HBoxModel",
          "model_module_version": "1.5.0",
          "state": {
            "_dom_classes": [],
            "_model_module": "@jupyter-widgets/controls",
            "_model_module_version": "1.5.0",
            "_model_name": "HBoxModel",
            "_view_count": null,
            "_view_module": "@jupyter-widgets/controls",
            "_view_module_version": "1.5.0",
            "_view_name": "HBoxView",
            "box_style": "",
            "children": [
              "IPY_MODEL_acc6c975316f4fc9af3f449ccaf71646",
              "IPY_MODEL_2b48e3c58b284b32ae51a3c3afb13d85",
              "IPY_MODEL_7748d6bd4e224b3f836a06b321e72de0"
            ],
            "layout": "IPY_MODEL_b29aab47d701449181b8d8c715b09657"
          }
        },
        "acc6c975316f4fc9af3f449ccaf71646": {
          "model_module": "@jupyter-widgets/controls",
          "model_name": "HTMLModel",
          "model_module_version": "1.5.0",
          "state": {
            "_dom_classes": [],
            "_model_module": "@jupyter-widgets/controls",
            "_model_module_version": "1.5.0",
            "_model_name": "HTMLModel",
            "_view_count": null,
            "_view_module": "@jupyter-widgets/controls",
            "_view_module_version": "1.5.0",
            "_view_name": "HTMLView",
            "description": "",
            "description_tooltip": null,
            "layout": "IPY_MODEL_5cb2c62e3d6f426f8c17eec2fe6e23ae",
            "placeholder": "​",
            "style": "IPY_MODEL_f44a8453ba314ddbb153e1278eb59eec",
            "value": "Upload file pytorch_model.bin: 100%"
          }
        },
        "2b48e3c58b284b32ae51a3c3afb13d85": {
          "model_module": "@jupyter-widgets/controls",
          "model_name": "FloatProgressModel",
          "model_module_version": "1.5.0",
          "state": {
            "_dom_classes": [],
            "_model_module": "@jupyter-widgets/controls",
            "_model_module_version": "1.5.0",
            "_model_name": "FloatProgressModel",
            "_view_count": null,
            "_view_module": "@jupyter-widgets/controls",
            "_view_module_version": "1.5.0",
            "_view_name": "ProgressView",
            "bar_style": "success",
            "description": "",
            "description_tooltip": null,
            "layout": "IPY_MODEL_6ba56300bd3240629256a72060f36fde",
            "max": 377671575,
            "min": 0,
            "orientation": "horizontal",
            "style": "IPY_MODEL_d8f4c2ce266a4a9284572af28ad9ad1c",
            "value": 377671575
          }
        },
        "7748d6bd4e224b3f836a06b321e72de0": {
          "model_module": "@jupyter-widgets/controls",
          "model_name": "HTMLModel",
          "model_module_version": "1.5.0",
          "state": {
            "_dom_classes": [],
            "_model_module": "@jupyter-widgets/controls",
            "_model_module_version": "1.5.0",
            "_model_name": "HTMLModel",
            "_view_count": null,
            "_view_module": "@jupyter-widgets/controls",
            "_view_module_version": "1.5.0",
            "_view_name": "HTMLView",
            "description": "",
            "description_tooltip": null,
            "layout": "IPY_MODEL_4cdbe067372b4c32bc782f966aea7f42",
            "placeholder": "​",
            "style": "IPY_MODEL_afe17562ac7948edab0233eb3804d9cb",
            "value": " 360M/360M [05:26&lt;00:00, 735kB/s]"
          }
        },
        "b29aab47d701449181b8d8c715b09657": {
          "model_module": "@jupyter-widgets/base",
          "model_name": "LayoutModel",
          "model_module_version": "1.2.0",
          "state": {
            "_model_module": "@jupyter-widgets/base",
            "_model_module_version": "1.2.0",
            "_model_name": "LayoutModel",
            "_view_count": null,
            "_view_module": "@jupyter-widgets/base",
            "_view_module_version": "1.2.0",
            "_view_name": "LayoutView",
            "align_content": null,
            "align_items": null,
            "align_self": null,
            "border": null,
            "bottom": null,
            "display": null,
            "flex": null,
            "flex_flow": null,
            "grid_area": null,
            "grid_auto_columns": null,
            "grid_auto_flow": null,
            "grid_auto_rows": null,
            "grid_column": null,
            "grid_gap": null,
            "grid_row": null,
            "grid_template_areas": null,
            "grid_template_columns": null,
            "grid_template_rows": null,
            "height": null,
            "justify_content": null,
            "justify_items": null,
            "left": null,
            "margin": null,
            "max_height": null,
            "max_width": null,
            "min_height": null,
            "min_width": null,
            "object_fit": null,
            "object_position": null,
            "order": null,
            "overflow": null,
            "overflow_x": null,
            "overflow_y": null,
            "padding": null,
            "right": null,
            "top": null,
            "visibility": null,
            "width": null
          }
        },
        "5cb2c62e3d6f426f8c17eec2fe6e23ae": {
          "model_module": "@jupyter-widgets/base",
          "model_name": "LayoutModel",
          "model_module_version": "1.2.0",
          "state": {
            "_model_module": "@jupyter-widgets/base",
            "_model_module_version": "1.2.0",
            "_model_name": "LayoutModel",
            "_view_count": null,
            "_view_module": "@jupyter-widgets/base",
            "_view_module_version": "1.2.0",
            "_view_name": "LayoutView",
            "align_content": null,
            "align_items": null,
            "align_self": null,
            "border": null,
            "bottom": null,
            "display": null,
            "flex": null,
            "flex_flow": null,
            "grid_area": null,
            "grid_auto_columns": null,
            "grid_auto_flow": null,
            "grid_auto_rows": null,
            "grid_column": null,
            "grid_gap": null,
            "grid_row": null,
            "grid_template_areas": null,
            "grid_template_columns": null,
            "grid_template_rows": null,
            "height": null,
            "justify_content": null,
            "justify_items": null,
            "left": null,
            "margin": null,
            "max_height": null,
            "max_width": null,
            "min_height": null,
            "min_width": null,
            "object_fit": null,
            "object_position": null,
            "order": null,
            "overflow": null,
            "overflow_x": null,
            "overflow_y": null,
            "padding": null,
            "right": null,
            "top": null,
            "visibility": null,
            "width": null
          }
        },
        "f44a8453ba314ddbb153e1278eb59eec": {
          "model_module": "@jupyter-widgets/controls",
          "model_name": "DescriptionStyleModel",
          "model_module_version": "1.5.0",
          "state": {
            "_model_module": "@jupyter-widgets/controls",
            "_model_module_version": "1.5.0",
            "_model_name": "DescriptionStyleModel",
            "_view_count": null,
            "_view_module": "@jupyter-widgets/base",
            "_view_module_version": "1.2.0",
            "_view_name": "StyleView",
            "description_width": ""
          }
        },
        "6ba56300bd3240629256a72060f36fde": {
          "model_module": "@jupyter-widgets/base",
          "model_name": "LayoutModel",
          "model_module_version": "1.2.0",
          "state": {
            "_model_module": "@jupyter-widgets/base",
            "_model_module_version": "1.2.0",
            "_model_name": "LayoutModel",
            "_view_count": null,
            "_view_module": "@jupyter-widgets/base",
            "_view_module_version": "1.2.0",
            "_view_name": "LayoutView",
            "align_content": null,
            "align_items": null,
            "align_self": null,
            "border": null,
            "bottom": null,
            "display": null,
            "flex": null,
            "flex_flow": null,
            "grid_area": null,
            "grid_auto_columns": null,
            "grid_auto_flow": null,
            "grid_auto_rows": null,
            "grid_column": null,
            "grid_gap": null,
            "grid_row": null,
            "grid_template_areas": null,
            "grid_template_columns": null,
            "grid_template_rows": null,
            "height": null,
            "justify_content": null,
            "justify_items": null,
            "left": null,
            "margin": null,
            "max_height": null,
            "max_width": null,
            "min_height": null,
            "min_width": null,
            "object_fit": null,
            "object_position": null,
            "order": null,
            "overflow": null,
            "overflow_x": null,
            "overflow_y": null,
            "padding": null,
            "right": null,
            "top": null,
            "visibility": null,
            "width": null
          }
        },
        "d8f4c2ce266a4a9284572af28ad9ad1c": {
          "model_module": "@jupyter-widgets/controls",
          "model_name": "ProgressStyleModel",
          "model_module_version": "1.5.0",
          "state": {
            "_model_module": "@jupyter-widgets/controls",
            "_model_module_version": "1.5.0",
            "_model_name": "ProgressStyleModel",
            "_view_count": null,
            "_view_module": "@jupyter-widgets/base",
            "_view_module_version": "1.2.0",
            "_view_name": "StyleView",
            "bar_color": null,
            "description_width": ""
          }
        },
        "4cdbe067372b4c32bc782f966aea7f42": {
          "model_module": "@jupyter-widgets/base",
          "model_name": "LayoutModel",
          "model_module_version": "1.2.0",
          "state": {
            "_model_module": "@jupyter-widgets/base",
            "_model_module_version": "1.2.0",
            "_model_name": "LayoutModel",
            "_view_count": null,
            "_view_module": "@jupyter-widgets/base",
            "_view_module_version": "1.2.0",
            "_view_name": "LayoutView",
            "align_content": null,
            "align_items": null,
            "align_self": null,
            "border": null,
            "bottom": null,
            "display": null,
            "flex": null,
            "flex_flow": null,
            "grid_area": null,
            "grid_auto_columns": null,
            "grid_auto_flow": null,
            "grid_auto_rows": null,
            "grid_column": null,
            "grid_gap": null,
            "grid_row": null,
            "grid_template_areas": null,
            "grid_template_columns": null,
            "grid_template_rows": null,
            "height": null,
            "justify_content": null,
            "justify_items": null,
            "left": null,
            "margin": null,
            "max_height": null,
            "max_width": null,
            "min_height": null,
            "min_width": null,
            "object_fit": null,
            "object_position": null,
            "order": null,
            "overflow": null,
            "overflow_x": null,
            "overflow_y": null,
            "padding": null,
            "right": null,
            "top": null,
            "visibility": null,
            "width": null
          }
        },
        "afe17562ac7948edab0233eb3804d9cb": {
          "model_module": "@jupyter-widgets/controls",
          "model_name": "DescriptionStyleModel",
          "model_module_version": "1.5.0",
          "state": {
            "_model_module": "@jupyter-widgets/controls",
            "_model_module_version": "1.5.0",
            "_model_name": "DescriptionStyleModel",
            "_view_count": null,
            "_view_module": "@jupyter-widgets/base",
            "_view_module_version": "1.2.0",
            "_view_name": "StyleView",
            "description_width": ""
          }
        },
        "00a02ff8b284413f853da9d7c41afedd": {
          "model_module": "@jupyter-widgets/controls",
          "model_name": "HBoxModel",
          "model_module_version": "1.5.0",
          "state": {
            "_dom_classes": [],
            "_model_module": "@jupyter-widgets/controls",
            "_model_module_version": "1.5.0",
            "_model_name": "HBoxModel",
            "_view_count": null,
            "_view_module": "@jupyter-widgets/controls",
            "_view_module_version": "1.5.0",
            "_view_name": "HBoxView",
            "box_style": "",
            "children": [
              "IPY_MODEL_73b586087e9447e688c97318bf6eba11",
              "IPY_MODEL_6ba8f8fde3fc4050a304df11cc1d2c7c",
              "IPY_MODEL_0ceb294ca03a4bf2ae5586ffbbb6f0fc"
            ],
            "layout": "IPY_MODEL_ffa2bd3495f54f1c81f15ebf50fd4fee"
          }
        },
        "73b586087e9447e688c97318bf6eba11": {
          "model_module": "@jupyter-widgets/controls",
          "model_name": "HTMLModel",
          "model_module_version": "1.5.0",
          "state": {
            "_dom_classes": [],
            "_model_module": "@jupyter-widgets/controls",
            "_model_module_version": "1.5.0",
            "_model_name": "HTMLModel",
            "_view_count": null,
            "_view_module": "@jupyter-widgets/controls",
            "_view_module_version": "1.5.0",
            "_view_name": "HTMLView",
            "description": "",
            "description_tooltip": null,
            "layout": "IPY_MODEL_e53ec4e8ee3d44bb8b3bdcf323335c8a",
            "placeholder": "​",
            "style": "IPY_MODEL_ceef78fab0024c578976ad6c589c0d7f",
            "value": "Upload file runs/May10_11-02-51_d58de38fbf77/1652180636.6085317/events.out.tfevents.1652180636.d58de38fbf77.96.3: 100%"
          }
        },
        "6ba8f8fde3fc4050a304df11cc1d2c7c": {
          "model_module": "@jupyter-widgets/controls",
          "model_name": "FloatProgressModel",
          "model_module_version": "1.5.0",
          "state": {
            "_dom_classes": [],
            "_model_module": "@jupyter-widgets/controls",
            "_model_module_version": "1.5.0",
            "_model_name": "FloatProgressModel",
            "_view_count": null,
            "_view_module": "@jupyter-widgets/controls",
            "_view_module_version": "1.5.0",
            "_view_name": "ProgressView",
            "bar_style": "success",
            "description": "",
            "description_tooltip": null,
            "layout": "IPY_MODEL_35a9027e670146f3a25db0d06035fd1b",
            "max": 4825,
            "min": 0,
            "orientation": "horizontal",
            "style": "IPY_MODEL_0cd65792216b4decaf24961bb33802d0",
            "value": 4825
          }
        },
        "0ceb294ca03a4bf2ae5586ffbbb6f0fc": {
          "model_module": "@jupyter-widgets/controls",
          "model_name": "HTMLModel",
          "model_module_version": "1.5.0",
          "state": {
            "_dom_classes": [],
            "_model_module": "@jupyter-widgets/controls",
            "_model_module_version": "1.5.0",
            "_model_name": "HTMLModel",
            "_view_count": null,
            "_view_module": "@jupyter-widgets/controls",
            "_view_module_version": "1.5.0",
            "_view_name": "HTMLView",
            "description": "",
            "description_tooltip": null,
            "layout": "IPY_MODEL_968f456d45ab4f25aeaf57b0c0ddc190",
            "placeholder": "​",
            "style": "IPY_MODEL_92ae2ab85efc40fa89da650ccbe85e21",
            "value": " 4.71k/4.71k [05:26&lt;00:00, 13.9kB/s]"
          }
        },
        "ffa2bd3495f54f1c81f15ebf50fd4fee": {
          "model_module": "@jupyter-widgets/base",
          "model_name": "LayoutModel",
          "model_module_version": "1.2.0",
          "state": {
            "_model_module": "@jupyter-widgets/base",
            "_model_module_version": "1.2.0",
            "_model_name": "LayoutModel",
            "_view_count": null,
            "_view_module": "@jupyter-widgets/base",
            "_view_module_version": "1.2.0",
            "_view_name": "LayoutView",
            "align_content": null,
            "align_items": null,
            "align_self": null,
            "border": null,
            "bottom": null,
            "display": null,
            "flex": null,
            "flex_flow": null,
            "grid_area": null,
            "grid_auto_columns": null,
            "grid_auto_flow": null,
            "grid_auto_rows": null,
            "grid_column": null,
            "grid_gap": null,
            "grid_row": null,
            "grid_template_areas": null,
            "grid_template_columns": null,
            "grid_template_rows": null,
            "height": null,
            "justify_content": null,
            "justify_items": null,
            "left": null,
            "margin": null,
            "max_height": null,
            "max_width": null,
            "min_height": null,
            "min_width": null,
            "object_fit": null,
            "object_position": null,
            "order": null,
            "overflow": null,
            "overflow_x": null,
            "overflow_y": null,
            "padding": null,
            "right": null,
            "top": null,
            "visibility": null,
            "width": null
          }
        },
        "e53ec4e8ee3d44bb8b3bdcf323335c8a": {
          "model_module": "@jupyter-widgets/base",
          "model_name": "LayoutModel",
          "model_module_version": "1.2.0",
          "state": {
            "_model_module": "@jupyter-widgets/base",
            "_model_module_version": "1.2.0",
            "_model_name": "LayoutModel",
            "_view_count": null,
            "_view_module": "@jupyter-widgets/base",
            "_view_module_version": "1.2.0",
            "_view_name": "LayoutView",
            "align_content": null,
            "align_items": null,
            "align_self": null,
            "border": null,
            "bottom": null,
            "display": null,
            "flex": null,
            "flex_flow": null,
            "grid_area": null,
            "grid_auto_columns": null,
            "grid_auto_flow": null,
            "grid_auto_rows": null,
            "grid_column": null,
            "grid_gap": null,
            "grid_row": null,
            "grid_template_areas": null,
            "grid_template_columns": null,
            "grid_template_rows": null,
            "height": null,
            "justify_content": null,
            "justify_items": null,
            "left": null,
            "margin": null,
            "max_height": null,
            "max_width": null,
            "min_height": null,
            "min_width": null,
            "object_fit": null,
            "object_position": null,
            "order": null,
            "overflow": null,
            "overflow_x": null,
            "overflow_y": null,
            "padding": null,
            "right": null,
            "top": null,
            "visibility": null,
            "width": null
          }
        },
        "ceef78fab0024c578976ad6c589c0d7f": {
          "model_module": "@jupyter-widgets/controls",
          "model_name": "DescriptionStyleModel",
          "model_module_version": "1.5.0",
          "state": {
            "_model_module": "@jupyter-widgets/controls",
            "_model_module_version": "1.5.0",
            "_model_name": "DescriptionStyleModel",
            "_view_count": null,
            "_view_module": "@jupyter-widgets/base",
            "_view_module_version": "1.2.0",
            "_view_name": "StyleView",
            "description_width": ""
          }
        },
        "35a9027e670146f3a25db0d06035fd1b": {
          "model_module": "@jupyter-widgets/base",
          "model_name": "LayoutModel",
          "model_module_version": "1.2.0",
          "state": {
            "_model_module": "@jupyter-widgets/base",
            "_model_module_version": "1.2.0",
            "_model_name": "LayoutModel",
            "_view_count": null,
            "_view_module": "@jupyter-widgets/base",
            "_view_module_version": "1.2.0",
            "_view_name": "LayoutView",
            "align_content": null,
            "align_items": null,
            "align_self": null,
            "border": null,
            "bottom": null,
            "display": null,
            "flex": null,
            "flex_flow": null,
            "grid_area": null,
            "grid_auto_columns": null,
            "grid_auto_flow": null,
            "grid_auto_rows": null,
            "grid_column": null,
            "grid_gap": null,
            "grid_row": null,
            "grid_template_areas": null,
            "grid_template_columns": null,
            "grid_template_rows": null,
            "height": null,
            "justify_content": null,
            "justify_items": null,
            "left": null,
            "margin": null,
            "max_height": null,
            "max_width": null,
            "min_height": null,
            "min_width": null,
            "object_fit": null,
            "object_position": null,
            "order": null,
            "overflow": null,
            "overflow_x": null,
            "overflow_y": null,
            "padding": null,
            "right": null,
            "top": null,
            "visibility": null,
            "width": null
          }
        },
        "0cd65792216b4decaf24961bb33802d0": {
          "model_module": "@jupyter-widgets/controls",
          "model_name": "ProgressStyleModel",
          "model_module_version": "1.5.0",
          "state": {
            "_model_module": "@jupyter-widgets/controls",
            "_model_module_version": "1.5.0",
            "_model_name": "ProgressStyleModel",
            "_view_count": null,
            "_view_module": "@jupyter-widgets/base",
            "_view_module_version": "1.2.0",
            "_view_name": "StyleView",
            "bar_color": null,
            "description_width": ""
          }
        },
        "968f456d45ab4f25aeaf57b0c0ddc190": {
          "model_module": "@jupyter-widgets/base",
          "model_name": "LayoutModel",
          "model_module_version": "1.2.0",
          "state": {
            "_model_module": "@jupyter-widgets/base",
            "_model_module_version": "1.2.0",
            "_model_name": "LayoutModel",
            "_view_count": null,
            "_view_module": "@jupyter-widgets/base",
            "_view_module_version": "1.2.0",
            "_view_name": "LayoutView",
            "align_content": null,
            "align_items": null,
            "align_self": null,
            "border": null,
            "bottom": null,
            "display": null,
            "flex": null,
            "flex_flow": null,
            "grid_area": null,
            "grid_auto_columns": null,
            "grid_auto_flow": null,
            "grid_auto_rows": null,
            "grid_column": null,
            "grid_gap": null,
            "grid_row": null,
            "grid_template_areas": null,
            "grid_template_columns": null,
            "grid_template_rows": null,
            "height": null,
            "justify_content": null,
            "justify_items": null,
            "left": null,
            "margin": null,
            "max_height": null,
            "max_width": null,
            "min_height": null,
            "min_width": null,
            "object_fit": null,
            "object_position": null,
            "order": null,
            "overflow": null,
            "overflow_x": null,
            "overflow_y": null,
            "padding": null,
            "right": null,
            "top": null,
            "visibility": null,
            "width": null
          }
        },
        "92ae2ab85efc40fa89da650ccbe85e21": {
          "model_module": "@jupyter-widgets/controls",
          "model_name": "DescriptionStyleModel",
          "model_module_version": "1.5.0",
          "state": {
            "_model_module": "@jupyter-widgets/controls",
            "_model_module_version": "1.5.0",
            "_model_name": "DescriptionStyleModel",
            "_view_count": null,
            "_view_module": "@jupyter-widgets/base",
            "_view_module_version": "1.2.0",
            "_view_name": "StyleView",
            "description_width": ""
          }
        },
        "e1a34af59be04546808279b6e673c498": {
          "model_module": "@jupyter-widgets/controls",
          "model_name": "HBoxModel",
          "model_module_version": "1.5.0",
          "state": {
            "_dom_classes": [],
            "_model_module": "@jupyter-widgets/controls",
            "_model_module_version": "1.5.0",
            "_model_name": "HBoxModel",
            "_view_count": null,
            "_view_module": "@jupyter-widgets/controls",
            "_view_module_version": "1.5.0",
            "_view_name": "HBoxView",
            "box_style": "",
            "children": [
              "IPY_MODEL_91a9bd637428473192d5ec47ba137268",
              "IPY_MODEL_f11e33bc060746758ad638204b71955c",
              "IPY_MODEL_ef69985b8f7c4662912a11a377e99b59"
            ],
            "layout": "IPY_MODEL_9721f00cdfc942e8ab8a4faf8080ef2d"
          }
        },
        "91a9bd637428473192d5ec47ba137268": {
          "model_module": "@jupyter-widgets/controls",
          "model_name": "HTMLModel",
          "model_module_version": "1.5.0",
          "state": {
            "_dom_classes": [],
            "_model_module": "@jupyter-widgets/controls",
            "_model_module_version": "1.5.0",
            "_model_name": "HTMLModel",
            "_view_count": null,
            "_view_module": "@jupyter-widgets/controls",
            "_view_module_version": "1.5.0",
            "_view_name": "HTMLView",
            "description": "",
            "description_tooltip": null,
            "layout": "IPY_MODEL_196c66080f944a61a537a0ddd9905248",
            "placeholder": "​",
            "style": "IPY_MODEL_e7d54319900548208c3852623ebc3dcf",
            "value": "Upload file training_args.bin: 100%"
          }
        },
        "f11e33bc060746758ad638204b71955c": {
          "model_module": "@jupyter-widgets/controls",
          "model_name": "FloatProgressModel",
          "model_module_version": "1.5.0",
          "state": {
            "_dom_classes": [],
            "_model_module": "@jupyter-widgets/controls",
            "_model_module_version": "1.5.0",
            "_model_name": "FloatProgressModel",
            "_view_count": null,
            "_view_module": "@jupyter-widgets/controls",
            "_view_module_version": "1.5.0",
            "_view_name": "ProgressView",
            "bar_style": "success",
            "description": "",
            "description_tooltip": null,
            "layout": "IPY_MODEL_adbd04cd03624b66a8c725f9a89647b6",
            "max": 3055,
            "min": 0,
            "orientation": "horizontal",
            "style": "IPY_MODEL_200b5fada23d45ff947953003d052605",
            "value": 3055
          }
        },
        "ef69985b8f7c4662912a11a377e99b59": {
          "model_module": "@jupyter-widgets/controls",
          "model_name": "HTMLModel",
          "model_module_version": "1.5.0",
          "state": {
            "_dom_classes": [],
            "_model_module": "@jupyter-widgets/controls",
            "_model_module_version": "1.5.0",
            "_model_name": "HTMLModel",
            "_view_count": null,
            "_view_module": "@jupyter-widgets/controls",
            "_view_module_version": "1.5.0",
            "_view_name": "HTMLView",
            "description": "",
            "description_tooltip": null,
            "layout": "IPY_MODEL_8c89f99cd7b9408eafbfbf8e0c56d39c",
            "placeholder": "​",
            "style": "IPY_MODEL_a40561b6f013481ba77fa137ab43b1c2",
            "value": " 2.98k/2.98k [05:26&lt;?, ?B/s]"
          }
        },
        "9721f00cdfc942e8ab8a4faf8080ef2d": {
          "model_module": "@jupyter-widgets/base",
          "model_name": "LayoutModel",
          "model_module_version": "1.2.0",
          "state": {
            "_model_module": "@jupyter-widgets/base",
            "_model_module_version": "1.2.0",
            "_model_name": "LayoutModel",
            "_view_count": null,
            "_view_module": "@jupyter-widgets/base",
            "_view_module_version": "1.2.0",
            "_view_name": "LayoutView",
            "align_content": null,
            "align_items": null,
            "align_self": null,
            "border": null,
            "bottom": null,
            "display": null,
            "flex": null,
            "flex_flow": null,
            "grid_area": null,
            "grid_auto_columns": null,
            "grid_auto_flow": null,
            "grid_auto_rows": null,
            "grid_column": null,
            "grid_gap": null,
            "grid_row": null,
            "grid_template_areas": null,
            "grid_template_columns": null,
            "grid_template_rows": null,
            "height": null,
            "justify_content": null,
            "justify_items": null,
            "left": null,
            "margin": null,
            "max_height": null,
            "max_width": null,
            "min_height": null,
            "min_width": null,
            "object_fit": null,
            "object_position": null,
            "order": null,
            "overflow": null,
            "overflow_x": null,
            "overflow_y": null,
            "padding": null,
            "right": null,
            "top": null,
            "visibility": null,
            "width": null
          }
        },
        "196c66080f944a61a537a0ddd9905248": {
          "model_module": "@jupyter-widgets/base",
          "model_name": "LayoutModel",
          "model_module_version": "1.2.0",
          "state": {
            "_model_module": "@jupyter-widgets/base",
            "_model_module_version": "1.2.0",
            "_model_name": "LayoutModel",
            "_view_count": null,
            "_view_module": "@jupyter-widgets/base",
            "_view_module_version": "1.2.0",
            "_view_name": "LayoutView",
            "align_content": null,
            "align_items": null,
            "align_self": null,
            "border": null,
            "bottom": null,
            "display": null,
            "flex": null,
            "flex_flow": null,
            "grid_area": null,
            "grid_auto_columns": null,
            "grid_auto_flow": null,
            "grid_auto_rows": null,
            "grid_column": null,
            "grid_gap": null,
            "grid_row": null,
            "grid_template_areas": null,
            "grid_template_columns": null,
            "grid_template_rows": null,
            "height": null,
            "justify_content": null,
            "justify_items": null,
            "left": null,
            "margin": null,
            "max_height": null,
            "max_width": null,
            "min_height": null,
            "min_width": null,
            "object_fit": null,
            "object_position": null,
            "order": null,
            "overflow": null,
            "overflow_x": null,
            "overflow_y": null,
            "padding": null,
            "right": null,
            "top": null,
            "visibility": null,
            "width": null
          }
        },
        "e7d54319900548208c3852623ebc3dcf": {
          "model_module": "@jupyter-widgets/controls",
          "model_name": "DescriptionStyleModel",
          "model_module_version": "1.5.0",
          "state": {
            "_model_module": "@jupyter-widgets/controls",
            "_model_module_version": "1.5.0",
            "_model_name": "DescriptionStyleModel",
            "_view_count": null,
            "_view_module": "@jupyter-widgets/base",
            "_view_module_version": "1.2.0",
            "_view_name": "StyleView",
            "description_width": ""
          }
        },
        "adbd04cd03624b66a8c725f9a89647b6": {
          "model_module": "@jupyter-widgets/base",
          "model_name": "LayoutModel",
          "model_module_version": "1.2.0",
          "state": {
            "_model_module": "@jupyter-widgets/base",
            "_model_module_version": "1.2.0",
            "_model_name": "LayoutModel",
            "_view_count": null,
            "_view_module": "@jupyter-widgets/base",
            "_view_module_version": "1.2.0",
            "_view_name": "LayoutView",
            "align_content": null,
            "align_items": null,
            "align_self": null,
            "border": null,
            "bottom": null,
            "display": null,
            "flex": null,
            "flex_flow": null,
            "grid_area": null,
            "grid_auto_columns": null,
            "grid_auto_flow": null,
            "grid_auto_rows": null,
            "grid_column": null,
            "grid_gap": null,
            "grid_row": null,
            "grid_template_areas": null,
            "grid_template_columns": null,
            "grid_template_rows": null,
            "height": null,
            "justify_content": null,
            "justify_items": null,
            "left": null,
            "margin": null,
            "max_height": null,
            "max_width": null,
            "min_height": null,
            "min_width": null,
            "object_fit": null,
            "object_position": null,
            "order": null,
            "overflow": null,
            "overflow_x": null,
            "overflow_y": null,
            "padding": null,
            "right": null,
            "top": null,
            "visibility": null,
            "width": null
          }
        },
        "200b5fada23d45ff947953003d052605": {
          "model_module": "@jupyter-widgets/controls",
          "model_name": "ProgressStyleModel",
          "model_module_version": "1.5.0",
          "state": {
            "_model_module": "@jupyter-widgets/controls",
            "_model_module_version": "1.5.0",
            "_model_name": "ProgressStyleModel",
            "_view_count": null,
            "_view_module": "@jupyter-widgets/base",
            "_view_module_version": "1.2.0",
            "_view_name": "StyleView",
            "bar_color": null,
            "description_width": ""
          }
        },
        "8c89f99cd7b9408eafbfbf8e0c56d39c": {
          "model_module": "@jupyter-widgets/base",
          "model_name": "LayoutModel",
          "model_module_version": "1.2.0",
          "state": {
            "_model_module": "@jupyter-widgets/base",
            "_model_module_version": "1.2.0",
            "_model_name": "LayoutModel",
            "_view_count": null,
            "_view_module": "@jupyter-widgets/base",
            "_view_module_version": "1.2.0",
            "_view_name": "LayoutView",
            "align_content": null,
            "align_items": null,
            "align_self": null,
            "border": null,
            "bottom": null,
            "display": null,
            "flex": null,
            "flex_flow": null,
            "grid_area": null,
            "grid_auto_columns": null,
            "grid_auto_flow": null,
            "grid_auto_rows": null,
            "grid_column": null,
            "grid_gap": null,
            "grid_row": null,
            "grid_template_areas": null,
            "grid_template_columns": null,
            "grid_template_rows": null,
            "height": null,
            "justify_content": null,
            "justify_items": null,
            "left": null,
            "margin": null,
            "max_height": null,
            "max_width": null,
            "min_height": null,
            "min_width": null,
            "object_fit": null,
            "object_position": null,
            "order": null,
            "overflow": null,
            "overflow_x": null,
            "overflow_y": null,
            "padding": null,
            "right": null,
            "top": null,
            "visibility": null,
            "width": null
          }
        },
        "a40561b6f013481ba77fa137ab43b1c2": {
          "model_module": "@jupyter-widgets/controls",
          "model_name": "DescriptionStyleModel",
          "model_module_version": "1.5.0",
          "state": {
            "_model_module": "@jupyter-widgets/controls",
            "_model_module_version": "1.5.0",
            "_model_name": "DescriptionStyleModel",
            "_view_count": null,
            "_view_module": "@jupyter-widgets/base",
            "_view_module_version": "1.2.0",
            "_view_name": "StyleView",
            "description_width": ""
          }
        },
        "63ee5e2413434249bd47a8d662ec0da6": {
          "model_module": "@jupyter-widgets/controls",
          "model_name": "HBoxModel",
          "model_module_version": "1.5.0",
          "state": {
            "_dom_classes": [],
            "_model_module": "@jupyter-widgets/controls",
            "_model_module_version": "1.5.0",
            "_model_name": "HBoxModel",
            "_view_count": null,
            "_view_module": "@jupyter-widgets/controls",
            "_view_module_version": "1.5.0",
            "_view_name": "HBoxView",
            "box_style": "",
            "children": [
              "IPY_MODEL_d10215d60b9f471ab681a948ad143159",
              "IPY_MODEL_bcb33e49c5ab412eb5b8cd823cf06706",
              "IPY_MODEL_f23b78d30ff040f481b5584a83083b39"
            ],
            "layout": "IPY_MODEL_fe39df4b5e9d41f6a0233bafb4522dd4"
          }
        },
        "d10215d60b9f471ab681a948ad143159": {
          "model_module": "@jupyter-widgets/controls",
          "model_name": "HTMLModel",
          "model_module_version": "1.5.0",
          "state": {
            "_dom_classes": [],
            "_model_module": "@jupyter-widgets/controls",
            "_model_module_version": "1.5.0",
            "_model_name": "HTMLModel",
            "_view_count": null,
            "_view_module": "@jupyter-widgets/controls",
            "_view_module_version": "1.5.0",
            "_view_name": "HTMLView",
            "description": "",
            "description_tooltip": null,
            "layout": "IPY_MODEL_6cac8e9fcefd4353a76244f89ff459e1",
            "placeholder": "​",
            "style": "IPY_MODEL_4f70c2c356074adf9aa7c1fb6b20f8e3",
            "value": "Upload file runs/May10_11-02-51_d58de38fbf77/events.out.tfevents.1652180636.d58de38fbf77.96.2: 100%"
          }
        },
        "bcb33e49c5ab412eb5b8cd823cf06706": {
          "model_module": "@jupyter-widgets/controls",
          "model_name": "FloatProgressModel",
          "model_module_version": "1.5.0",
          "state": {
            "_dom_classes": [],
            "_model_module": "@jupyter-widgets/controls",
            "_model_module_version": "1.5.0",
            "_model_name": "FloatProgressModel",
            "_view_count": null,
            "_view_module": "@jupyter-widgets/controls",
            "_view_module_version": "1.5.0",
            "_view_name": "ProgressView",
            "bar_style": "success",
            "description": "",
            "description_tooltip": null,
            "layout": "IPY_MODEL_4cc884973b734098a135619736b5f599",
            "max": 19164,
            "min": 0,
            "orientation": "horizontal",
            "style": "IPY_MODEL_fd72ea27c82843ceb5fdb74886fc5b44",
            "value": 19164
          }
        },
        "f23b78d30ff040f481b5584a83083b39": {
          "model_module": "@jupyter-widgets/controls",
          "model_name": "HTMLModel",
          "model_module_version": "1.5.0",
          "state": {
            "_dom_classes": [],
            "_model_module": "@jupyter-widgets/controls",
            "_model_module_version": "1.5.0",
            "_model_name": "HTMLModel",
            "_view_count": null,
            "_view_module": "@jupyter-widgets/controls",
            "_view_module_version": "1.5.0",
            "_view_name": "HTMLView",
            "description": "",
            "description_tooltip": null,
            "layout": "IPY_MODEL_28b1ff0d507e40fb84e4083537207de4",
            "placeholder": "​",
            "style": "IPY_MODEL_bf2896c4b25147f0a303c748fa2b0cd9",
            "value": " 18.7k/18.7k [05:26&lt;00:00, 48.2B/s]"
          }
        },
        "fe39df4b5e9d41f6a0233bafb4522dd4": {
          "model_module": "@jupyter-widgets/base",
          "model_name": "LayoutModel",
          "model_module_version": "1.2.0",
          "state": {
            "_model_module": "@jupyter-widgets/base",
            "_model_module_version": "1.2.0",
            "_model_name": "LayoutModel",
            "_view_count": null,
            "_view_module": "@jupyter-widgets/base",
            "_view_module_version": "1.2.0",
            "_view_name": "LayoutView",
            "align_content": null,
            "align_items": null,
            "align_self": null,
            "border": null,
            "bottom": null,
            "display": null,
            "flex": null,
            "flex_flow": null,
            "grid_area": null,
            "grid_auto_columns": null,
            "grid_auto_flow": null,
            "grid_auto_rows": null,
            "grid_column": null,
            "grid_gap": null,
            "grid_row": null,
            "grid_template_areas": null,
            "grid_template_columns": null,
            "grid_template_rows": null,
            "height": null,
            "justify_content": null,
            "justify_items": null,
            "left": null,
            "margin": null,
            "max_height": null,
            "max_width": null,
            "min_height": null,
            "min_width": null,
            "object_fit": null,
            "object_position": null,
            "order": null,
            "overflow": null,
            "overflow_x": null,
            "overflow_y": null,
            "padding": null,
            "right": null,
            "top": null,
            "visibility": null,
            "width": null
          }
        },
        "6cac8e9fcefd4353a76244f89ff459e1": {
          "model_module": "@jupyter-widgets/base",
          "model_name": "LayoutModel",
          "model_module_version": "1.2.0",
          "state": {
            "_model_module": "@jupyter-widgets/base",
            "_model_module_version": "1.2.0",
            "_model_name": "LayoutModel",
            "_view_count": null,
            "_view_module": "@jupyter-widgets/base",
            "_view_module_version": "1.2.0",
            "_view_name": "LayoutView",
            "align_content": null,
            "align_items": null,
            "align_self": null,
            "border": null,
            "bottom": null,
            "display": null,
            "flex": null,
            "flex_flow": null,
            "grid_area": null,
            "grid_auto_columns": null,
            "grid_auto_flow": null,
            "grid_auto_rows": null,
            "grid_column": null,
            "grid_gap": null,
            "grid_row": null,
            "grid_template_areas": null,
            "grid_template_columns": null,
            "grid_template_rows": null,
            "height": null,
            "justify_content": null,
            "justify_items": null,
            "left": null,
            "margin": null,
            "max_height": null,
            "max_width": null,
            "min_height": null,
            "min_width": null,
            "object_fit": null,
            "object_position": null,
            "order": null,
            "overflow": null,
            "overflow_x": null,
            "overflow_y": null,
            "padding": null,
            "right": null,
            "top": null,
            "visibility": null,
            "width": null
          }
        },
        "4f70c2c356074adf9aa7c1fb6b20f8e3": {
          "model_module": "@jupyter-widgets/controls",
          "model_name": "DescriptionStyleModel",
          "model_module_version": "1.5.0",
          "state": {
            "_model_module": "@jupyter-widgets/controls",
            "_model_module_version": "1.5.0",
            "_model_name": "DescriptionStyleModel",
            "_view_count": null,
            "_view_module": "@jupyter-widgets/base",
            "_view_module_version": "1.2.0",
            "_view_name": "StyleView",
            "description_width": ""
          }
        },
        "4cc884973b734098a135619736b5f599": {
          "model_module": "@jupyter-widgets/base",
          "model_name": "LayoutModel",
          "model_module_version": "1.2.0",
          "state": {
            "_model_module": "@jupyter-widgets/base",
            "_model_module_version": "1.2.0",
            "_model_name": "LayoutModel",
            "_view_count": null,
            "_view_module": "@jupyter-widgets/base",
            "_view_module_version": "1.2.0",
            "_view_name": "LayoutView",
            "align_content": null,
            "align_items": null,
            "align_self": null,
            "border": null,
            "bottom": null,
            "display": null,
            "flex": null,
            "flex_flow": null,
            "grid_area": null,
            "grid_auto_columns": null,
            "grid_auto_flow": null,
            "grid_auto_rows": null,
            "grid_column": null,
            "grid_gap": null,
            "grid_row": null,
            "grid_template_areas": null,
            "grid_template_columns": null,
            "grid_template_rows": null,
            "height": null,
            "justify_content": null,
            "justify_items": null,
            "left": null,
            "margin": null,
            "max_height": null,
            "max_width": null,
            "min_height": null,
            "min_width": null,
            "object_fit": null,
            "object_position": null,
            "order": null,
            "overflow": null,
            "overflow_x": null,
            "overflow_y": null,
            "padding": null,
            "right": null,
            "top": null,
            "visibility": null,
            "width": null
          }
        },
        "fd72ea27c82843ceb5fdb74886fc5b44": {
          "model_module": "@jupyter-widgets/controls",
          "model_name": "ProgressStyleModel",
          "model_module_version": "1.5.0",
          "state": {
            "_model_module": "@jupyter-widgets/controls",
            "_model_module_version": "1.5.0",
            "_model_name": "ProgressStyleModel",
            "_view_count": null,
            "_view_module": "@jupyter-widgets/base",
            "_view_module_version": "1.2.0",
            "_view_name": "StyleView",
            "bar_color": null,
            "description_width": ""
          }
        },
        "28b1ff0d507e40fb84e4083537207de4": {
          "model_module": "@jupyter-widgets/base",
          "model_name": "LayoutModel",
          "model_module_version": "1.2.0",
          "state": {
            "_model_module": "@jupyter-widgets/base",
            "_model_module_version": "1.2.0",
            "_model_name": "LayoutModel",
            "_view_count": null,
            "_view_module": "@jupyter-widgets/base",
            "_view_module_version": "1.2.0",
            "_view_name": "LayoutView",
            "align_content": null,
            "align_items": null,
            "align_self": null,
            "border": null,
            "bottom": null,
            "display": null,
            "flex": null,
            "flex_flow": null,
            "grid_area": null,
            "grid_auto_columns": null,
            "grid_auto_flow": null,
            "grid_auto_rows": null,
            "grid_column": null,
            "grid_gap": null,
            "grid_row": null,
            "grid_template_areas": null,
            "grid_template_columns": null,
            "grid_template_rows": null,
            "height": null,
            "justify_content": null,
            "justify_items": null,
            "left": null,
            "margin": null,
            "max_height": null,
            "max_width": null,
            "min_height": null,
            "min_width": null,
            "object_fit": null,
            "object_position": null,
            "order": null,
            "overflow": null,
            "overflow_x": null,
            "overflow_y": null,
            "padding": null,
            "right": null,
            "top": null,
            "visibility": null,
            "width": null
          }
        },
        "bf2896c4b25147f0a303c748fa2b0cd9": {
          "model_module": "@jupyter-widgets/controls",
          "model_name": "DescriptionStyleModel",
          "model_module_version": "1.5.0",
          "state": {
            "_model_module": "@jupyter-widgets/controls",
            "_model_module_version": "1.5.0",
            "_model_name": "DescriptionStyleModel",
            "_view_count": null,
            "_view_module": "@jupyter-widgets/base",
            "_view_module_version": "1.2.0",
            "_view_name": "StyleView",
            "description_width": ""
          }
        },
        "524b5795780746f5966c06b878cc0fbc": {
          "model_module": "@jupyter-widgets/controls",
          "model_name": "HBoxModel",
          "model_module_version": "1.5.0",
          "state": {
            "_dom_classes": [],
            "_model_module": "@jupyter-widgets/controls",
            "_model_module_version": "1.5.0",
            "_model_name": "HBoxModel",
            "_view_count": null,
            "_view_module": "@jupyter-widgets/controls",
            "_view_module_version": "1.5.0",
            "_view_name": "HBoxView",
            "box_style": "",
            "children": [
              "IPY_MODEL_8eb41fee8e1c452a9d69a07a266d871a",
              "IPY_MODEL_f22febfc3bbe48058be84b2a20e906f5",
              "IPY_MODEL_ab51fefefa1b464a9a780b80c6f0c020"
            ],
            "layout": "IPY_MODEL_88fd1cb973f8485b97caa19b7801c3d3"
          }
        },
        "8eb41fee8e1c452a9d69a07a266d871a": {
          "model_module": "@jupyter-widgets/controls",
          "model_name": "HTMLModel",
          "model_module_version": "1.5.0",
          "state": {
            "_dom_classes": [],
            "_model_module": "@jupyter-widgets/controls",
            "_model_module_version": "1.5.0",
            "_model_name": "HTMLModel",
            "_view_count": null,
            "_view_module": "@jupyter-widgets/controls",
            "_view_module_version": "1.5.0",
            "_view_name": "HTMLView",
            "description": "",
            "description_tooltip": null,
            "layout": "IPY_MODEL_3234edc4a75e4658acd19feef174e88f",
            "placeholder": "​",
            "style": "IPY_MODEL_6bfe6219ad934146a4d680e38ed19879",
            "value": "Downloading: 100%"
          }
        },
        "f22febfc3bbe48058be84b2a20e906f5": {
          "model_module": "@jupyter-widgets/controls",
          "model_name": "FloatProgressModel",
          "model_module_version": "1.5.0",
          "state": {
            "_dom_classes": [],
            "_model_module": "@jupyter-widgets/controls",
            "_model_module_version": "1.5.0",
            "_model_name": "FloatProgressModel",
            "_view_count": null,
            "_view_module": "@jupyter-widgets/controls",
            "_view_module_version": "1.5.0",
            "_view_name": "ProgressView",
            "bar_style": "success",
            "description": "",
            "description_tooltip": null,
            "layout": "IPY_MODEL_63e9fc689ea54fbfa7226cc9918977cb",
            "max": 215,
            "min": 0,
            "orientation": "horizontal",
            "style": "IPY_MODEL_dc034b4bf9e34963ab79f391c55d44ac",
            "value": 215
          }
        },
        "ab51fefefa1b464a9a780b80c6f0c020": {
          "model_module": "@jupyter-widgets/controls",
          "model_name": "HTMLModel",
          "model_module_version": "1.5.0",
          "state": {
            "_dom_classes": [],
            "_model_module": "@jupyter-widgets/controls",
            "_model_module_version": "1.5.0",
            "_model_name": "HTMLModel",
            "_view_count": null,
            "_view_module": "@jupyter-widgets/controls",
            "_view_module_version": "1.5.0",
            "_view_name": "HTMLView",
            "description": "",
            "description_tooltip": null,
            "layout": "IPY_MODEL_6b3288ffeef34c2a925d2554c7c4f521",
            "placeholder": "​",
            "style": "IPY_MODEL_116e45bbe2d640d18d6a47309692dc20",
            "value": " 215/215 [00:00&lt;00:00, 8.22kB/s]"
          }
        },
        "88fd1cb973f8485b97caa19b7801c3d3": {
          "model_module": "@jupyter-widgets/base",
          "model_name": "LayoutModel",
          "model_module_version": "1.2.0",
          "state": {
            "_model_module": "@jupyter-widgets/base",
            "_model_module_version": "1.2.0",
            "_model_name": "LayoutModel",
            "_view_count": null,
            "_view_module": "@jupyter-widgets/base",
            "_view_module_version": "1.2.0",
            "_view_name": "LayoutView",
            "align_content": null,
            "align_items": null,
            "align_self": null,
            "border": null,
            "bottom": null,
            "display": null,
            "flex": null,
            "flex_flow": null,
            "grid_area": null,
            "grid_auto_columns": null,
            "grid_auto_flow": null,
            "grid_auto_rows": null,
            "grid_column": null,
            "grid_gap": null,
            "grid_row": null,
            "grid_template_areas": null,
            "grid_template_columns": null,
            "grid_template_rows": null,
            "height": null,
            "justify_content": null,
            "justify_items": null,
            "left": null,
            "margin": null,
            "max_height": null,
            "max_width": null,
            "min_height": null,
            "min_width": null,
            "object_fit": null,
            "object_position": null,
            "order": null,
            "overflow": null,
            "overflow_x": null,
            "overflow_y": null,
            "padding": null,
            "right": null,
            "top": null,
            "visibility": null,
            "width": null
          }
        },
        "3234edc4a75e4658acd19feef174e88f": {
          "model_module": "@jupyter-widgets/base",
          "model_name": "LayoutModel",
          "model_module_version": "1.2.0",
          "state": {
            "_model_module": "@jupyter-widgets/base",
            "_model_module_version": "1.2.0",
            "_model_name": "LayoutModel",
            "_view_count": null,
            "_view_module": "@jupyter-widgets/base",
            "_view_module_version": "1.2.0",
            "_view_name": "LayoutView",
            "align_content": null,
            "align_items": null,
            "align_self": null,
            "border": null,
            "bottom": null,
            "display": null,
            "flex": null,
            "flex_flow": null,
            "grid_area": null,
            "grid_auto_columns": null,
            "grid_auto_flow": null,
            "grid_auto_rows": null,
            "grid_column": null,
            "grid_gap": null,
            "grid_row": null,
            "grid_template_areas": null,
            "grid_template_columns": null,
            "grid_template_rows": null,
            "height": null,
            "justify_content": null,
            "justify_items": null,
            "left": null,
            "margin": null,
            "max_height": null,
            "max_width": null,
            "min_height": null,
            "min_width": null,
            "object_fit": null,
            "object_position": null,
            "order": null,
            "overflow": null,
            "overflow_x": null,
            "overflow_y": null,
            "padding": null,
            "right": null,
            "top": null,
            "visibility": null,
            "width": null
          }
        },
        "6bfe6219ad934146a4d680e38ed19879": {
          "model_module": "@jupyter-widgets/controls",
          "model_name": "DescriptionStyleModel",
          "model_module_version": "1.5.0",
          "state": {
            "_model_module": "@jupyter-widgets/controls",
            "_model_module_version": "1.5.0",
            "_model_name": "DescriptionStyleModel",
            "_view_count": null,
            "_view_module": "@jupyter-widgets/base",
            "_view_module_version": "1.2.0",
            "_view_name": "StyleView",
            "description_width": ""
          }
        },
        "63e9fc689ea54fbfa7226cc9918977cb": {
          "model_module": "@jupyter-widgets/base",
          "model_name": "LayoutModel",
          "model_module_version": "1.2.0",
          "state": {
            "_model_module": "@jupyter-widgets/base",
            "_model_module_version": "1.2.0",
            "_model_name": "LayoutModel",
            "_view_count": null,
            "_view_module": "@jupyter-widgets/base",
            "_view_module_version": "1.2.0",
            "_view_name": "LayoutView",
            "align_content": null,
            "align_items": null,
            "align_self": null,
            "border": null,
            "bottom": null,
            "display": null,
            "flex": null,
            "flex_flow": null,
            "grid_area": null,
            "grid_auto_columns": null,
            "grid_auto_flow": null,
            "grid_auto_rows": null,
            "grid_column": null,
            "grid_gap": null,
            "grid_row": null,
            "grid_template_areas": null,
            "grid_template_columns": null,
            "grid_template_rows": null,
            "height": null,
            "justify_content": null,
            "justify_items": null,
            "left": null,
            "margin": null,
            "max_height": null,
            "max_width": null,
            "min_height": null,
            "min_width": null,
            "object_fit": null,
            "object_position": null,
            "order": null,
            "overflow": null,
            "overflow_x": null,
            "overflow_y": null,
            "padding": null,
            "right": null,
            "top": null,
            "visibility": null,
            "width": null
          }
        },
        "dc034b4bf9e34963ab79f391c55d44ac": {
          "model_module": "@jupyter-widgets/controls",
          "model_name": "ProgressStyleModel",
          "model_module_version": "1.5.0",
          "state": {
            "_model_module": "@jupyter-widgets/controls",
            "_model_module_version": "1.5.0",
            "_model_name": "ProgressStyleModel",
            "_view_count": null,
            "_view_module": "@jupyter-widgets/base",
            "_view_module_version": "1.2.0",
            "_view_name": "StyleView",
            "bar_color": null,
            "description_width": ""
          }
        },
        "6b3288ffeef34c2a925d2554c7c4f521": {
          "model_module": "@jupyter-widgets/base",
          "model_name": "LayoutModel",
          "model_module_version": "1.2.0",
          "state": {
            "_model_module": "@jupyter-widgets/base",
            "_model_module_version": "1.2.0",
            "_model_name": "LayoutModel",
            "_view_count": null,
            "_view_module": "@jupyter-widgets/base",
            "_view_module_version": "1.2.0",
            "_view_name": "LayoutView",
            "align_content": null,
            "align_items": null,
            "align_self": null,
            "border": null,
            "bottom": null,
            "display": null,
            "flex": null,
            "flex_flow": null,
            "grid_area": null,
            "grid_auto_columns": null,
            "grid_auto_flow": null,
            "grid_auto_rows": null,
            "grid_column": null,
            "grid_gap": null,
            "grid_row": null,
            "grid_template_areas": null,
            "grid_template_columns": null,
            "grid_template_rows": null,
            "height": null,
            "justify_content": null,
            "justify_items": null,
            "left": null,
            "margin": null,
            "max_height": null,
            "max_width": null,
            "min_height": null,
            "min_width": null,
            "object_fit": null,
            "object_position": null,
            "order": null,
            "overflow": null,
            "overflow_x": null,
            "overflow_y": null,
            "padding": null,
            "right": null,
            "top": null,
            "visibility": null,
            "width": null
          }
        },
        "116e45bbe2d640d18d6a47309692dc20": {
          "model_module": "@jupyter-widgets/controls",
          "model_name": "DescriptionStyleModel",
          "model_module_version": "1.5.0",
          "state": {
            "_model_module": "@jupyter-widgets/controls",
            "_model_module_version": "1.5.0",
            "_model_name": "DescriptionStyleModel",
            "_view_count": null,
            "_view_module": "@jupyter-widgets/base",
            "_view_module_version": "1.2.0",
            "_view_name": "StyleView",
            "description_width": ""
          }
        },
        "66d5a397b26e4d66a97bc3b3159e96bd": {
          "model_module": "@jupyter-widgets/controls",
          "model_name": "HBoxModel",
          "model_module_version": "1.5.0",
          "state": {
            "_dom_classes": [],
            "_model_module": "@jupyter-widgets/controls",
            "_model_module_version": "1.5.0",
            "_model_name": "HBoxModel",
            "_view_count": null,
            "_view_module": "@jupyter-widgets/controls",
            "_view_module_version": "1.5.0",
            "_view_name": "HBoxView",
            "box_style": "",
            "children": [
              "IPY_MODEL_041870fd5bac43b394956252364a16c4",
              "IPY_MODEL_26f6574d99724fb29159071dda6039b5",
              "IPY_MODEL_55d0bfd5c746402f89e6b86a7ca37b3a"
            ],
            "layout": "IPY_MODEL_b69bad861f014c20b4cb470c73b1fe37"
          }
        },
        "041870fd5bac43b394956252364a16c4": {
          "model_module": "@jupyter-widgets/controls",
          "model_name": "HTMLModel",
          "model_module_version": "1.5.0",
          "state": {
            "_dom_classes": [],
            "_model_module": "@jupyter-widgets/controls",
            "_model_module_version": "1.5.0",
            "_model_name": "HTMLModel",
            "_view_count": null,
            "_view_module": "@jupyter-widgets/controls",
            "_view_module_version": "1.5.0",
            "_view_name": "HTMLView",
            "description": "",
            "description_tooltip": null,
            "layout": "IPY_MODEL_940e030ce7ae40d68136ddf1a1a67736",
            "placeholder": "​",
            "style": "IPY_MODEL_c80bdd3bae794c08b81c950a33ff9ba0",
            "value": "Downloading: 100%"
          }
        },
        "26f6574d99724fb29159071dda6039b5": {
          "model_module": "@jupyter-widgets/controls",
          "model_name": "FloatProgressModel",
          "model_module_version": "1.5.0",
          "state": {
            "_dom_classes": [],
            "_model_module": "@jupyter-widgets/controls",
            "_model_module_version": "1.5.0",
            "_model_name": "FloatProgressModel",
            "_view_count": null,
            "_view_module": "@jupyter-widgets/controls",
            "_view_module_version": "1.5.0",
            "_view_name": "ProgressView",
            "bar_style": "success",
            "description": "",
            "description_tooltip": null,
            "layout": "IPY_MODEL_7b0c8bc5bb66433384aeb47bf99001ae",
            "max": 217,
            "min": 0,
            "orientation": "horizontal",
            "style": "IPY_MODEL_6b03d462bd0f4fbeab0df76bbb881621",
            "value": 217
          }
        },
        "55d0bfd5c746402f89e6b86a7ca37b3a": {
          "model_module": "@jupyter-widgets/controls",
          "model_name": "HTMLModel",
          "model_module_version": "1.5.0",
          "state": {
            "_dom_classes": [],
            "_model_module": "@jupyter-widgets/controls",
            "_model_module_version": "1.5.0",
            "_model_name": "HTMLModel",
            "_view_count": null,
            "_view_module": "@jupyter-widgets/controls",
            "_view_module_version": "1.5.0",
            "_view_name": "HTMLView",
            "description": "",
            "description_tooltip": null,
            "layout": "IPY_MODEL_be78bdab8638431e80c087a0fe9a7a8f",
            "placeholder": "​",
            "style": "IPY_MODEL_d44a1f0b3216469fb1ac597951f9471a",
            "value": " 217/217 [00:00&lt;00:00, 8.74kB/s]"
          }
        },
        "b69bad861f014c20b4cb470c73b1fe37": {
          "model_module": "@jupyter-widgets/base",
          "model_name": "LayoutModel",
          "model_module_version": "1.2.0",
          "state": {
            "_model_module": "@jupyter-widgets/base",
            "_model_module_version": "1.2.0",
            "_model_name": "LayoutModel",
            "_view_count": null,
            "_view_module": "@jupyter-widgets/base",
            "_view_module_version": "1.2.0",
            "_view_name": "LayoutView",
            "align_content": null,
            "align_items": null,
            "align_self": null,
            "border": null,
            "bottom": null,
            "display": null,
            "flex": null,
            "flex_flow": null,
            "grid_area": null,
            "grid_auto_columns": null,
            "grid_auto_flow": null,
            "grid_auto_rows": null,
            "grid_column": null,
            "grid_gap": null,
            "grid_row": null,
            "grid_template_areas": null,
            "grid_template_columns": null,
            "grid_template_rows": null,
            "height": null,
            "justify_content": null,
            "justify_items": null,
            "left": null,
            "margin": null,
            "max_height": null,
            "max_width": null,
            "min_height": null,
            "min_width": null,
            "object_fit": null,
            "object_position": null,
            "order": null,
            "overflow": null,
            "overflow_x": null,
            "overflow_y": null,
            "padding": null,
            "right": null,
            "top": null,
            "visibility": null,
            "width": null
          }
        },
        "940e030ce7ae40d68136ddf1a1a67736": {
          "model_module": "@jupyter-widgets/base",
          "model_name": "LayoutModel",
          "model_module_version": "1.2.0",
          "state": {
            "_model_module": "@jupyter-widgets/base",
            "_model_module_version": "1.2.0",
            "_model_name": "LayoutModel",
            "_view_count": null,
            "_view_module": "@jupyter-widgets/base",
            "_view_module_version": "1.2.0",
            "_view_name": "LayoutView",
            "align_content": null,
            "align_items": null,
            "align_self": null,
            "border": null,
            "bottom": null,
            "display": null,
            "flex": null,
            "flex_flow": null,
            "grid_area": null,
            "grid_auto_columns": null,
            "grid_auto_flow": null,
            "grid_auto_rows": null,
            "grid_column": null,
            "grid_gap": null,
            "grid_row": null,
            "grid_template_areas": null,
            "grid_template_columns": null,
            "grid_template_rows": null,
            "height": null,
            "justify_content": null,
            "justify_items": null,
            "left": null,
            "margin": null,
            "max_height": null,
            "max_width": null,
            "min_height": null,
            "min_width": null,
            "object_fit": null,
            "object_position": null,
            "order": null,
            "overflow": null,
            "overflow_x": null,
            "overflow_y": null,
            "padding": null,
            "right": null,
            "top": null,
            "visibility": null,
            "width": null
          }
        },
        "c80bdd3bae794c08b81c950a33ff9ba0": {
          "model_module": "@jupyter-widgets/controls",
          "model_name": "DescriptionStyleModel",
          "model_module_version": "1.5.0",
          "state": {
            "_model_module": "@jupyter-widgets/controls",
            "_model_module_version": "1.5.0",
            "_model_name": "DescriptionStyleModel",
            "_view_count": null,
            "_view_module": "@jupyter-widgets/base",
            "_view_module_version": "1.2.0",
            "_view_name": "StyleView",
            "description_width": ""
          }
        },
        "7b0c8bc5bb66433384aeb47bf99001ae": {
          "model_module": "@jupyter-widgets/base",
          "model_name": "LayoutModel",
          "model_module_version": "1.2.0",
          "state": {
            "_model_module": "@jupyter-widgets/base",
            "_model_module_version": "1.2.0",
            "_model_name": "LayoutModel",
            "_view_count": null,
            "_view_module": "@jupyter-widgets/base",
            "_view_module_version": "1.2.0",
            "_view_name": "LayoutView",
            "align_content": null,
            "align_items": null,
            "align_self": null,
            "border": null,
            "bottom": null,
            "display": null,
            "flex": null,
            "flex_flow": null,
            "grid_area": null,
            "grid_auto_columns": null,
            "grid_auto_flow": null,
            "grid_auto_rows": null,
            "grid_column": null,
            "grid_gap": null,
            "grid_row": null,
            "grid_template_areas": null,
            "grid_template_columns": null,
            "grid_template_rows": null,
            "height": null,
            "justify_content": null,
            "justify_items": null,
            "left": null,
            "margin": null,
            "max_height": null,
            "max_width": null,
            "min_height": null,
            "min_width": null,
            "object_fit": null,
            "object_position": null,
            "order": null,
            "overflow": null,
            "overflow_x": null,
            "overflow_y": null,
            "padding": null,
            "right": null,
            "top": null,
            "visibility": null,
            "width": null
          }
        },
        "6b03d462bd0f4fbeab0df76bbb881621": {
          "model_module": "@jupyter-widgets/controls",
          "model_name": "ProgressStyleModel",
          "model_module_version": "1.5.0",
          "state": {
            "_model_module": "@jupyter-widgets/controls",
            "_model_module_version": "1.5.0",
            "_model_name": "ProgressStyleModel",
            "_view_count": null,
            "_view_module": "@jupyter-widgets/base",
            "_view_module_version": "1.2.0",
            "_view_name": "StyleView",
            "bar_color": null,
            "description_width": ""
          }
        },
        "be78bdab8638431e80c087a0fe9a7a8f": {
          "model_module": "@jupyter-widgets/base",
          "model_name": "LayoutModel",
          "model_module_version": "1.2.0",
          "state": {
            "_model_module": "@jupyter-widgets/base",
            "_model_module_version": "1.2.0",
            "_model_name": "LayoutModel",
            "_view_count": null,
            "_view_module": "@jupyter-widgets/base",
            "_view_module_version": "1.2.0",
            "_view_name": "LayoutView",
            "align_content": null,
            "align_items": null,
            "align_self": null,
            "border": null,
            "bottom": null,
            "display": null,
            "flex": null,
            "flex_flow": null,
            "grid_area": null,
            "grid_auto_columns": null,
            "grid_auto_flow": null,
            "grid_auto_rows": null,
            "grid_column": null,
            "grid_gap": null,
            "grid_row": null,
            "grid_template_areas": null,
            "grid_template_columns": null,
            "grid_template_rows": null,
            "height": null,
            "justify_content": null,
            "justify_items": null,
            "left": null,
            "margin": null,
            "max_height": null,
            "max_width": null,
            "min_height": null,
            "min_width": null,
            "object_fit": null,
            "object_position": null,
            "order": null,
            "overflow": null,
            "overflow_x": null,
            "overflow_y": null,
            "padding": null,
            "right": null,
            "top": null,
            "visibility": null,
            "width": null
          }
        },
        "d44a1f0b3216469fb1ac597951f9471a": {
          "model_module": "@jupyter-widgets/controls",
          "model_name": "DescriptionStyleModel",
          "model_module_version": "1.5.0",
          "state": {
            "_model_module": "@jupyter-widgets/controls",
            "_model_module_version": "1.5.0",
            "_model_name": "DescriptionStyleModel",
            "_view_count": null,
            "_view_module": "@jupyter-widgets/base",
            "_view_module_version": "1.2.0",
            "_view_name": "StyleView",
            "description_width": ""
          }
        },
        "a0e897961bb049438847879cf082adf3": {
          "model_module": "@jupyter-widgets/controls",
          "model_name": "HBoxModel",
          "model_module_version": "1.5.0",
          "state": {
            "_dom_classes": [],
            "_model_module": "@jupyter-widgets/controls",
            "_model_module_version": "1.5.0",
            "_model_name": "HBoxModel",
            "_view_count": null,
            "_view_module": "@jupyter-widgets/controls",
            "_view_module_version": "1.5.0",
            "_view_name": "HBoxView",
            "box_style": "",
            "children": [
              "IPY_MODEL_820ac3ce474346728b80a609d47848ee",
              "IPY_MODEL_045273b88fa04afba97bf7ba6027f164",
              "IPY_MODEL_4847949da7b64782895b4fca8b432ec8"
            ],
            "layout": "IPY_MODEL_427b99cf8b964a59bbbf0b4d04504906"
          }
        },
        "820ac3ce474346728b80a609d47848ee": {
          "model_module": "@jupyter-widgets/controls",
          "model_name": "HTMLModel",
          "model_module_version": "1.5.0",
          "state": {
            "_dom_classes": [],
            "_model_module": "@jupyter-widgets/controls",
            "_model_module_version": "1.5.0",
            "_model_name": "HTMLModel",
            "_view_count": null,
            "_view_module": "@jupyter-widgets/controls",
            "_view_module_version": "1.5.0",
            "_view_name": "HTMLView",
            "description": "",
            "description_tooltip": null,
            "layout": "IPY_MODEL_f652ea3e007c42669e445a7247bb0430",
            "placeholder": "​",
            "style": "IPY_MODEL_527bf8b3612b4da89479424c5b66681e",
            "value": "Downloading: 100%"
          }
        },
        "045273b88fa04afba97bf7ba6027f164": {
          "model_module": "@jupyter-widgets/controls",
          "model_name": "FloatProgressModel",
          "model_module_version": "1.5.0",
          "state": {
            "_dom_classes": [],
            "_model_module": "@jupyter-widgets/controls",
            "_model_module_version": "1.5.0",
            "_model_name": "FloatProgressModel",
            "_view_count": null,
            "_view_module": "@jupyter-widgets/controls",
            "_view_module_version": "1.5.0",
            "_view_name": "ProgressView",
            "bar_style": "success",
            "description": "",
            "description_tooltip": null,
            "layout": "IPY_MODEL_708ff309676040119bccd6f21d1684f6",
            "max": 268,
            "min": 0,
            "orientation": "horizontal",
            "style": "IPY_MODEL_6a8694b9181f4828ba3ef4ff828fd1c3",
            "value": 268
          }
        },
        "4847949da7b64782895b4fca8b432ec8": {
          "model_module": "@jupyter-widgets/controls",
          "model_name": "HTMLModel",
          "model_module_version": "1.5.0",
          "state": {
            "_dom_classes": [],
            "_model_module": "@jupyter-widgets/controls",
            "_model_module_version": "1.5.0",
            "_model_name": "HTMLModel",
            "_view_count": null,
            "_view_module": "@jupyter-widgets/controls",
            "_view_module_version": "1.5.0",
            "_view_name": "HTMLView",
            "description": "",
            "description_tooltip": null,
            "layout": "IPY_MODEL_90dbfe5bab604315b329a6a8fcf131b1",
            "placeholder": "​",
            "style": "IPY_MODEL_b1a51bfb07774b7bac783d1c4d5a680c",
            "value": " 268/268 [00:00&lt;00:00, 11.2kB/s]"
          }
        },
        "427b99cf8b964a59bbbf0b4d04504906": {
          "model_module": "@jupyter-widgets/base",
          "model_name": "LayoutModel",
          "model_module_version": "1.2.0",
          "state": {
            "_model_module": "@jupyter-widgets/base",
            "_model_module_version": "1.2.0",
            "_model_name": "LayoutModel",
            "_view_count": null,
            "_view_module": "@jupyter-widgets/base",
            "_view_module_version": "1.2.0",
            "_view_name": "LayoutView",
            "align_content": null,
            "align_items": null,
            "align_self": null,
            "border": null,
            "bottom": null,
            "display": null,
            "flex": null,
            "flex_flow": null,
            "grid_area": null,
            "grid_auto_columns": null,
            "grid_auto_flow": null,
            "grid_auto_rows": null,
            "grid_column": null,
            "grid_gap": null,
            "grid_row": null,
            "grid_template_areas": null,
            "grid_template_columns": null,
            "grid_template_rows": null,
            "height": null,
            "justify_content": null,
            "justify_items": null,
            "left": null,
            "margin": null,
            "max_height": null,
            "max_width": null,
            "min_height": null,
            "min_width": null,
            "object_fit": null,
            "object_position": null,
            "order": null,
            "overflow": null,
            "overflow_x": null,
            "overflow_y": null,
            "padding": null,
            "right": null,
            "top": null,
            "visibility": null,
            "width": null
          }
        },
        "f652ea3e007c42669e445a7247bb0430": {
          "model_module": "@jupyter-widgets/base",
          "model_name": "LayoutModel",
          "model_module_version": "1.2.0",
          "state": {
            "_model_module": "@jupyter-widgets/base",
            "_model_module_version": "1.2.0",
            "_model_name": "LayoutModel",
            "_view_count": null,
            "_view_module": "@jupyter-widgets/base",
            "_view_module_version": "1.2.0",
            "_view_name": "LayoutView",
            "align_content": null,
            "align_items": null,
            "align_self": null,
            "border": null,
            "bottom": null,
            "display": null,
            "flex": null,
            "flex_flow": null,
            "grid_area": null,
            "grid_auto_columns": null,
            "grid_auto_flow": null,
            "grid_auto_rows": null,
            "grid_column": null,
            "grid_gap": null,
            "grid_row": null,
            "grid_template_areas": null,
            "grid_template_columns": null,
            "grid_template_rows": null,
            "height": null,
            "justify_content": null,
            "justify_items": null,
            "left": null,
            "margin": null,
            "max_height": null,
            "max_width": null,
            "min_height": null,
            "min_width": null,
            "object_fit": null,
            "object_position": null,
            "order": null,
            "overflow": null,
            "overflow_x": null,
            "overflow_y": null,
            "padding": null,
            "right": null,
            "top": null,
            "visibility": null,
            "width": null
          }
        },
        "527bf8b3612b4da89479424c5b66681e": {
          "model_module": "@jupyter-widgets/controls",
          "model_name": "DescriptionStyleModel",
          "model_module_version": "1.5.0",
          "state": {
            "_model_module": "@jupyter-widgets/controls",
            "_model_module_version": "1.5.0",
            "_model_name": "DescriptionStyleModel",
            "_view_count": null,
            "_view_module": "@jupyter-widgets/base",
            "_view_module_version": "1.2.0",
            "_view_name": "StyleView",
            "description_width": ""
          }
        },
        "708ff309676040119bccd6f21d1684f6": {
          "model_module": "@jupyter-widgets/base",
          "model_name": "LayoutModel",
          "model_module_version": "1.2.0",
          "state": {
            "_model_module": "@jupyter-widgets/base",
            "_model_module_version": "1.2.0",
            "_model_name": "LayoutModel",
            "_view_count": null,
            "_view_module": "@jupyter-widgets/base",
            "_view_module_version": "1.2.0",
            "_view_name": "LayoutView",
            "align_content": null,
            "align_items": null,
            "align_self": null,
            "border": null,
            "bottom": null,
            "display": null,
            "flex": null,
            "flex_flow": null,
            "grid_area": null,
            "grid_auto_columns": null,
            "grid_auto_flow": null,
            "grid_auto_rows": null,
            "grid_column": null,
            "grid_gap": null,
            "grid_row": null,
            "grid_template_areas": null,
            "grid_template_columns": null,
            "grid_template_rows": null,
            "height": null,
            "justify_content": null,
            "justify_items": null,
            "left": null,
            "margin": null,
            "max_height": null,
            "max_width": null,
            "min_height": null,
            "min_width": null,
            "object_fit": null,
            "object_position": null,
            "order": null,
            "overflow": null,
            "overflow_x": null,
            "overflow_y": null,
            "padding": null,
            "right": null,
            "top": null,
            "visibility": null,
            "width": null
          }
        },
        "6a8694b9181f4828ba3ef4ff828fd1c3": {
          "model_module": "@jupyter-widgets/controls",
          "model_name": "ProgressStyleModel",
          "model_module_version": "1.5.0",
          "state": {
            "_model_module": "@jupyter-widgets/controls",
            "_model_module_version": "1.5.0",
            "_model_name": "ProgressStyleModel",
            "_view_count": null,
            "_view_module": "@jupyter-widgets/base",
            "_view_module_version": "1.2.0",
            "_view_name": "StyleView",
            "bar_color": null,
            "description_width": ""
          }
        },
        "90dbfe5bab604315b329a6a8fcf131b1": {
          "model_module": "@jupyter-widgets/base",
          "model_name": "LayoutModel",
          "model_module_version": "1.2.0",
          "state": {
            "_model_module": "@jupyter-widgets/base",
            "_model_module_version": "1.2.0",
            "_model_name": "LayoutModel",
            "_view_count": null,
            "_view_module": "@jupyter-widgets/base",
            "_view_module_version": "1.2.0",
            "_view_name": "LayoutView",
            "align_content": null,
            "align_items": null,
            "align_self": null,
            "border": null,
            "bottom": null,
            "display": null,
            "flex": null,
            "flex_flow": null,
            "grid_area": null,
            "grid_auto_columns": null,
            "grid_auto_flow": null,
            "grid_auto_rows": null,
            "grid_column": null,
            "grid_gap": null,
            "grid_row": null,
            "grid_template_areas": null,
            "grid_template_columns": null,
            "grid_template_rows": null,
            "height": null,
            "justify_content": null,
            "justify_items": null,
            "left": null,
            "margin": null,
            "max_height": null,
            "max_width": null,
            "min_height": null,
            "min_width": null,
            "object_fit": null,
            "object_position": null,
            "order": null,
            "overflow": null,
            "overflow_x": null,
            "overflow_y": null,
            "padding": null,
            "right": null,
            "top": null,
            "visibility": null,
            "width": null
          }
        },
        "b1a51bfb07774b7bac783d1c4d5a680c": {
          "model_module": "@jupyter-widgets/controls",
          "model_name": "DescriptionStyleModel",
          "model_module_version": "1.5.0",
          "state": {
            "_model_module": "@jupyter-widgets/controls",
            "_model_module_version": "1.5.0",
            "_model_name": "DescriptionStyleModel",
            "_view_count": null,
            "_view_module": "@jupyter-widgets/base",
            "_view_module_version": "1.2.0",
            "_view_name": "StyleView",
            "description_width": ""
          }
        },
        "6ca0c9b3d250425b9597de9baa6bd77b": {
          "model_module": "@jupyter-widgets/controls",
          "model_name": "HBoxModel",
          "model_module_version": "1.5.0",
          "state": {
            "_dom_classes": [],
            "_model_module": "@jupyter-widgets/controls",
            "_model_module_version": "1.5.0",
            "_model_name": "HBoxModel",
            "_view_count": null,
            "_view_module": "@jupyter-widgets/controls",
            "_view_module_version": "1.5.0",
            "_view_name": "HBoxView",
            "box_style": "",
            "children": [
              "IPY_MODEL_b7d46c7f5da646eba0ed9e38fed6b4ee",
              "IPY_MODEL_7291673613bb43848bec1abee7447078",
              "IPY_MODEL_5c49d625a7f742f1a64820bc6f749f3a"
            ],
            "layout": "IPY_MODEL_a6a5bcb980df41d1b3e7b581701eae16"
          }
        },
        "b7d46c7f5da646eba0ed9e38fed6b4ee": {
          "model_module": "@jupyter-widgets/controls",
          "model_name": "HTMLModel",
          "model_module_version": "1.5.0",
          "state": {
            "_dom_classes": [],
            "_model_module": "@jupyter-widgets/controls",
            "_model_module_version": "1.5.0",
            "_model_name": "HTMLModel",
            "_view_count": null,
            "_view_module": "@jupyter-widgets/controls",
            "_view_module_version": "1.5.0",
            "_view_name": "HTMLView",
            "description": "",
            "description_tooltip": null,
            "layout": "IPY_MODEL_6412d390b2ce416fae910d689c3f6e70",
            "placeholder": "​",
            "style": "IPY_MODEL_255c276a050446ed9df81f8eeb7c1178",
            "value": "Downloading: 100%"
          }
        },
        "7291673613bb43848bec1abee7447078": {
          "model_module": "@jupyter-widgets/controls",
          "model_name": "FloatProgressModel",
          "model_module_version": "1.5.0",
          "state": {
            "_dom_classes": [],
            "_model_module": "@jupyter-widgets/controls",
            "_model_module_version": "1.5.0",
            "_model_name": "FloatProgressModel",
            "_view_count": null,
            "_view_module": "@jupyter-widgets/controls",
            "_view_module_version": "1.5.0",
            "_view_name": "ProgressView",
            "bar_style": "success",
            "description": "",
            "description_tooltip": null,
            "layout": "IPY_MODEL_ddd975596c234b0eacc40ef18ef40778",
            "max": 85,
            "min": 0,
            "orientation": "horizontal",
            "style": "IPY_MODEL_a5fd824b8eb64bb7b8d83354961927e6",
            "value": 85
          }
        },
        "5c49d625a7f742f1a64820bc6f749f3a": {
          "model_module": "@jupyter-widgets/controls",
          "model_name": "HTMLModel",
          "model_module_version": "1.5.0",
          "state": {
            "_dom_classes": [],
            "_model_module": "@jupyter-widgets/controls",
            "_model_module_version": "1.5.0",
            "_model_name": "HTMLModel",
            "_view_count": null,
            "_view_module": "@jupyter-widgets/controls",
            "_view_module_version": "1.5.0",
            "_view_name": "HTMLView",
            "description": "",
            "description_tooltip": null,
            "layout": "IPY_MODEL_17e3d063396848548af91c55c8f8e282",
            "placeholder": "​",
            "style": "IPY_MODEL_a3b48bc669674ff2a0bcce75a50e81eb",
            "value": " 85.0/85.0 [00:00&lt;00:00, 3.59kB/s]"
          }
        },
        "a6a5bcb980df41d1b3e7b581701eae16": {
          "model_module": "@jupyter-widgets/base",
          "model_name": "LayoutModel",
          "model_module_version": "1.2.0",
          "state": {
            "_model_module": "@jupyter-widgets/base",
            "_model_module_version": "1.2.0",
            "_model_name": "LayoutModel",
            "_view_count": null,
            "_view_module": "@jupyter-widgets/base",
            "_view_module_version": "1.2.0",
            "_view_name": "LayoutView",
            "align_content": null,
            "align_items": null,
            "align_self": null,
            "border": null,
            "bottom": null,
            "display": null,
            "flex": null,
            "flex_flow": null,
            "grid_area": null,
            "grid_auto_columns": null,
            "grid_auto_flow": null,
            "grid_auto_rows": null,
            "grid_column": null,
            "grid_gap": null,
            "grid_row": null,
            "grid_template_areas": null,
            "grid_template_columns": null,
            "grid_template_rows": null,
            "height": null,
            "justify_content": null,
            "justify_items": null,
            "left": null,
            "margin": null,
            "max_height": null,
            "max_width": null,
            "min_height": null,
            "min_width": null,
            "object_fit": null,
            "object_position": null,
            "order": null,
            "overflow": null,
            "overflow_x": null,
            "overflow_y": null,
            "padding": null,
            "right": null,
            "top": null,
            "visibility": null,
            "width": null
          }
        },
        "6412d390b2ce416fae910d689c3f6e70": {
          "model_module": "@jupyter-widgets/base",
          "model_name": "LayoutModel",
          "model_module_version": "1.2.0",
          "state": {
            "_model_module": "@jupyter-widgets/base",
            "_model_module_version": "1.2.0",
            "_model_name": "LayoutModel",
            "_view_count": null,
            "_view_module": "@jupyter-widgets/base",
            "_view_module_version": "1.2.0",
            "_view_name": "LayoutView",
            "align_content": null,
            "align_items": null,
            "align_self": null,
            "border": null,
            "bottom": null,
            "display": null,
            "flex": null,
            "flex_flow": null,
            "grid_area": null,
            "grid_auto_columns": null,
            "grid_auto_flow": null,
            "grid_auto_rows": null,
            "grid_column": null,
            "grid_gap": null,
            "grid_row": null,
            "grid_template_areas": null,
            "grid_template_columns": null,
            "grid_template_rows": null,
            "height": null,
            "justify_content": null,
            "justify_items": null,
            "left": null,
            "margin": null,
            "max_height": null,
            "max_width": null,
            "min_height": null,
            "min_width": null,
            "object_fit": null,
            "object_position": null,
            "order": null,
            "overflow": null,
            "overflow_x": null,
            "overflow_y": null,
            "padding": null,
            "right": null,
            "top": null,
            "visibility": null,
            "width": null
          }
        },
        "255c276a050446ed9df81f8eeb7c1178": {
          "model_module": "@jupyter-widgets/controls",
          "model_name": "DescriptionStyleModel",
          "model_module_version": "1.5.0",
          "state": {
            "_model_module": "@jupyter-widgets/controls",
            "_model_module_version": "1.5.0",
            "_model_name": "DescriptionStyleModel",
            "_view_count": null,
            "_view_module": "@jupyter-widgets/base",
            "_view_module_version": "1.2.0",
            "_view_name": "StyleView",
            "description_width": ""
          }
        },
        "ddd975596c234b0eacc40ef18ef40778": {
          "model_module": "@jupyter-widgets/base",
          "model_name": "LayoutModel",
          "model_module_version": "1.2.0",
          "state": {
            "_model_module": "@jupyter-widgets/base",
            "_model_module_version": "1.2.0",
            "_model_name": "LayoutModel",
            "_view_count": null,
            "_view_module": "@jupyter-widgets/base",
            "_view_module_version": "1.2.0",
            "_view_name": "LayoutView",
            "align_content": null,
            "align_items": null,
            "align_self": null,
            "border": null,
            "bottom": null,
            "display": null,
            "flex": null,
            "flex_flow": null,
            "grid_area": null,
            "grid_auto_columns": null,
            "grid_auto_flow": null,
            "grid_auto_rows": null,
            "grid_column": null,
            "grid_gap": null,
            "grid_row": null,
            "grid_template_areas": null,
            "grid_template_columns": null,
            "grid_template_rows": null,
            "height": null,
            "justify_content": null,
            "justify_items": null,
            "left": null,
            "margin": null,
            "max_height": null,
            "max_width": null,
            "min_height": null,
            "min_width": null,
            "object_fit": null,
            "object_position": null,
            "order": null,
            "overflow": null,
            "overflow_x": null,
            "overflow_y": null,
            "padding": null,
            "right": null,
            "top": null,
            "visibility": null,
            "width": null
          }
        },
        "a5fd824b8eb64bb7b8d83354961927e6": {
          "model_module": "@jupyter-widgets/controls",
          "model_name": "ProgressStyleModel",
          "model_module_version": "1.5.0",
          "state": {
            "_model_module": "@jupyter-widgets/controls",
            "_model_module_version": "1.5.0",
            "_model_name": "ProgressStyleModel",
            "_view_count": null,
            "_view_module": "@jupyter-widgets/base",
            "_view_module_version": "1.2.0",
            "_view_name": "StyleView",
            "bar_color": null,
            "description_width": ""
          }
        },
        "17e3d063396848548af91c55c8f8e282": {
          "model_module": "@jupyter-widgets/base",
          "model_name": "LayoutModel",
          "model_module_version": "1.2.0",
          "state": {
            "_model_module": "@jupyter-widgets/base",
            "_model_module_version": "1.2.0",
            "_model_name": "LayoutModel",
            "_view_count": null,
            "_view_module": "@jupyter-widgets/base",
            "_view_module_version": "1.2.0",
            "_view_name": "LayoutView",
            "align_content": null,
            "align_items": null,
            "align_self": null,
            "border": null,
            "bottom": null,
            "display": null,
            "flex": null,
            "flex_flow": null,
            "grid_area": null,
            "grid_auto_columns": null,
            "grid_auto_flow": null,
            "grid_auto_rows": null,
            "grid_column": null,
            "grid_gap": null,
            "grid_row": null,
            "grid_template_areas": null,
            "grid_template_columns": null,
            "grid_template_rows": null,
            "height": null,
            "justify_content": null,
            "justify_items": null,
            "left": null,
            "margin": null,
            "max_height": null,
            "max_width": null,
            "min_height": null,
            "min_width": null,
            "object_fit": null,
            "object_position": null,
            "order": null,
            "overflow": null,
            "overflow_x": null,
            "overflow_y": null,
            "padding": null,
            "right": null,
            "top": null,
            "visibility": null,
            "width": null
          }
        },
        "a3b48bc669674ff2a0bcce75a50e81eb": {
          "model_module": "@jupyter-widgets/controls",
          "model_name": "DescriptionStyleModel",
          "model_module_version": "1.5.0",
          "state": {
            "_model_module": "@jupyter-widgets/controls",
            "_model_module_version": "1.5.0",
            "_model_name": "DescriptionStyleModel",
            "_view_count": null,
            "_view_module": "@jupyter-widgets/base",
            "_view_module_version": "1.2.0",
            "_view_name": "StyleView",
            "description_width": ""
          }
        },
        "8fbdb230253a4152be95bf6229049f09": {
          "model_module": "@jupyter-widgets/controls",
          "model_name": "HBoxModel",
          "model_module_version": "1.5.0",
          "state": {
            "_dom_classes": [],
            "_model_module": "@jupyter-widgets/controls",
            "_model_module_version": "1.5.0",
            "_model_name": "HBoxModel",
            "_view_count": null,
            "_view_module": "@jupyter-widgets/controls",
            "_view_module_version": "1.5.0",
            "_view_name": "HBoxView",
            "box_style": "",
            "children": [
              "IPY_MODEL_857f0c099d8549e98991a93c791db4c1",
              "IPY_MODEL_16561789e2b9417a80ddcb6ef9d8676a",
              "IPY_MODEL_050c9d6bfd1e4b6ebe67401183a8d397"
            ],
            "layout": "IPY_MODEL_5874591082f944ff9b32202a1edbfd60"
          }
        },
        "857f0c099d8549e98991a93c791db4c1": {
          "model_module": "@jupyter-widgets/controls",
          "model_name": "HTMLModel",
          "model_module_version": "1.5.0",
          "state": {
            "_dom_classes": [],
            "_model_module": "@jupyter-widgets/controls",
            "_model_module_version": "1.5.0",
            "_model_name": "HTMLModel",
            "_view_count": null,
            "_view_module": "@jupyter-widgets/controls",
            "_view_module_version": "1.5.0",
            "_view_name": "HTMLView",
            "description": "",
            "description_tooltip": null,
            "layout": "IPY_MODEL_8c968b160d3d4fbb998840734f9f07e4",
            "placeholder": "​",
            "style": "IPY_MODEL_d2fd7c9e56b1419f9d23a10c260a7c7d",
            "value": ""
          }
        },
        "16561789e2b9417a80ddcb6ef9d8676a": {
          "model_module": "@jupyter-widgets/controls",
          "model_name": "FloatProgressModel",
          "model_module_version": "1.5.0",
          "state": {
            "_dom_classes": [],
            "_model_module": "@jupyter-widgets/controls",
            "_model_module_version": "1.5.0",
            "_model_name": "FloatProgressModel",
            "_view_count": null,
            "_view_module": "@jupyter-widgets/controls",
            "_view_module_version": "1.5.0",
            "_view_name": "ProgressView",
            "bar_style": "success",
            "description": "",
            "description_tooltip": null,
            "layout": "IPY_MODEL_4a03fb6d945f4102bc4f7192195d810d",
            "max": 1,
            "min": 0,
            "orientation": "horizontal",
            "style": "IPY_MODEL_8ab2466b187047fbbe4d8b72455b1108",
            "value": 1
          }
        },
        "050c9d6bfd1e4b6ebe67401183a8d397": {
          "model_module": "@jupyter-widgets/controls",
          "model_name": "HTMLModel",
          "model_module_version": "1.5.0",
          "state": {
            "_dom_classes": [],
            "_model_module": "@jupyter-widgets/controls",
            "_model_module_version": "1.5.0",
            "_model_name": "HTMLModel",
            "_view_count": null,
            "_view_module": "@jupyter-widgets/controls",
            "_view_module_version": "1.5.0",
            "_view_name": "HTMLView",
            "description": "",
            "description_tooltip": null,
            "layout": "IPY_MODEL_89472d79793e4db9afa6845fb016c8ad",
            "placeholder": "​",
            "style": "IPY_MODEL_f5e79b8c3a634eae8a555f18b9dc9bd6",
            "value": " 1680/? [00:55&lt;00:00, 30.41ex/s]"
          }
        },
        "5874591082f944ff9b32202a1edbfd60": {
          "model_module": "@jupyter-widgets/base",
          "model_name": "LayoutModel",
          "model_module_version": "1.2.0",
          "state": {
            "_model_module": "@jupyter-widgets/base",
            "_model_module_version": "1.2.0",
            "_model_name": "LayoutModel",
            "_view_count": null,
            "_view_module": "@jupyter-widgets/base",
            "_view_module_version": "1.2.0",
            "_view_name": "LayoutView",
            "align_content": null,
            "align_items": null,
            "align_self": null,
            "border": null,
            "bottom": null,
            "display": null,
            "flex": null,
            "flex_flow": null,
            "grid_area": null,
            "grid_auto_columns": null,
            "grid_auto_flow": null,
            "grid_auto_rows": null,
            "grid_column": null,
            "grid_gap": null,
            "grid_row": null,
            "grid_template_areas": null,
            "grid_template_columns": null,
            "grid_template_rows": null,
            "height": null,
            "justify_content": null,
            "justify_items": null,
            "left": null,
            "margin": null,
            "max_height": null,
            "max_width": null,
            "min_height": null,
            "min_width": null,
            "object_fit": null,
            "object_position": null,
            "order": null,
            "overflow": null,
            "overflow_x": null,
            "overflow_y": null,
            "padding": null,
            "right": null,
            "top": null,
            "visibility": null,
            "width": null
          }
        },
        "8c968b160d3d4fbb998840734f9f07e4": {
          "model_module": "@jupyter-widgets/base",
          "model_name": "LayoutModel",
          "model_module_version": "1.2.0",
          "state": {
            "_model_module": "@jupyter-widgets/base",
            "_model_module_version": "1.2.0",
            "_model_name": "LayoutModel",
            "_view_count": null,
            "_view_module": "@jupyter-widgets/base",
            "_view_module_version": "1.2.0",
            "_view_name": "LayoutView",
            "align_content": null,
            "align_items": null,
            "align_self": null,
            "border": null,
            "bottom": null,
            "display": null,
            "flex": null,
            "flex_flow": null,
            "grid_area": null,
            "grid_auto_columns": null,
            "grid_auto_flow": null,
            "grid_auto_rows": null,
            "grid_column": null,
            "grid_gap": null,
            "grid_row": null,
            "grid_template_areas": null,
            "grid_template_columns": null,
            "grid_template_rows": null,
            "height": null,
            "justify_content": null,
            "justify_items": null,
            "left": null,
            "margin": null,
            "max_height": null,
            "max_width": null,
            "min_height": null,
            "min_width": null,
            "object_fit": null,
            "object_position": null,
            "order": null,
            "overflow": null,
            "overflow_x": null,
            "overflow_y": null,
            "padding": null,
            "right": null,
            "top": null,
            "visibility": null,
            "width": null
          }
        },
        "d2fd7c9e56b1419f9d23a10c260a7c7d": {
          "model_module": "@jupyter-widgets/controls",
          "model_name": "DescriptionStyleModel",
          "model_module_version": "1.5.0",
          "state": {
            "_model_module": "@jupyter-widgets/controls",
            "_model_module_version": "1.5.0",
            "_model_name": "DescriptionStyleModel",
            "_view_count": null,
            "_view_module": "@jupyter-widgets/base",
            "_view_module_version": "1.2.0",
            "_view_name": "StyleView",
            "description_width": ""
          }
        },
        "4a03fb6d945f4102bc4f7192195d810d": {
          "model_module": "@jupyter-widgets/base",
          "model_name": "LayoutModel",
          "model_module_version": "1.2.0",
          "state": {
            "_model_module": "@jupyter-widgets/base",
            "_model_module_version": "1.2.0",
            "_model_name": "LayoutModel",
            "_view_count": null,
            "_view_module": "@jupyter-widgets/base",
            "_view_module_version": "1.2.0",
            "_view_name": "LayoutView",
            "align_content": null,
            "align_items": null,
            "align_self": null,
            "border": null,
            "bottom": null,
            "display": null,
            "flex": null,
            "flex_flow": null,
            "grid_area": null,
            "grid_auto_columns": null,
            "grid_auto_flow": null,
            "grid_auto_rows": null,
            "grid_column": null,
            "grid_gap": null,
            "grid_row": null,
            "grid_template_areas": null,
            "grid_template_columns": null,
            "grid_template_rows": null,
            "height": null,
            "justify_content": null,
            "justify_items": null,
            "left": null,
            "margin": null,
            "max_height": null,
            "max_width": null,
            "min_height": null,
            "min_width": null,
            "object_fit": null,
            "object_position": null,
            "order": null,
            "overflow": null,
            "overflow_x": null,
            "overflow_y": null,
            "padding": null,
            "right": null,
            "top": null,
            "visibility": null,
            "width": "20px"
          }
        },
        "8ab2466b187047fbbe4d8b72455b1108": {
          "model_module": "@jupyter-widgets/controls",
          "model_name": "ProgressStyleModel",
          "model_module_version": "1.5.0",
          "state": {
            "_model_module": "@jupyter-widgets/controls",
            "_model_module_version": "1.5.0",
            "_model_name": "ProgressStyleModel",
            "_view_count": null,
            "_view_module": "@jupyter-widgets/base",
            "_view_module_version": "1.2.0",
            "_view_name": "StyleView",
            "bar_color": null,
            "description_width": ""
          }
        },
        "89472d79793e4db9afa6845fb016c8ad": {
          "model_module": "@jupyter-widgets/base",
          "model_name": "LayoutModel",
          "model_module_version": "1.2.0",
          "state": {
            "_model_module": "@jupyter-widgets/base",
            "_model_module_version": "1.2.0",
            "_model_name": "LayoutModel",
            "_view_count": null,
            "_view_module": "@jupyter-widgets/base",
            "_view_module_version": "1.2.0",
            "_view_name": "LayoutView",
            "align_content": null,
            "align_items": null,
            "align_self": null,
            "border": null,
            "bottom": null,
            "display": null,
            "flex": null,
            "flex_flow": null,
            "grid_area": null,
            "grid_auto_columns": null,
            "grid_auto_flow": null,
            "grid_auto_rows": null,
            "grid_column": null,
            "grid_gap": null,
            "grid_row": null,
            "grid_template_areas": null,
            "grid_template_columns": null,
            "grid_template_rows": null,
            "height": null,
            "justify_content": null,
            "justify_items": null,
            "left": null,
            "margin": null,
            "max_height": null,
            "max_width": null,
            "min_height": null,
            "min_width": null,
            "object_fit": null,
            "object_position": null,
            "order": null,
            "overflow": null,
            "overflow_x": null,
            "overflow_y": null,
            "padding": null,
            "right": null,
            "top": null,
            "visibility": null,
            "width": null
          }
        },
        "f5e79b8c3a634eae8a555f18b9dc9bd6": {
          "model_module": "@jupyter-widgets/controls",
          "model_name": "DescriptionStyleModel",
          "model_module_version": "1.5.0",
          "state": {
            "_model_module": "@jupyter-widgets/controls",
            "_model_module_version": "1.5.0",
            "_model_name": "DescriptionStyleModel",
            "_view_count": null,
            "_view_module": "@jupyter-widgets/base",
            "_view_module_version": "1.2.0",
            "_view_name": "StyleView",
            "description_width": ""
          }
        }
      }
    }
  },
  "cells": [
    {
      "cell_type": "markdown",
      "metadata": {
        "id": "LBSYoWbi-45k"
      },
      "source": [
        "# **Fine-tuning Wav2Vec2 for English ASR with 🤗 Transformers**"
      ]
    },
    {
      "cell_type": "markdown",
      "metadata": {
        "id": "V7YOT2mnUiea"
      },
      "source": [
        "Wav2Vec2 is a pretrained model for Automatic Speech Recognition (ASR) and was released in [September 2020](https://ai.facebook.com/blog/wav2vec-20-learning-the-structure-of-speech-from-raw-audio/) by Alexei Baevski, Michael Auli, and Alex Conneau.\n",
        "\n",
        "Using a novel contrastive pretraining objective, Wav2Vec2 learns powerful speech representations from more than 50.000 hours of unlabeled speech. Similar, to [BERT's masked language modeling](http://jalammar.github.io/illustrated-bert/), the model learns contextualized speech representations by randomly masking feature vectors before passing them to a transformer network.\n",
        "\n",
        "![wav2vec2_structure](https://raw.githubusercontent.com/patrickvonplaten/scientific_images/master/wav2vec2.png)\n",
        "\n",
        "For the first time, it has been shown that pretraining, followed by fine-tuning on very little labeled speech data achieves competitive results to state-of-the-art ASR systems. Using as little as 10 minutes of labeled data, Wav2Vec2 yields a word error rate (WER) of less than 5% on the clean test set of [LibriSpeech](https://huggingface.co/datasets/librispeech_asr) - *cf.* with Table 9 of the [paper](https://arxiv.org/pdf/2006.11477.pdf)."
      ]
    },
    {
      "cell_type": "markdown",
      "metadata": {
        "id": "nT_QrfWtsxIz"
      },
      "source": [
        "In this notebook, we will give an in-detail explanation of how Wav2Vec2's pretrained checkpoints can be fine-tuned on any English ASR dataset. Note that in this notebook, we will fine-tune Wav2Vec2 without making use of a language model. It is much simpler to use Wav2Vec2 without a language model as an end-to-end ASR system and it has been shown that a standalone Wav2Vec2 acoustic model achieves impressive results. For demonstration purposes, we fine-tune the \"base\"-sized [pretrained checkpoint](https://huggingface.co/facebook/wav2vec2-base) on the rather small [Timit](https://huggingface.co/datasets/timit_asr) dataset that contains just 5h of training data."
      ]
    },
    {
      "cell_type": "markdown",
      "metadata": {
        "id": "Gx9OdDYrCtQ1"
      },
      "source": [
        "Wav2Vec2 is fine-tuned using Connectionist Temporal Classification (CTC), which is an algorithm that is used to train neural networks for sequence-to-sequence problems and mainly in Automatic Speech Recognition and handwriting recognition. \n",
        "\n",
        "I highly recommend reading the blog post [Sequence Modeling with CTC (2017)](https://distill.pub/2017/ctc/) very well-written blog post by Awni Hannun."
      ]
    },
    {
      "cell_type": "markdown",
      "metadata": {
        "id": "qW3J3rBizeds"
      },
      "source": [
        "First, let's try to get a good GPU in our colab! With Google Colab's free version it's sadly becoming much harder to get access to a good GPU. With Google Colab Pro, one has a much easier time getting access to a V100 or P100 GPU however."
      ]
    },
    {
      "cell_type": "code",
      "metadata": {
        "id": "SLAufgh_xxj7",
        "colab": {
          "base_uri": "https://localhost:8080/"
        },
        "outputId": "cc79c142-d852-4685-a203-bc11e63de77f"
      },
      "source": [
        "gpu_info = !nvidia-smi\n",
        "gpu_info = '\\n'.join(gpu_info)\n",
        "if gpu_info.find('failed') >= 0:\n",
        "  print('Not connected to a GPU')\n",
        "else:\n",
        "  print(gpu_info)"
      ],
      "execution_count": 1,
      "outputs": [
        {
          "output_type": "stream",
          "name": "stdout",
          "text": [
            "Mon Oct  3 14:49:17 2022       \n",
            "+-----------------------------------------------------------------------------+\n",
            "| NVIDIA-SMI 460.32.03    Driver Version: 460.32.03    CUDA Version: 11.2     |\n",
            "|-------------------------------+----------------------+----------------------+\n",
            "| GPU  Name        Persistence-M| Bus-Id        Disp.A | Volatile Uncorr. ECC |\n",
            "| Fan  Temp  Perf  Pwr:Usage/Cap|         Memory-Usage | GPU-Util  Compute M. |\n",
            "|                               |                      |               MIG M. |\n",
            "|===============================+======================+======================|\n",
            "|   0  Tesla T4            Off  | 00000000:00:04.0 Off |                    0 |\n",
            "| N/A   37C    P8     9W /  70W |      0MiB / 15109MiB |      0%      Default |\n",
            "|                               |                      |                  N/A |\n",
            "+-------------------------------+----------------------+----------------------+\n",
            "                                                                               \n",
            "+-----------------------------------------------------------------------------+\n",
            "| Processes:                                                                  |\n",
            "|  GPU   GI   CI        PID   Type   Process name                  GPU Memory |\n",
            "|        ID   ID                                                   Usage      |\n",
            "|=============================================================================|\n",
            "|  No running processes found                                                 |\n",
            "+-----------------------------------------------------------------------------+\n"
          ]
        }
      ]
    },
    {
      "cell_type": "markdown",
      "metadata": {
        "id": "e335hPmdtASZ"
      },
      "source": [
        "Before we start, let's install both `datasets` and `transformers` from master. Also, we need the `librosa` package to load audio files and the `jiwer` to evaluate our fine-tuned model using the [word error rate (WER)](https://huggingface.co/metrics/wer) metric ${}^1$."
      ]
    },
    {
      "cell_type": "code",
      "metadata": {
        "id": "c8eh87Hoee5d"
      },
      "source": [
        "%%capture\n",
        "!pip install datasets==1.18.3\n",
        "!pip install transformers==4.17.0\n",
        "!pip install jiwer"
      ],
      "execution_count": 2,
      "outputs": []
    },
    {
      "cell_type": "markdown",
      "source": [
        "#Forced Aligner"
      ],
      "metadata": {
        "id": "aPfoASFXVWSf"
      }
    },
    {
      "cell_type": "markdown",
      "source": [
        "Install CTC-Segmentation package"
      ],
      "metadata": {
        "id": "nXktVy5HbySI"
      }
    },
    {
      "cell_type": "code",
      "source": [
        "!pip install ctc_segmentation"
      ],
      "metadata": {
        "colab": {
          "base_uri": "https://localhost:8080/"
        },
        "id": "Zy03meNuVdlF",
        "outputId": "97ffc34a-e184-48b7-fc92-f875253c990a"
      },
      "execution_count": 4,
      "outputs": [
        {
          "output_type": "stream",
          "name": "stdout",
          "text": [
            "Looking in indexes: https://pypi.org/simple, https://us-python.pkg.dev/colab-wheels/public/simple/\n",
            "Collecting ctc_segmentation\n",
            "  Downloading ctc_segmentation-1.7.3.tar.gz (73 kB)\n",
            "\u001b[K     |████████████████████████████████| 73 kB 1.8 MB/s \n",
            "\u001b[?25h  Installing build dependencies ... \u001b[?25l\u001b[?25hdone\n",
            "  Getting requirements to build wheel ... \u001b[?25l\u001b[?25hdone\n",
            "    Preparing wheel metadata ... \u001b[?25l\u001b[?25hdone\n",
            "Requirement already satisfied: Cython in /usr/local/lib/python3.7/dist-packages (from ctc_segmentation) (0.29.32)\n",
            "Requirement already satisfied: numpy in /usr/local/lib/python3.7/dist-packages (from ctc_segmentation) (1.21.6)\n",
            "Requirement already satisfied: setuptools in /usr/local/lib/python3.7/dist-packages (from ctc_segmentation) (57.4.0)\n",
            "Building wheels for collected packages: ctc-segmentation\n",
            "  Building wheel for ctc-segmentation (PEP 517) ... \u001b[?25l\u001b[?25hdone\n",
            "  Created wheel for ctc-segmentation: filename=ctc_segmentation-1.7.3-cp37-cp37m-linux_x86_64.whl size=116118 sha256=934e6b1b7d163a5d25113f02a8d4184b159785de3c205e1b450e7efb52f0f908\n",
            "  Stored in directory: /root/.cache/pip/wheels/ea/75/dd/20a877c8ca5efbf5f19d9ff1cfd5c7e0934f55b70aec99f795\n",
            "Successfully built ctc-segmentation\n",
            "Installing collected packages: ctc-segmentation\n",
            "Successfully installed ctc-segmentation-1.7.3\n"
          ]
        }
      ]
    },
    {
      "cell_type": "markdown",
      "source": [
        "#Load Audio as raw waveform"
      ],
      "metadata": {
        "id": "A2LwER9PbbcG"
      }
    },
    {
      "cell_type": "code",
      "source": [
        "import librosa\n",
        "audio, rate = librosa.load(\"taken_clip.wav\", sr = 16000)"
      ],
      "metadata": {
        "id": "eOYZJJ8xbZfc"
      },
      "execution_count": 19,
      "outputs": []
    },
    {
      "cell_type": "code",
      "source": [
        "import torch\n",
        "import numpy as np\n",
        "from typing import List\n",
        "import ctc_segmentation\n",
        "from datasets import load_dataset\n",
        "from transformers import Wav2Vec2Processor, Wav2Vec2ForCTC, Wav2Vec2CTCTokenizer\n",
        "\n",
        "# load model, processor and tokenizer\n",
        "model_name = \"jonatasgrosman/wav2vec2-large-xlsr-53-english\"\n",
        "processor = Wav2Vec2Processor.from_pretrained(model_name)\n",
        "tokenizer = Wav2Vec2CTCTokenizer.from_pretrained(model_name)\n",
        "model = Wav2Vec2ForCTC.from_pretrained(model_name)\n",
        "\n",
        "# load dummy dataset and read soundfiles\n",
        "SAMPLERATE = rate\n",
        "\n",
        "transcripts = \"I will look far you I will find you and I will kill you\".split(\" \")\n",
        "print(\"Transcript: \", transcripts)\n",
        "\n",
        "def align_with_transcript(\n",
        "    audio : np.ndarray,\n",
        "    transcripts : List[str],\n",
        "    samplerate : int = SAMPLERATE,\n",
        "    model : Wav2Vec2ForCTC = model,\n",
        "    processor : Wav2Vec2Processor = processor,\n",
        "    tokenizer : Wav2Vec2CTCTokenizer = tokenizer\n",
        "):\n",
        "    assert audio.ndim == 1\n",
        "    # Run prediction, get logits and probabilities\n",
        "    inputs = processor(audio, return_tensors=\"pt\", padding=\"longest\")\n",
        "    with torch.no_grad():\n",
        "        logits = model(inputs.input_values).logits.cpu()[0]\n",
        "        probs = torch.nn.functional.softmax(logits,dim=-1)\n",
        "    \n",
        "    # Tokenize transcripts\n",
        "    vocab = tokenizer.get_vocab()\n",
        "    inv_vocab = {v:k for k,v in vocab.items()}\n",
        "    unk_id = vocab[\"<unk>\"]\n",
        "    \n",
        "    tokens = []\n",
        "    for transcript in transcripts:\n",
        "        assert len(transcript) > 0\n",
        "        tok_ids = tokenizer(transcript.replace(\"\\n\",\" \").lower())['input_ids']\n",
        "        tok_ids = np.array(tok_ids,dtype=np.int)\n",
        "        tokens.append(tok_ids[tok_ids != unk_id])\n",
        "    \n",
        "    # Align\n",
        "    char_list = [inv_vocab[i] for i in range(len(inv_vocab))]\n",
        "    config = ctc_segmentation.CtcSegmentationParameters(char_list=char_list)\n",
        "    config.index_duration = audio.shape[0] / probs.size()[0] / samplerate\n",
        "    \n",
        "    ground_truth_mat, utt_begin_indices = ctc_segmentation.prepare_token_list(config, tokens)\n",
        "    timings, char_probs, state_list = ctc_segmentation.ctc_segmentation(config, probs.numpy(), ground_truth_mat)\n",
        "    segments = ctc_segmentation.determine_utterance_segments(config, utt_begin_indices, char_probs, timings, transcripts)\n",
        "    return [{\"text\" : t, \"start\" : p[0], \"end\" : p[1], \"conf\" : p[2]} for t,p in zip(transcripts, segments)]\n",
        "    \n",
        "def get_word_timestamps(\n",
        "    audio : np.ndarray,\n",
        "    samplerate : int = SAMPLERATE,\n",
        "    model : Wav2Vec2ForCTC = model,\n",
        "    processor : Wav2Vec2Processor = processor,\n",
        "    tokenizer : Wav2Vec2CTCTokenizer = tokenizer\n",
        "):\n",
        "    assert audio.ndim == 1\n",
        "    # Run prediction, get logits and probabilities\n",
        "    inputs = processor(audio, return_tensors=\"pt\", padding=\"longest\")\n",
        "    with torch.no_grad():\n",
        "        logits = model(inputs.input_values).logits.cpu()[0]\n",
        "        probs = torch.nn.functional.softmax(logits,dim=-1)\n",
        "        \n",
        "    predicted_ids = torch.argmax(logits, dim=-1)\n",
        "    pred_transcript = processor.decode(predicted_ids)\n",
        "    \n",
        "    # Split the transcription into words\n",
        "    words = pred_transcript.split(\" \")\n",
        "    \n",
        "    # Align\n",
        "    vocab = tokenizer.get_vocab()\n",
        "    inv_vocab = {v:k for k,v in vocab.items()}\n",
        "    char_list = [inv_vocab[i] for i in range(len(inv_vocab))]\n",
        "    config = ctc_segmentation.CtcSegmentationParameters(char_list=char_list)\n",
        "    config.index_duration = audio.shape[0] / probs.size()[0] / samplerate\n",
        "    \n",
        "    ground_truth_mat, utt_begin_indices = ctc_segmentation.prepare_text(config, words)\n",
        "    timings, char_probs, state_list = ctc_segmentation.ctc_segmentation(config, probs.numpy(), ground_truth_mat)\n",
        "    segments = ctc_segmentation.determine_utterance_segments(config, utt_begin_indices, char_probs, timings, words)\n",
        "    return [{\"text\" : w, \"start\" : p[0], \"end\" : p[1], \"conf\" : p[2]} for w,p in zip(words, segments)]\n"
      ],
      "metadata": {
        "colab": {
          "base_uri": "https://localhost:8080/"
        },
        "id": "8SBcB_pYVUr_",
        "outputId": "302fb223-19c7-431d-c4ac-b1450e929026"
      },
      "execution_count": 29,
      "outputs": [
        {
          "output_type": "stream",
          "name": "stdout",
          "text": [
            "Transcript:  ['I', 'will', 'look', 'far', 'you', 'I', 'will', 'find', 'you', 'and', 'I', 'will', 'kill', 'you']\n"
          ]
        }
      ]
    },
    {
      "cell_type": "code",
      "source": [
        "\n",
        "print(align_with_transcript(audio,transcripts))\n",
        "# [{'text': 'A MAN SAID TO THE UNIVERSE', 'start': 0.08124999999999993, 'end': 2.034375, 'conf': 0.0}, \n",
        "#  {'text': 'SIR I EXIST', 'start': 2.3260775862068965, 'end': 4.078771551724138, 'conf': 0.0}]\n",
        "\n",
        "# print(get_word_timestamps(audio))\n",
        "# [{'text': 'a', 'start': 0.08124999999999993, 'end': 0.5912715517241378, 'conf': 0.9999501323699951}, \n",
        "# {'text': 'man', 'start': 0.5912715517241378, 'end': 0.9219827586206896, 'conf': 0.9409108982174931}, \n",
        "# {'text': 'said', 'start': 0.9219827586206896, 'end': 1.2326508620689656, 'conf': 0.7700278702302796}, \n",
        "# {'text': 'to', 'start': 1.2326508620689656, 'end': 1.3529094827586206, 'conf': 0.5094435178226225}, \n",
        "# {'text': 'the', 'start': 1.3529094827586206, 'end': 1.4831896551724135, 'conf': 0.4580493446392211}, \n",
        "# {'text': 'universe', 'start': 1.4831896551724135, 'end': 2.034375, 'conf': 0.9285054256219009}, \n",
        "# {'text': 'sir', 'start': 2.3260775862068965, 'end': 3.036530172413793, 'conf': 0.0}, \n",
        "# {'text': 'i', 'start': 3.036530172413793, 'end': 3.347198275862069, 'conf': 0.7995760873559864}, \n",
        "# {'text': 'exist', 'start': 3.347198275862069, 'end': 4.078771551724138, 'conf': 0.0}]\n"
      ],
      "metadata": {
        "colab": {
          "base_uri": "https://localhost:8080/"
        },
        "id": "sm-wRTBOYLg3",
        "outputId": "2aed9d4c-f6d9-435c-e37f-e1d12398dfc9"
      },
      "execution_count": 28,
      "outputs": [
        {
          "output_type": "stream",
          "name": "stderr",
          "text": [
            "It is strongly recommended to pass the ``sampling_rate`` argument to this function. Failing to do so can result in silent errors that might be hard to debug.\n"
          ]
        },
        {
          "output_type": "stream",
          "name": "stdout",
          "text": [
            "[{'text': 'I', 'start': 0.38108573487031694, 'end': 0.8910980727665705, 'conf': 0.9997500252723693}, {'text': 'will', 'start': 0.8910980727665705, 'end': 1.0713201548991353, 'conf': 0.8845996173719565}, {'text': 'look', 'start': 1.0713201548991353, 'end': 1.231517561239193, 'conf': 0.8864015689145567}, {'text': 'for', 'start': 1.231517561239193, 'end': 1.3716902917867435, 'conf': 0.6586618559570828}, {'text': 'you', 'start': 1.3716902917867435, 'end': 1.5419000360230548, 'conf': 0.8265798753564013}, {'text': 'I', 'start': 2.323479286743516, 'end': 2.8334916246397697, 'conf': 0.9791690913530496}, {'text': 'will', 'start': 2.8334916246397697, 'end': 3.11383708573487, 'conf': 0.8744945121662957}, {'text': 'find', 'start': 3.11383708573487, 'end': 3.374157871037464, 'conf': 0.9117964762114449}, {'text': 'you', 'start': 3.374157871037464, 'end': 3.5643922910662824, 'conf': 0.7452521012514808}, {'text': 'and', 'start': 5.106909221902018, 'end': 5.676995587175792, 'conf': 0.9998085642683094}, {'text': 'I', 'start': 5.676995587175792, 'end': 5.817168317723343, 'conf': 0.6444075867184438}, {'text': 'will', 'start': 5.817168317723343, 'end': 6.017415075648415, 'conf': 0.8783987462520599}, {'text': 'kill', 'start': 6.017415075648415, 'end': 6.277735860951008, 'conf': 0.9120087239425629}, {'text': 'you', 'start': 6.277735860951008, 'end': 6.467970280979827, 'conf': 0.7757960321513464}]\n"
          ]
        },
        {
          "output_type": "stream",
          "name": "stderr",
          "text": [
            "/usr/local/lib/python3.7/dist-packages/ipykernel_launcher.py:44: DeprecationWarning: `np.int` is a deprecated alias for the builtin `int`. To silence this warning, use `int` by itself. Doing this will not modify any behavior and is safe. When replacing `np.int`, you may wish to use e.g. `np.int64` or `np.int32` to specify the precision. If you wish to review your current use, check the release note link for additional information.\n",
            "Deprecated in NumPy 1.20; for more details and guidance: https://numpy.org/devdocs/release/1.20.0-notes.html#deprecations\n"
          ]
        }
      ]
    },
    {
      "cell_type": "markdown",
      "source": [
        "# Play audio sample"
      ],
      "metadata": {
        "id": "bLL5-BNSXwfD"
      }
    },
    {
      "cell_type": "code",
      "source": [
        "from IPython.display import Audio\n",
        "Audio(audio, rate=rate)\n",
        "# print(audio)\n",
        "# import IPython.display as display\n",
        "# display.Audio(audio, autoplay=True, rate=16000)"
      ],
      "metadata": {
        "colab": {
          "base_uri": "https://localhost:8080/",
          "height": 52
        },
        "id": "us9i3MxLXyt3",
        "outputId": "f606fa84-c796-4d46-fac1-ae5cffb2ef95"
      },
      "execution_count": 20,
      "outputs": [
        {
          "output_type": "execute_result",
          "data": {
            "text/plain": [
              "<IPython.lib.display.Audio object>"
            ],
            "text/html": [
              "\n",
              "                <audio  controls=\"controls\" >\n",
              "                    <source src=\"data:audio/wav;base64,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\" type=\"audio/wav\" />\n",
              "                    Your browser does not support the audio element.\n",
              "                </audio>\n",
              "              "
            ]
          },
          "metadata": {},
          "execution_count": 20
        }
      ]
    },
    {
      "cell_type": "markdown",
      "metadata": {
        "id": "8_6kYmDMH9lR"
      },
      "source": [
        "Next we strongly suggest to upload your training checkpoints directly to the [🤗 Hub](https://huggingface.co/) while training. The [🤗 Hub](https://huggingface.co/) has integrated version control so you can be sure that no model checkpoint is getting lost during training. \n",
        "\n",
        "To do so you have to store your authentication token from the Hugging Face website (sign up [here](https://huggingface.co/join) if you haven't already!)"
      ]
    },
    {
      "cell_type": "code",
      "metadata": {
        "colab": {
          "base_uri": "https://localhost:8080/",
          "height": 385,
          "referenced_widgets": [
            "4fae0d04a34b4fbcbbac419ef522389d",
            "04889e8a534846219c60b6c637ff9703",
            "dd0d9ccef1b34806a8989f882caca422",
            "cfcf385787a94992ac39070cad8fcada",
            "6d2c83e9574c4b0796e73ccc5ba2632e",
            "8f15f29ae18640d3ba9215ca91e764b7",
            "b58bd0d46cbc4d7ab932940941d2ad36",
            "b807a57d90ae41c1bfa3a54b121affd1",
            "edbc56749e544622be7717992bd72dbc",
            "3328f4a664d24ba89dbc892734a3ed58",
            "e0c3115ae01a44848620d6f19a071542",
            "ecc433611c5144d3a909627ffb08eb77",
            "3378d5d15d0f4c45a286842339425003",
            "70914255a10141ef8882c4e69a4f4057",
            "5ca38ad0652b4d27ba646d6b55298498",
            "84c3f51a7956477eaa1c9ecdeba5c00a",
            "1eb4c98ebb084e8898b793265738b7fc"
          ]
        },
        "id": "zFLBDyzQIA3R",
        "outputId": "fb99cad5-09f1-47b9-aeec-edd541e11603"
      },
      "source": [
        "from huggingface_hub import notebook_login\n",
        "\n",
        "notebook_login()"
      ],
      "execution_count": null,
      "outputs": [
        {
          "output_type": "stream",
          "name": "stdout",
          "text": [
            "Login successful\n",
            "Your token has been saved to /root/.huggingface/token\n",
            "\u001b[1m\u001b[31mAuthenticated through git-credential store but this isn't the helper defined on your machine.\n",
            "You might have to re-authenticate when pushing to the Hugging Face Hub. Run the following command in your terminal in case you want to set this credential helper as the default\n",
            "\n",
            "git config --global credential.helper store\u001b[0m\n"
          ]
        }
      ]
    },
    {
      "cell_type": "markdown",
      "metadata": {
        "id": "zCyw5D23IQ1F"
      },
      "source": [
        "\n",
        "Then you need to install Git-LFS to upload your model checkpoints:"
      ]
    },
    {
      "cell_type": "code",
      "metadata": {
        "id": "Q9BnQDhOITBC"
      },
      "source": [
        "%%capture\n",
        "!apt install git-lfs"
      ],
      "execution_count": null,
      "outputs": []
    },
    {
      "cell_type": "markdown",
      "metadata": {
        "id": "Mn9swf6EQ9Vd"
      },
      "source": [
        "\n",
        "\n",
        "\n",
        "---\n",
        "\n",
        "${}^1$ Timit is usually evaluated using the phoneme error rate (PER), but by far the most common metric in ASR is the word error rate (WER). To keep this notebook as general as possible we decided to evaluate the model using WER."
      ]
    },
    {
      "cell_type": "markdown",
      "metadata": {
        "id": "0mW-C1Nt-j7k"
      },
      "source": [
        "## Prepare Data, Tokenizer, Feature Extractor"
      ]
    },
    {
      "cell_type": "markdown",
      "metadata": {
        "id": "BeBosnY9BH3e"
      },
      "source": [
        "ASR models transcribe speech to text, which means that we both need a feature extractor that processes the speech signal to the model's input format, *e.g.* a feature vector, and a tokenizer that processes the model's output format to text. \n",
        "\n",
        "In 🤗 Transformers, the Wav2Vec2 model is thus accompanied by both a tokenizer, called [Wav2Vec2CTCTokenizer](https://huggingface.co/transformers/master/model_doc/wav2vec2.html#wav2vec2ctctokenizer), and a feature extractor, called [Wav2Vec2FeatureExtractor](https://huggingface.co/transformers/master/model_doc/wav2vec2.html#wav2vec2featureextractor).\n",
        "\n",
        "Let's start by creating the tokenizer responsible for decoding the model's predictions."
      ]
    },
    {
      "cell_type": "markdown",
      "metadata": {
        "id": "sEXEWEJGQPqD"
      },
      "source": [
        "### Create Wav2Vec2CTCTokenizer"
      ]
    },
    {
      "cell_type": "markdown",
      "metadata": {
        "id": "tWmMikuNEKl_"
      },
      "source": [
        "The [pretrained Wav2Vec2 checkpoint]( ) maps the speech signal to a sequence of context representations as illustrated in the figure above. A fine-tuned Wav2Vec2 checkpoint needs to map this sequence of context representations to its corresponding transcription so that a linear layer has to be added on top of the transformer block (shown in yellow). This linear layer is used to classifies each context representation to a token class analogous how, *e.g.*, after pretraining a linear layer is added on top of BERT's embeddings for further classification - *cf.* with *\"BERT\"* section of this [blog post](https://huggingface.co/blog/warm-starting-encoder-decoder).\n",
        "\n",
        "The output size of this layer corresponds to the number of tokens in the vocabulary, which does **not** depend on Wav2Vec2's pretraining task, but only on the labeled dataset used for fine-tuning. So in the first step, we will take a look at Timit and define a vocabulary based on the dataset's transcriptions."
      ]
    },
    {
      "cell_type": "markdown",
      "metadata": {
        "id": "bee4g9rpLxll"
      },
      "source": [
        "Let's start by loading the dataset and taking a look at its structure."
      ]
    },
    {
      "cell_type": "code",
      "metadata": {
        "id": "2MMXcWFFgCXU",
        "colab": {
          "base_uri": "https://localhost:8080/",
          "height": 67,
          "referenced_widgets": [
            "aadac5aba97941f4922c2cdb74dadc6f",
            "4b4bd3b71ffc46deaeaed4d7ad7a768e",
            "e225f2981fe7472d899a1fff0eb6bb8a",
            "8ba58dd1b97644869a58a1b5a390e96d",
            "dc086ef489044898b7ec0830d8175f56",
            "a579ecba69ff45c096f3e1dabb535209",
            "1e596bd81f984654b5e965a9e8159caf",
            "162b2b0630244c2182042899074c222d",
            "425c9b6bd9f74bfbbc1d72ffdceec0d0",
            "4c2a4d2dadf5422aba969cd5ab6eb762",
            "3a1fb95b6101460fa5925cab3ba86cf6"
          ]
        },
        "outputId": "9df1f651-8b7a-4900-9674-4af012de0aa3"
      },
      "source": [
        "from datasets import load_dataset, load_metric\n",
        "\n",
        "timit = load_dataset(\"timit_asr\")"
      ],
      "execution_count": null,
      "outputs": [
        {
          "output_type": "stream",
          "name": "stderr",
          "text": [
            "Reusing dataset timit_asr (/root/.cache/huggingface/datasets/timit_asr/clean/2.0.1/b11b576ddcccbcefa7c9f0c4e6c2a43756f3033adffe0fb686aa61043d0450ad)\n"
          ]
        },
        {
          "output_type": "display_data",
          "data": {
            "text/plain": [
              "  0%|          | 0/2 [00:00<?, ?it/s]"
            ],
            "application/vnd.jupyter.widget-view+json": {
              "version_major": 2,
              "version_minor": 0,
              "model_id": "aadac5aba97941f4922c2cdb74dadc6f"
            }
          },
          "metadata": {}
        }
      ]
    },
    {
      "cell_type": "code",
      "metadata": {
        "colab": {
          "base_uri": "https://localhost:8080/"
        },
        "id": "QbIM-L0xdvf4",
        "outputId": "0e6fbc8e-f606-4b89-a44d-a09224d5115b"
      },
      "source": [
        "timit"
      ],
      "execution_count": null,
      "outputs": [
        {
          "output_type": "execute_result",
          "data": {
            "text/plain": [
              "DatasetDict({\n",
              "    train: Dataset({\n",
              "        features: ['file', 'audio', 'text', 'phonetic_detail', 'word_detail', 'dialect_region', 'sentence_type', 'speaker_id', 'id'],\n",
              "        num_rows: 4620\n",
              "    })\n",
              "    test: Dataset({\n",
              "        features: ['file', 'audio', 'text', 'phonetic_detail', 'word_detail', 'dialect_region', 'sentence_type', 'speaker_id', 'id'],\n",
              "        num_rows: 1680\n",
              "    })\n",
              "})"
            ]
          },
          "metadata": {},
          "execution_count": 48
        }
      ]
    },
    {
      "cell_type": "markdown",
      "metadata": {
        "id": "ri5y5N_HMANq"
      },
      "source": [
        "Many ASR datasets only provide the target text, `'text'` for each audio `'audio'` and file `'file'`. Timit actually provides much more information about each audio file, such as the `'phonetic_detail'`, etc., which is why many researchers choose to evaluate their models on phoneme classification instead of speech recognition when working with Timit. However, we want to keep the notebook as general as possible, so that we will only consider the transcribed text for fine-tuning.\n",
        "\n"
      ]
    },
    {
      "cell_type": "code",
      "metadata": {
        "id": "kbyq6lDgQc2a"
      },
      "source": [
        "timit = timit.remove_columns([\"phonetic_detail\", \"word_detail\", \"dialect_region\", \"id\", \"sentence_type\", \"speaker_id\"])"
      ],
      "execution_count": null,
      "outputs": []
    },
    {
      "cell_type": "markdown",
      "metadata": {
        "id": "Go9Hq4e4NDT9"
      },
      "source": [
        "Let's write a short function to display some random samples of the dataset and run it a couple of times to get a feeling for the transcriptions."
      ]
    },
    {
      "cell_type": "code",
      "metadata": {
        "id": "72737oog2F6U"
      },
      "source": [
        "from datasets import ClassLabel\n",
        "import random\n",
        "import pandas as pd\n",
        "from IPython.display import display, HTML\n",
        "\n",
        "def show_random_elements(dataset, num_examples=10):\n",
        "    assert num_examples <= len(dataset), \"Can't pick more elements than there are in the dataset.\"\n",
        "    picks = []\n",
        "    for _ in range(num_examples):\n",
        "        pick = random.randint(0, len(dataset)-1)\n",
        "        while pick in picks:\n",
        "            pick = random.randint(0, len(dataset)-1)\n",
        "        picks.append(pick)\n",
        "    \n",
        "    df = pd.DataFrame(dataset[picks])\n",
        "    display(HTML(df.to_html()))"
      ],
      "execution_count": null,
      "outputs": []
    },
    {
      "cell_type": "code",
      "metadata": {
        "colab": {
          "base_uri": "https://localhost:8080/",
          "height": 363
        },
        "id": "K_JUmf3G3b9S",
        "outputId": "64b7011f-5190-4230-a698-eeeae2e3ca8c"
      },
      "source": [
        "show_random_elements(timit[\"train\"].remove_columns([\"audio\", \"file\"]), num_examples=10)"
      ],
      "execution_count": null,
      "outputs": [
        {
          "output_type": "display_data",
          "data": {
            "text/plain": [
              "<IPython.core.display.HTML object>"
            ],
            "text/html": [
              "<table border=\"1\" class=\"dataframe\">\n",
              "  <thead>\n",
              "    <tr style=\"text-align: right;\">\n",
              "      <th></th>\n",
              "      <th>text</th>\n",
              "    </tr>\n",
              "  </thead>\n",
              "  <tbody>\n",
              "    <tr>\n",
              "      <th>0</th>\n",
              "      <td>Be careful not to plow over the flower beds.</td>\n",
              "    </tr>\n",
              "    <tr>\n",
              "      <th>1</th>\n",
              "      <td>An official deadline cannot be postponed.</td>\n",
              "    </tr>\n",
              "    <tr>\n",
              "      <th>2</th>\n",
              "      <td>You can build this vacation cottage yourself.</td>\n",
              "    </tr>\n",
              "    <tr>\n",
              "      <th>3</th>\n",
              "      <td>He holds that goodness and badness lie in feelings of approval or disapproval.</td>\n",
              "    </tr>\n",
              "    <tr>\n",
              "      <th>4</th>\n",
              "      <td>The avalanche triggered a minor earthquake.</td>\n",
              "    </tr>\n",
              "    <tr>\n",
              "      <th>5</th>\n",
              "      <td>Then came coconuts, eggs, and rice wine.</td>\n",
              "    </tr>\n",
              "    <tr>\n",
              "      <th>6</th>\n",
              "      <td>The local drugstore was charged with illegally dispensing tranquilizers.</td>\n",
              "    </tr>\n",
              "    <tr>\n",
              "      <th>7</th>\n",
              "      <td>Who took the kayak down the bayou?</td>\n",
              "    </tr>\n",
              "    <tr>\n",
              "      <th>8</th>\n",
              "      <td>As such it acts as an anchor for the people.</td>\n",
              "    </tr>\n",
              "    <tr>\n",
              "      <th>9</th>\n",
              "      <td>She had your dark suit in greasy wash water all year.</td>\n",
              "    </tr>\n",
              "  </tbody>\n",
              "</table>"
            ]
          },
          "metadata": {}
        }
      ]
    },
    {
      "cell_type": "markdown",
      "metadata": {
        "id": "fowcOllGNNju"
      },
      "source": [
        "Alright! The transcriptions look very clean and the language seems to correspond more to written text than dialogue. This makes sense taking into account that [Timit](https://huggingface.co/datasets/timit_asr) is a read speech corpus."
      ]
    },
    {
      "cell_type": "markdown",
      "metadata": {
        "id": "vq7OR50LN49m"
      },
      "source": [
        "We can see that the transcriptions contain some special characters, such as `,.?!;:`. Without a language model, it is much harder to classify speech chunks to such special characters because they don't really correspond to a characteristic sound unit. *E.g.*, the letter `\"s\"` has a more or less clear sound, whereas the special character `\".\"` does not.\n",
        "Also in order to understand the meaning of a speech signal, it is usually not necessary to include special characters in the transcription.\n",
        "\n",
        "In addition, we normalize the text to only have lower case letters and append a word separator token at the end."
      ]
    },
    {
      "cell_type": "code",
      "metadata": {
        "id": "svKzVJ_hQGK6"
      },
      "source": [
        "import re\n",
        "chars_to_ignore_regex = '[\\,\\?\\.\\!\\-\\;\\:\\\"]'\n",
        "\n",
        "def remove_special_characters(batch):\n",
        "    batch[\"text\"] = re.sub(chars_to_ignore_regex, '', batch[\"text\"]).lower() + \" \"\n",
        "    return batch"
      ],
      "execution_count": null,
      "outputs": []
    },
    {
      "cell_type": "code",
      "metadata": {
        "colab": {
          "base_uri": "https://localhost:8080/"
        },
        "id": "XIHocAuTQbBR",
        "outputId": "4b4453ef-2972-4af5-d29f-dd0062e5a3ba"
      },
      "source": [
        "timit = timit.map(remove_special_characters)"
      ],
      "execution_count": null,
      "outputs": [
        {
          "output_type": "stream",
          "name": "stderr",
          "text": [
            "Loading cached processed dataset at /root/.cache/huggingface/datasets/timit_asr/clean/2.0.1/b11b576ddcccbcefa7c9f0c4e6c2a43756f3033adffe0fb686aa61043d0450ad/cache-542ed77e561b2d6a.arrow\n",
            "Loading cached processed dataset at /root/.cache/huggingface/datasets/timit_asr/clean/2.0.1/b11b576ddcccbcefa7c9f0c4e6c2a43756f3033adffe0fb686aa61043d0450ad/cache-e974e08c2913891f.arrow\n"
          ]
        }
      ]
    },
    {
      "cell_type": "code",
      "metadata": {
        "colab": {
          "base_uri": "https://localhost:8080/",
          "height": 363
        },
        "id": "RBDRAAYxRE6n",
        "outputId": "f579701c-24c2-4c11-dcb8-9c706eac425e"
      },
      "source": [
        "show_random_elements(timit[\"train\"].remove_columns([\"audio\", \"file\"]))"
      ],
      "execution_count": null,
      "outputs": [
        {
          "output_type": "display_data",
          "data": {
            "text/plain": [
              "<IPython.core.display.HTML object>"
            ],
            "text/html": [
              "<table border=\"1\" class=\"dataframe\">\n",
              "  <thead>\n",
              "    <tr style=\"text-align: right;\">\n",
              "      <th></th>\n",
              "      <th>text</th>\n",
              "    </tr>\n",
              "  </thead>\n",
              "  <tbody>\n",
              "    <tr>\n",
              "      <th>0</th>\n",
              "      <td>we're not drunkards she said</td>\n",
              "    </tr>\n",
              "    <tr>\n",
              "      <th>1</th>\n",
              "      <td>the most recent geological survey found seismic activity</td>\n",
              "    </tr>\n",
              "    <tr>\n",
              "      <th>2</th>\n",
              "      <td>alimony harms a divorced man's wealth</td>\n",
              "    </tr>\n",
              "    <tr>\n",
              "      <th>3</th>\n",
              "      <td>our entire economy will have a terrific uplift</td>\n",
              "    </tr>\n",
              "    <tr>\n",
              "      <th>4</th>\n",
              "      <td>don't ask me to carry an oily rag like that</td>\n",
              "    </tr>\n",
              "    <tr>\n",
              "      <th>5</th>\n",
              "      <td>the gorgeous butterfly ate a lot of nectar</td>\n",
              "    </tr>\n",
              "    <tr>\n",
              "      <th>6</th>\n",
              "      <td>the high security prison was surrounded by barbed wire</td>\n",
              "    </tr>\n",
              "    <tr>\n",
              "      <th>7</th>\n",
              "      <td>they've never met you know</td>\n",
              "    </tr>\n",
              "    <tr>\n",
              "      <th>8</th>\n",
              "      <td>she had your dark suit in greasy wash water all year</td>\n",
              "    </tr>\n",
              "    <tr>\n",
              "      <th>9</th>\n",
              "      <td>she had your dark suit in greasy wash water all year</td>\n",
              "    </tr>\n",
              "  </tbody>\n",
              "</table>"
            ]
          },
          "metadata": {}
        }
      ]
    },
    {
      "cell_type": "markdown",
      "metadata": {
        "id": "jwfaptH5RJwA"
      },
      "source": [
        "Good! This looks better. We have removed most special characters from transcriptions and normalized them to lower-case only.\n",
        "\n",
        "In CTC, it is common to classify speech chunks into letters, so we will do the same here. \n",
        "Let's extract all distinct letters of the training and test data and build our vocabulary from this set of letters.\n",
        "\n",
        "We write a mapping function that concatenates all transcriptions into one long transcription and then transforms the string into a set of chars. \n",
        "It is important to pass the argument `batched=True` to the `map(...)` function so that the mapping function has access to all transcriptions at once."
      ]
    },
    {
      "cell_type": "code",
      "metadata": {
        "id": "LwCshNbbeRZR"
      },
      "source": [
        "def extract_all_chars(batch):\n",
        "  all_text = \" \".join(batch[\"text\"])\n",
        "  vocab = list(set(all_text))\n",
        "  return {\"vocab\": [vocab], \"all_text\": [all_text]}"
      ],
      "execution_count": null,
      "outputs": []
    },
    {
      "cell_type": "code",
      "metadata": {
        "colab": {
          "base_uri": "https://localhost:8080/",
          "height": 81,
          "referenced_widgets": [
            "92b0669ac4c34f3daa4dac1eb3d12b1d",
            "cc5ef0d5c963487e9f630101ba0d9572",
            "5929b873c33d4c559b36935102f33e78",
            "21ceaf0f53d444c396801784d3f1db45",
            "1decb0d7a7504439825a6e12c21fe8ed",
            "285447fa0e1e4ae8b5346477ad397ceb",
            "381bc655291b4effaa6460f7476b0e9b",
            "8f88e6872d3d45fca03ed5b89d67e6ab",
            "68b713049fff4a10a14344a5ec358d5c",
            "7802f2a76e6b4435b4c9c8bb1d40e28e",
            "6013756a6b204b368184e09e40a4567c",
            "aaf920d2593846b1bc5824c610167721",
            "c9126b3964f141a2af5c611c339e8156",
            "2d8e6e61f14f4cba8bd07e73ca868caf",
            "efe617968ca54b26b0048c7d20af1ba8",
            "821399caca9242eca44d7232edafe213",
            "b3a6d272dc4940b4824c86b22068d8f8",
            "0c34c7a51c284cda95a8848bad451603",
            "28e9858f73c3469aaf7e94c819bc5304",
            "9ad678ebacc941e78a97b0bd728819eb",
            "29bc21f75fe84b62861e859304a70a4c",
            "dc7b87eab1a344be9c6c29e92e7278b8"
          ]
        },
        "id": "_m6uUjjcfbjH",
        "outputId": "bf5e77dd-6ab3-4be1-e547-2d93b7fbbe74"
      },
      "source": [
        "vocabs = timit.map(extract_all_chars, batched=True, batch_size=-1, keep_in_memory=True, remove_columns=timit.column_names[\"train\"])"
      ],
      "execution_count": null,
      "outputs": [
        {
          "output_type": "display_data",
          "data": {
            "text/plain": [
              "  0%|          | 0/1 [00:00<?, ?ba/s]"
            ],
            "application/vnd.jupyter.widget-view+json": {
              "version_major": 2,
              "version_minor": 0,
              "model_id": "92b0669ac4c34f3daa4dac1eb3d12b1d"
            }
          },
          "metadata": {}
        },
        {
          "output_type": "display_data",
          "data": {
            "text/plain": [
              "  0%|          | 0/1 [00:00<?, ?ba/s]"
            ],
            "application/vnd.jupyter.widget-view+json": {
              "version_major": 2,
              "version_minor": 0,
              "model_id": "aaf920d2593846b1bc5824c610167721"
            }
          },
          "metadata": {}
        }
      ]
    },
    {
      "cell_type": "markdown",
      "metadata": {
        "id": "7oVgE8RZSJNP"
      },
      "source": [
        "Now, we create the union of all distinct letters in the training dataset and test dataset and convert the resulting list into an enumerated dictionary."
      ]
    },
    {
      "cell_type": "code",
      "metadata": {
        "id": "aQfneNsmlJI0"
      },
      "source": [
        "vocab_list = list(set(vocabs[\"train\"][\"vocab\"][0]) | set(vocabs[\"test\"][\"vocab\"][0]))"
      ],
      "execution_count": null,
      "outputs": []
    },
    {
      "cell_type": "code",
      "metadata": {
        "colab": {
          "base_uri": "https://localhost:8080/"
        },
        "id": "_0kRndSvqaKk",
        "outputId": "371f0b8c-6934-4e77-b1de-5089d6cdd52c"
      },
      "source": [
        "vocab_dict = {v: k for k, v in enumerate(vocab_list)}\n",
        "vocab_dict"
      ],
      "execution_count": null,
      "outputs": [
        {
          "output_type": "execute_result",
          "data": {
            "text/plain": [
              "{' ': 4,\n",
              " \"'\": 12,\n",
              " 'a': 8,\n",
              " 'b': 23,\n",
              " 'c': 19,\n",
              " 'd': 6,\n",
              " 'e': 21,\n",
              " 'f': 18,\n",
              " 'g': 13,\n",
              " 'h': 9,\n",
              " 'i': 14,\n",
              " 'j': 20,\n",
              " 'k': 0,\n",
              " 'l': 7,\n",
              " 'm': 10,\n",
              " 'n': 1,\n",
              " 'o': 3,\n",
              " 'p': 27,\n",
              " 'q': 15,\n",
              " 'r': 24,\n",
              " 's': 2,\n",
              " 't': 25,\n",
              " 'u': 22,\n",
              " 'v': 11,\n",
              " 'w': 26,\n",
              " 'x': 17,\n",
              " 'y': 16,\n",
              " 'z': 5}"
            ]
          },
          "metadata": {},
          "execution_count": 58
        }
      ]
    },
    {
      "cell_type": "markdown",
      "metadata": {
        "id": "JOSzbvs9SXT1"
      },
      "source": [
        "Cool, we see that all letters of the alphabet occur in the dataset (which is not really surprising) and we also extracted the special characters `\" \"` and `'`. Note that we did not exclude those special characters because: \n",
        "\n",
        "- The model has to learn to predict when a word finished or else the model prediction would always be a sequence of chars which would make it impossible to separate words from each other.\n",
        "- In English, we need to keep the `'` character to differentiate between words, *e.g.*, `\"it's\"` and `\"its\"` which have very different meanings."
      ]
    },
    {
      "cell_type": "markdown",
      "metadata": {
        "id": "b1fBRCn-TRaO"
      },
      "source": [
        "To make it clearer that `\" \"` has its own token class, we give it a more visible character `|`. In addition, we also add an \"unknown\" token so that the model can later deal with characters not encountered in Timit's training set. \n",
        "\n",
        "Finally, we also add a padding token that corresponds to CTC's \"*blank token*\". The \"blank token\" is a core component of the CTC algorithm. For more information, please take a look at the \"Alignment\" section [here](https://distill.pub/2017/ctc/)."
      ]
    },
    {
      "cell_type": "code",
      "metadata": {
        "id": "npbIbBoLgaFX"
      },
      "source": [
        "vocab_dict[\"|\"] = vocab_dict[\" \"]\n",
        "del vocab_dict[\" \"]"
      ],
      "execution_count": null,
      "outputs": []
    },
    {
      "cell_type": "code",
      "metadata": {
        "id": "znF0bNunsjbl",
        "colab": {
          "base_uri": "https://localhost:8080/"
        },
        "outputId": "7561d386-18c8-4b64-aa84-832f7416d085"
      },
      "source": [
        "vocab_dict[\"[UNK]\"] = len(vocab_dict)\n",
        "vocab_dict[\"[PAD]\"] = len(vocab_dict)\n",
        "len(vocab_dict)"
      ],
      "execution_count": null,
      "outputs": [
        {
          "output_type": "execute_result",
          "data": {
            "text/plain": [
              "30"
            ]
          },
          "metadata": {},
          "execution_count": 60
        }
      ]
    },
    {
      "cell_type": "markdown",
      "metadata": {
        "id": "SFPGfet8U5sL"
      },
      "source": [
        "Cool, now our vocabulary is complete and consists of 30 tokens, which means that the linear layer that we will add on top of the pretrained Wav2Vec2 checkpoint will have an output dimension of 30."
      ]
    },
    {
      "cell_type": "markdown",
      "metadata": {
        "id": "1CujRgBNVRaD"
      },
      "source": [
        "Let's now save the vocabulary as a json file."
      ]
    },
    {
      "cell_type": "code",
      "metadata": {
        "id": "ehyUoh9vk191"
      },
      "source": [
        "import json\n",
        "with open('vocab.json', 'w') as vocab_file:\n",
        "    json.dump(vocab_dict, vocab_file)"
      ],
      "execution_count": null,
      "outputs": []
    },
    {
      "cell_type": "markdown",
      "metadata": {
        "id": "SHJDaKlIVVim"
      },
      "source": [
        "In a final step, we use the json file to instantiate an object of the `Wav2Vec2CTCTokenizer` class."
      ]
    },
    {
      "cell_type": "code",
      "metadata": {
        "id": "xriFGEWQkO4M"
      },
      "source": [
        "from transformers import Wav2Vec2CTCTokenizer\n",
        "\n",
        "tokenizer = Wav2Vec2CTCTokenizer(\"./vocab.json\", unk_token=\"[UNK]\", pad_token=\"[PAD]\", word_delimiter_token=\"|\")"
      ],
      "execution_count": null,
      "outputs": []
    },
    {
      "cell_type": "markdown",
      "metadata": {
        "id": "P6L2EVWwIazG"
      },
      "source": [
        "If one wants to re-use the just created tokenizer with the fine-tuned model of this notebook, it is strongly advised to upload the `tokenizer` to the [🤗 Hub](https://huggingface.co/). Let's call the repo to which we will upload the files\n",
        "`\"wav2vec2-base-timit-demo-colab\"`:"
      ]
    },
    {
      "cell_type": "code",
      "metadata": {
        "id": "1mbffBdxIl0M"
      },
      "source": [
        "repo_name = \"wav2vec2-base-timit-demo-google-colab\""
      ],
      "execution_count": null,
      "outputs": []
    },
    {
      "cell_type": "markdown",
      "metadata": {
        "id": "pmpG2ftFIu3B"
      },
      "source": [
        "and upload the tokenizer to the [🤗 Hub](https://huggingface.co/)."
      ]
    },
    {
      "cell_type": "code",
      "metadata": {
        "colab": {
          "base_uri": "https://localhost:8080/",
          "height": 277
        },
        "id": "ScBMUz8jIxJi",
        "outputId": "d1a44892-2cf6-4fba-e323-d28051d1edf5"
      },
      "source": [
        "tokenizer.push_to_hub(repo_name)"
      ],
      "execution_count": null,
      "outputs": [
        {
          "output_type": "stream",
          "name": "stderr",
          "text": [
            "/usr/local/lib/python3.7/dist-packages/huggingface_hub/utils/_deprecation.py:43: FutureWarning: Pass token='wav2vec2-base-timit-demo-google-colab' as keyword args. From version 0.7 passing these as positional arguments will result in an error\n",
            "  FutureWarning,\n",
            "/usr/local/lib/python3.7/dist-packages/huggingface_hub/hf_api.py:599: FutureWarning: `create_repo` now takes `token` as an optional positional argument. Be sure to adapt your code!\n",
            "  FutureWarning,\n",
            "Cloning https://huggingface.co/patrickvonplaten/wav2vec2-base-timit-demo-google-colab into local empty directory.\n",
            "tokenizer config file saved in wav2vec2-base-timit-demo-google-colab/tokenizer_config.json\n",
            "Special tokens file saved in wav2vec2-base-timit-demo-google-colab/special_tokens_map.json\n",
            "remote: Enforcing permissions...        \n",
            "remote: Allowed refs: all        \n",
            "To https://huggingface.co/patrickvonplaten/wav2vec2-base-timit-demo-google-colab\n",
            "   8803a78..293755a  main -> main\n",
            "\n"
          ]
        },
        {
          "output_type": "execute_result",
          "data": {
            "text/plain": [
              "'https://huggingface.co/patrickvonplaten/wav2vec2-base-timit-demo-google-colab/commit/293755a3628339986b575eb68038ecffe2789e5c'"
            ],
            "application/vnd.google.colaboratory.intrinsic+json": {
              "type": "string"
            }
          },
          "metadata": {},
          "execution_count": 67
        }
      ]
    },
    {
      "cell_type": "markdown",
      "metadata": {
        "id": "KvL12DrNV4cx"
      },
      "source": [
        "Great, you can see the just created repository under `https://huggingface.co/<your-username>/wav2vec2-base-timit-demo-colab`"
      ]
    },
    {
      "cell_type": "markdown",
      "metadata": {
        "id": "mYcIiR2FQ96i"
      },
      "source": [
        "### Create Wav2Vec2 Feature Extractor"
      ]
    },
    {
      "cell_type": "markdown",
      "metadata": {
        "id": "Y6mDEyW719rx"
      },
      "source": [
        "Speech is a continuous signal and to be treated by computers, it first has to be discretized, which is usually called **sampling**. The sampling rate hereby plays an important role in that it defines how many data points of the speech signal are measured per second. Therefore, sampling with a higher sampling rate results in a better approximation of the *real* speech signal but also necessitates more values per second.\n",
        "\n",
        "A pretrained checkpoint expects its input data to have been sampled more or less from the same distribution as the data it was trained on. The same speech signals sampled at two different rates have a very different distribution, *e.g.*, doubling the sampling rate results in data points being twice as long. Thus, \n",
        "before fine-tuning a pretrained checkpoint of an ASR model, it is crucial to verify that the sampling rate of the data that was used to pretrain the model matches the sampling rate of the dataset used to fine-tune the model.\n",
        "\n",
        "Wav2Vec2 was pretrained on the audio data of [LibriSpeech](https://huggingface.co/datasets/librispeech_asr) and LibriVox which both were sampling with 16kHz. Our fine-tuning dataset, [Timit](hhtps://huggingface.co/datasets/timit_asr), was luckily also sampled with 16kHz. If the fine-tuning dataset would have been sampled with a rate lower or higher than 16kHz, we first would have had to up or downsample the speech signal to match the sampling rate of the data used for pretraining. \n",
        "\n"
      ]
    },
    {
      "cell_type": "markdown",
      "metadata": {
        "id": "KuUbPW7oV-B5"
      },
      "source": [
        "A Wav2Vec2 feature extractor object requires the following parameters to be instantiated:\n",
        "\n",
        "- `feature_size`: Speech models take a sequence of feature vectors as an input. While the length of this sequence obviously varies, the feature size should not. In the case of Wav2Vec2, the feature size is 1 because the model was trained on the raw speech signal ${}^2$.\n",
        "- `sampling_rate`: The sampling rate at which the model is trained on.\n",
        "- `padding_value`: For batched inference, shorter inputs need to be padded with a specific value\n",
        "- `do_normalize`: Whether the input should be *zero-mean-unit-variance* normalized or not. Usually, speech models perform better when normalizing the input\n",
        "- `return_attention_mask`: Whether the model should make use of an `attention_mask` for batched inference. In general, models should **always** make use of the `attention_mask` to mask padded tokens. However, due to a very specific design choice of `Wav2Vec2`'s \"base\" checkpoint, better results are achieved when using no `attention_mask`. This is **not** recommended for other speech models. For more information, one can take a look at [this](https://github.com/pytorch/fairseq/issues/3227) issue. **Important** If you want to use this notebook to fine-tune [large-lv60](https://huggingface.co/facebook/wav2vec2-large-lv60), this parameter should be set to `True`."
      ]
    },
    {
      "cell_type": "code",
      "metadata": {
        "id": "kAR0-2KLkopp"
      },
      "source": [
        "from transformers import Wav2Vec2FeatureExtractor\n",
        "\n",
        "feature_extractor = Wav2Vec2FeatureExtractor(feature_size=1, sampling_rate=16000, padding_value=0.0, do_normalize=True, return_attention_mask=False)"
      ],
      "execution_count": null,
      "outputs": []
    },
    {
      "cell_type": "markdown",
      "metadata": {
        "id": "qUETetgqYC3W"
      },
      "source": [
        "Great, Wav2Vec2's feature extraction pipeline is thereby fully defined!\n",
        "\n",
        "To make the usage of Wav2Vec2 as user-friendly as possible, the feature extractor and tokenizer are *wrapped* into a single `Wav2Vec2Processor` class so that one only needs a `model` and `processor` object."
      ]
    },
    {
      "cell_type": "code",
      "metadata": {
        "id": "KYZtoW-tlZgl"
      },
      "source": [
        "from transformers import Wav2Vec2Processor\n",
        "\n",
        "processor = Wav2Vec2Processor(feature_extractor=feature_extractor, tokenizer=tokenizer)"
      ],
      "execution_count": null,
      "outputs": []
    },
    {
      "cell_type": "markdown",
      "metadata": {
        "id": "DrKnYuvDIoOO"
      },
      "source": [
        "Next, we can prepare the dataset."
      ]
    },
    {
      "cell_type": "markdown",
      "metadata": {
        "id": "YFmShnl7RE35"
      },
      "source": [
        "### Preprocess Data\n",
        "\n",
        "So far, we have not looked at the actual values of the speech signal but just the transcription. In addition to `'text'`, our datasets include two more column names `'file'` and `'audio'`. `'file'` states the absolute path of the audio file. Let's take a look."
      ]
    },
    {
      "cell_type": "code",
      "metadata": {
        "colab": {
          "base_uri": "https://localhost:8080/",
          "height": 36
        },
        "id": "TTCS7W6XJ9BG",
        "outputId": "fdf3468a-d37a-4931-c9a6-222fb18a2d77"
      },
      "source": [
        "timit[\"train\"][0][\"file\"]"
      ],
      "execution_count": null,
      "outputs": [
        {
          "output_type": "execute_result",
          "data": {
            "text/plain": [
              "'/root/.cache/huggingface/datasets/downloads/extracted/404950a46da14eac65eb4e2a8317b1372fb3971d980d91d5d5b221275b1fd7e0/data/TRAIN/DR4/MMDM0/SI681.WAV'"
            ],
            "application/vnd.google.colaboratory.intrinsic+json": {
              "type": "string"
            }
          },
          "metadata": {},
          "execution_count": 70
        }
      ]
    },
    {
      "cell_type": "markdown",
      "metadata": {
        "id": "BwxprOw4Nzrl"
      },
      "source": [
        "`Wav2Vec2` expects the input in the format of a 1-dimensional array of 16 kHz. This means that the audio file has to be loaded and resampled.\n",
        "\n",
        " Thankfully, `datasets` does this automatically when calling the column `audio`. Let try it out. "
      ]
    },
    {
      "cell_type": "code",
      "metadata": {
        "colab": {
          "base_uri": "https://localhost:8080/"
        },
        "id": "mk9QHuSsN7lf",
        "outputId": "1d665477-2012-44d9-b884-c16b28d0b13d"
      },
      "source": [
        "timit[\"train\"][0][\"audio\"]"
      ],
      "execution_count": null,
      "outputs": [
        {
          "output_type": "execute_result",
          "data": {
            "text/plain": [
              "{'array': array([-2.1362305e-04,  6.1035156e-05,  3.0517578e-05, ...,\n",
              "        -3.0517578e-05, -9.1552734e-05, -6.1035156e-05], dtype=float32),\n",
              " 'path': '/root/.cache/huggingface/datasets/downloads/extracted/404950a46da14eac65eb4e2a8317b1372fb3971d980d91d5d5b221275b1fd7e0/data/TRAIN/DR4/MMDM0/SI681.WAV',\n",
              " 'sampling_rate': 16000}"
            ]
          },
          "metadata": {},
          "execution_count": 71
        }
      ]
    },
    {
      "cell_type": "markdown",
      "metadata": {
        "id": "wSBIGEiaKHMn"
      },
      "source": [
        "We can see that the audio file has automatically been loaded. This is thanks to the new [`\"Audio\"` feature](https://huggingface.co/docs/datasets/package_reference/main_classes.html?highlight=audio#datasets.Audio) introduced in `datasets == 4.13.3`, which loads and resamples audio files on-the-fly upon calling.\n",
        "\n",
        "The sampling rate is set to 16kHz which is what `Wav2Vec2` expects as an input."
      ]
    },
    {
      "cell_type": "markdown",
      "metadata": {
        "id": "SOckzFd4Mbzq"
      },
      "source": [
        "Great, let's listen to a couple of audio files to better understand the dataset and verify that the audio was correctly loaded. \n",
        "\n",
        "**Note**: *You can click the following cell a couple of times to listen to different speech samples.*"
      ]
    },
    {
      "cell_type": "code",
      "metadata": {
        "colab": {
          "base_uri": "https://localhost:8080/",
          "height": 94
        },
        "id": "dueM6U7Ev0OA",
        "outputId": "4220aef7-b6ef-452f-e7f9-905198a5b497"
      },
      "source": [
        "import IPython.display as ipd\n",
        "import numpy as np\n",
        "import random\n",
        "\n",
        "rand_int = random.randint(0, len(timit[\"train\"]))\n",
        "\n",
        "print(timit[\"train\"][rand_int][\"text\"])\n",
        "ipd.Audio(data=np.asarray(timit[\"train\"][rand_int][\"audio\"][\"array\"]), autoplay=True, rate=16000)"
      ],
      "execution_count": null,
      "outputs": [
        {
          "output_type": "stream",
          "name": "stdout",
          "text": [
            "the water contained too much chlorine and stung his eyes \n"
          ]
        },
        {
          "output_type": "execute_result",
          "data": {
            "text/plain": [
              "<IPython.lib.display.Audio object>"
            ],
            "text/html": [
              "\n",
              "                <audio controls=\"controls\" autoplay=\"autoplay\">\n",
              "                    <source src=\"data:audio/wav;base64,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\" type=\"audio/wav\" />\n",
              "                    Your browser does not support the audio element.\n",
              "                </audio>\n",
              "              "
            ]
          },
          "metadata": {},
          "execution_count": 72
        }
      ]
    },
    {
      "cell_type": "markdown",
      "metadata": {
        "id": "1MaL9J2dNVtG"
      },
      "source": [
        "It can be heard, that the speakers change along with their speaking rate, accent, etc. Overall, the recordings sound relatively clear though, which is to be expected from a read speech corpus.\n",
        "\n",
        "Let's do a final check that the data is correctly prepared, by printing the shape of the speech input, its transcription, and the corresponding sampling rate.\n",
        "\n",
        "**Note**: *You can click the following cell a couple of times to verify multiple samples.*"
      ]
    },
    {
      "cell_type": "code",
      "metadata": {
        "colab": {
          "base_uri": "https://localhost:8080/"
        },
        "id": "1Po2g7YPuRTx",
        "outputId": "5a99494b-4cf6-46d2-a986-81ed4e1240dd"
      },
      "source": [
        "rand_int = random.randint(0, len(timit[\"train\"]))\n",
        "\n",
        "print(\"Target text:\", timit[\"train\"][rand_int][\"text\"])\n",
        "print(\"Input array shape:\", np.asarray(timit[\"train\"][rand_int][\"audio\"][\"array\"]).shape)\n",
        "print(\"Sampling rate:\", timit[\"train\"][rand_int][\"audio\"][\"sampling_rate\"])"
      ],
      "execution_count": null,
      "outputs": [
        {
          "output_type": "stream",
          "name": "stdout",
          "text": [
            "Target text: leave me your address \n",
            "Input array shape: (23962,)\n",
            "Sampling rate: 16000\n"
          ]
        }
      ]
    },
    {
      "cell_type": "markdown",
      "metadata": {
        "id": "M9teZcSwOBJ4"
      },
      "source": [
        "Good! Everything looks fine - the data is a 1-dimensional array, the sampling rate always corresponds to 16kHz, and the target text is normalized."
      ]
    },
    {
      "cell_type": "markdown",
      "metadata": {
        "id": "k3Pbn5WvOYZF"
      },
      "source": [
        "Finally, we can process the dataset to the format expected by the model for training. We will make use of the `map(...)` function.\n",
        "\n",
        "First, we load and resample the audio data, simply by calling `batch[\"audio\"]`.\n",
        "Second, we extract the `input_values` from the loaded audio file. In our case, the `Wav2Vec2Processor` only normalizes the data. For other speech models, however, this step can include more complex feature extraction, such as [Log-Mel feature extraction](https://en.wikipedia.org/wiki/Mel-frequency_cepstrum).\n",
        "Third, we encode the transcriptions to label ids.\n",
        "\n",
        "**Note**: This mapping function is a good example of how the `Wav2Vec2Processor` class should be used. In \"normal\" context, calling `processor(...)` is redirected to `Wav2Vec2FeatureExtractor`'s call method. When wrapping the processor into the `as_target_processor` context, however, the same method is redirected to `Wav2Vec2CTCTokenizer`'s call method.\n",
        "For more information please check the [docs](https://huggingface.co/transformers/master/model_doc/wav2vec2.html#transformers.Wav2Vec2Processor.__call__)."
      ]
    },
    {
      "cell_type": "code",
      "metadata": {
        "id": "eJY7I0XAwe9p"
      },
      "source": [
        "def prepare_dataset(batch):\n",
        "    audio = batch[\"audio\"]\n",
        "\n",
        "    # batched output is \"un-batched\" to ensure mapping is correct\n",
        "    batch[\"input_values\"] = processor(audio[\"array\"], sampling_rate=audio[\"sampling_rate\"]).input_values[0]\n",
        "    batch[\"input_length\"] = len(batch[\"input_values\"])\n",
        "    \n",
        "    with processor.as_target_processor():\n",
        "        batch[\"labels\"] = processor(batch[\"text\"]).input_ids\n",
        "    return batch"
      ],
      "execution_count": null,
      "outputs": []
    },
    {
      "cell_type": "markdown",
      "metadata": {
        "id": "hVMZhH4-nP8-"
      },
      "source": [
        "Let's apply the data preparation function to all examples."
      ]
    },
    {
      "cell_type": "code",
      "metadata": {
        "id": "-np9xYK-wl8q",
        "colab": {
          "base_uri": "https://localhost:8080/"
        },
        "outputId": "da1c6465-a1e7-4408-e813-8d805a50cf3a"
      },
      "source": [
        "timit = timit.map(prepare_dataset, remove_columns=timit.column_names[\"train\"], num_proc=4)"
      ],
      "execution_count": null,
      "outputs": [
        {
          "output_type": "stream",
          "name": "stderr",
          "text": [
            "Loading cached processed dataset at /root/.cache/huggingface/datasets/timit_asr/clean/2.0.1/b11b576ddcccbcefa7c9f0c4e6c2a43756f3033adffe0fb686aa61043d0450ad/cache-051ef7c66871c35b.arrow\n",
            "Loading cached processed dataset at /root/.cache/huggingface/datasets/timit_asr/clean/2.0.1/b11b576ddcccbcefa7c9f0c4e6c2a43756f3033adffe0fb686aa61043d0450ad/cache-c5ecff9383b34436.arrow\n",
            "Loading cached processed dataset at /root/.cache/huggingface/datasets/timit_asr/clean/2.0.1/b11b576ddcccbcefa7c9f0c4e6c2a43756f3033adffe0fb686aa61043d0450ad/cache-8aaf1056c35e6980.arrow\n",
            "Loading cached processed dataset at /root/.cache/huggingface/datasets/timit_asr/clean/2.0.1/b11b576ddcccbcefa7c9f0c4e6c2a43756f3033adffe0fb686aa61043d0450ad/cache-77b8d0383684d066.arrow\n",
            "Loading cached processed dataset at /root/.cache/huggingface/datasets/timit_asr/clean/2.0.1/b11b576ddcccbcefa7c9f0c4e6c2a43756f3033adffe0fb686aa61043d0450ad/cache-fabcc70b342ca8b2.arrow\n",
            "Loading cached processed dataset at /root/.cache/huggingface/datasets/timit_asr/clean/2.0.1/b11b576ddcccbcefa7c9f0c4e6c2a43756f3033adffe0fb686aa61043d0450ad/cache-71ac065da3a584f7.arrow\n",
            "Loading cached processed dataset at /root/.cache/huggingface/datasets/timit_asr/clean/2.0.1/b11b576ddcccbcefa7c9f0c4e6c2a43756f3033adffe0fb686aa61043d0450ad/cache-c575da350b265c95.arrow\n",
            "Loading cached processed dataset at /root/.cache/huggingface/datasets/timit_asr/clean/2.0.1/b11b576ddcccbcefa7c9f0c4e6c2a43756f3033adffe0fb686aa61043d0450ad/cache-a4f7354b3d691cfa.arrow\n"
          ]
        }
      ]
    },
    {
      "cell_type": "markdown",
      "metadata": {
        "id": "p_MuJSH8nTuQ"
      },
      "source": [
        "**Note**: Currently `datasets` make use of [`torchaudio`](https://pytorch.org/audio/stable/index.html) and [`librosa`](https://librosa.org/doc/latest/index.html) for audio loading and resampling. If you wish to implement your own costumized data loading/sampling, feel free to just make use of the `\"path\"` column instead and disregard the `\"audio\"` column."
      ]
    },
    {
      "cell_type": "markdown",
      "metadata": {
        "id": "M4J0bU1WsvAg"
      },
      "source": [
        "Long input sequences require a lot of memory. Since `Wav2Vec2` is based on `self-attention` the memory requirement scales quadratically with the input length for long input sequences (*cf.* with [this](https://www.reddit.com/r/MachineLearning/comments/genjvb/d_why_is_the_maximum_input_sequence_length_of/) reddit post). For this demo, let's filter all sequences that are longer than 4 seconds out of the training dataset."
      ]
    },
    {
      "cell_type": "code",
      "metadata": {
        "colab": {
          "base_uri": "https://localhost:8080/"
        },
        "id": "nqGobEPUvG3v",
        "outputId": "0cae58f9-2cd9-405a-ad60-7bb31e649911"
      },
      "source": [
        "max_input_length_in_sec = 4.0\n",
        "timit[\"train\"] = timit[\"train\"].filter(lambda x: x < max_input_length_in_sec * processor.feature_extractor.sampling_rate, input_columns=[\"input_length\"])"
      ],
      "execution_count": null,
      "outputs": [
        {
          "output_type": "stream",
          "name": "stderr",
          "text": [
            "Loading cached processed dataset at /root/.cache/huggingface/datasets/timit_asr/clean/2.0.1/b11b576ddcccbcefa7c9f0c4e6c2a43756f3033adffe0fb686aa61043d0450ad/cache-27a077ffa2911470.arrow\n"
          ]
        }
      ]
    },
    {
      "cell_type": "markdown",
      "metadata": {
        "id": "25Genil2v_Br"
      },
      "source": [
        "Awesome, now we are ready to start training!"
      ]
    },
    {
      "cell_type": "markdown",
      "metadata": {
        "id": "gYlQkKVoRUos"
      },
      "source": [
        "## Training & Evaluation\n",
        "\n",
        "The data is processed so that we are ready to start setting up the training pipeline. We will make use of 🤗's [Trainer](https://huggingface.co/transformers/master/main_classes/trainer.html?highlight=trainer) for which we essentially need to do the following:\n",
        "\n",
        "- Define a data collator. In contrast to most NLP models, Wav2Vec2 has a much larger input length than output length. *E.g.*, a sample of input length 50000 has an output length of no more than 100. Given the large input sizes, it is much more efficient to pad the training batches dynamically meaning that all training samples should only be padded to the longest sample in their batch and not the overall longest sample. Therefore, fine-tuning Wav2Vec2 requires a special padding data collator, which we will define below\n",
        "\n",
        "- Evaluation metric. During training, the model should be evaluated on the word error rate. We should define a `compute_metrics` function accordingly\n",
        "\n",
        "- Load a pretrained checkpoint. We need to load a pretrained checkpoint and configure it correctly for training.\n",
        "\n",
        "- Define the training configuration.\n",
        "\n",
        "After having fine-tuned the model, we will correctly evaluate it on the test data and verify that it has indeed learned to correctly transcribe speech."
      ]
    },
    {
      "cell_type": "markdown",
      "metadata": {
        "id": "Slk403unUS91"
      },
      "source": [
        "### Set-up Trainer\n",
        "\n",
        "Let's start by defining the data collator. The code for the data collator was copied from [this example](https://github.com/huggingface/transformers/blob/9a06b6b11bdfc42eea08fa91d0c737d1863c99e3/examples/research_projects/wav2vec2/run_asr.py#L81).\n",
        "\n",
        "Without going into too many details, in contrast to the common data collators, this data collator treats the `input_values` and `labels` differently and thus applies to separate padding functions on them (again making use of Wav2Vec2's context manager). This is necessary because in speech input and output are of different modalities meaning that they should not be treated by the same padding function.\n",
        "Analogous to the common data collators, the padding tokens in the labels with `-100` so that those tokens are **not** taken into account when computing the loss."
      ]
    },
    {
      "cell_type": "code",
      "metadata": {
        "id": "tborvC9hx88e"
      },
      "source": [
        "import torch\n",
        "\n",
        "from dataclasses import dataclass, field\n",
        "from typing import Any, Dict, List, Optional, Union\n",
        "\n",
        "@dataclass\n",
        "class DataCollatorCTCWithPadding:\n",
        "    \"\"\"\n",
        "    Data collator that will dynamically pad the inputs received.\n",
        "    Args:\n",
        "        processor (:class:`~transformers.Wav2Vec2Processor`)\n",
        "            The processor used for proccessing the data.\n",
        "        padding (:obj:`bool`, :obj:`str` or :class:`~transformers.tokenization_utils_base.PaddingStrategy`, `optional`, defaults to :obj:`True`):\n",
        "            Select a strategy to pad the returned sequences (according to the model's padding side and padding index)\n",
        "            among:\n",
        "            * :obj:`True` or :obj:`'longest'`: Pad to the longest sequence in the batch (or no padding if only a single\n",
        "              sequence if provided).\n",
        "            * :obj:`'max_length'`: Pad to a maximum length specified with the argument :obj:`max_length` or to the\n",
        "              maximum acceptable input length for the model if that argument is not provided.\n",
        "            * :obj:`False` or :obj:`'do_not_pad'` (default): No padding (i.e., can output a batch with sequences of\n",
        "              different lengths).\n",
        "    \"\"\"\n",
        "\n",
        "    processor: Wav2Vec2Processor\n",
        "    padding: Union[bool, str] = True\n",
        "\n",
        "    def __call__(self, features: List[Dict[str, Union[List[int], torch.Tensor]]]) -> Dict[str, torch.Tensor]:\n",
        "        # split inputs and labels since they have to be of different lenghts and need\n",
        "        # different padding methods\n",
        "        input_features = [{\"input_values\": feature[\"input_values\"]} for feature in features]\n",
        "        label_features = [{\"input_ids\": feature[\"labels\"]} for feature in features]\n",
        "\n",
        "        batch = self.processor.pad(\n",
        "            input_features,\n",
        "            padding=self.padding,\n",
        "            return_tensors=\"pt\",\n",
        "        )\n",
        "        with self.processor.as_target_processor():\n",
        "            labels_batch = self.processor.pad(\n",
        "                label_features,\n",
        "                padding=self.padding,\n",
        "                return_tensors=\"pt\",\n",
        "            )\n",
        "\n",
        "        # replace padding with -100 to ignore loss correctly\n",
        "        labels = labels_batch[\"input_ids\"].masked_fill(labels_batch.attention_mask.ne(1), -100)\n",
        "\n",
        "        batch[\"labels\"] = labels\n",
        "\n",
        "        return batch"
      ],
      "execution_count": null,
      "outputs": []
    },
    {
      "cell_type": "code",
      "metadata": {
        "id": "lbQf5GuZyQ4_"
      },
      "source": [
        "data_collator = DataCollatorCTCWithPadding(processor=processor, padding=True)"
      ],
      "execution_count": null,
      "outputs": []
    },
    {
      "cell_type": "markdown",
      "metadata": {
        "id": "xO-Zdj-5cxXp"
      },
      "source": [
        "Next, the evaluation metric is defined. As mentioned earlier, the \n",
        "predominant metric in ASR is the word error rate (WER), hence we will use it in this notebook as well."
      ]
    },
    {
      "cell_type": "code",
      "metadata": {
        "id": "9Xsux2gmyXso"
      },
      "source": [
        "wer_metric = load_metric(\"wer\")"
      ],
      "execution_count": null,
      "outputs": []
    },
    {
      "cell_type": "markdown",
      "metadata": {
        "id": "E1qZU5p-deqB"
      },
      "source": [
        "The model will return a sequence of logit vectors:\n",
        "$\\mathbf{y}_1, \\ldots, \\mathbf{y}_m$ with $\\mathbf{y}_1 = f_{\\theta}(x_1, \\ldots, x_n)[0]$ and $n >> m$.\n",
        "\n",
        "A logit vector $\\mathbf{y}_1$ contains the log-odds for each word in the vocabulary we defined earlier, thus $\\text{len}(\\mathbf{y}_i) =$ `config.vocab_size`. We are interested in the most likely prediction of the model and thus take the `argmax(...)` of the logits. Also, we transform the encoded labels back to the original string by replacing `-100` with the `pad_token_id` and decoding the ids while making sure that consecutive tokens are **not** grouped to the same token in CTC style ${}^1$."
      ]
    },
    {
      "cell_type": "code",
      "metadata": {
        "id": "1XZ-kjweyTy_"
      },
      "source": [
        "def compute_metrics(pred):\n",
        "    pred_logits = pred.predictions\n",
        "    pred_ids = np.argmax(pred_logits, axis=-1)\n",
        "\n",
        "    pred.label_ids[pred.label_ids == -100] = processor.tokenizer.pad_token_id\n",
        "\n",
        "    pred_str = processor.batch_decode(pred_ids)\n",
        "    # we do not want to group tokens when computing the metrics\n",
        "    label_str = processor.batch_decode(pred.label_ids, group_tokens=False)\n",
        "\n",
        "    wer = wer_metric.compute(predictions=pred_str, references=label_str)\n",
        "\n",
        "    return {\"wer\": wer}"
      ],
      "execution_count": null,
      "outputs": []
    },
    {
      "cell_type": "markdown",
      "metadata": {
        "id": "Xmgrx4bRwLIH"
      },
      "source": [
        "Now, we can load the pretrained `Wav2Vec2` checkpoint. The tokenizer's `pad_token_id` must be to define the model's `pad_token_id` or in the case of `Wav2Vec2ForCTC` also CTC's *blank token* ${}^2$. To save GPU memory, we enable PyTorch's [gradient checkpointing](https://pytorch.org/docs/stable/checkpoint.html) and also set the loss reduction to \"*mean*\"."
      ]
    },
    {
      "cell_type": "code",
      "metadata": {
        "colab": {
          "base_uri": "https://localhost:8080/"
        },
        "id": "e7cqAWIayn6w",
        "outputId": "0b87744a-98a0-4198-c9f6-2a0f46365058"
      },
      "source": [
        "from transformers import Wav2Vec2ForCTC\n",
        "\n",
        "model = Wav2Vec2ForCTC.from_pretrained(\n",
        "    \"facebook/wav2vec2-base\",\n",
        "    ctc_loss_reduction=\"mean\", \n",
        "    pad_token_id=processor.tokenizer.pad_token_id,\n",
        ")"
      ],
      "execution_count": null,
      "outputs": [
        {
          "output_type": "stream",
          "name": "stderr",
          "text": [
            "loading configuration file https://huggingface.co/facebook/wav2vec2-base/resolve/main/config.json from cache at /root/.cache/huggingface/transformers/c7746642f045322fd01afa31271dd490e677ea11999e68660a92619ec7c892b4.ce1f96bfaf3d7475cb8187b9668c7f19437ade45fb9ceb78d2b06a2cec198015\n",
            "/usr/local/lib/python3.7/dist-packages/transformers/configuration_utils.py:357: UserWarning: Passing `gradient_checkpointing` to a config initialization is deprecated and will be removed in v5 Transformers. Using `model.gradient_checkpointing_enable()` instead, or if you are using the `Trainer` API, pass `gradient_checkpointing=True` in your `TrainingArguments`.\n",
            "  \"Passing `gradient_checkpointing` to a config initialization is deprecated and will be removed in v5 \"\n",
            "Model config Wav2Vec2Config {\n",
            "  \"activation_dropout\": 0.0,\n",
            "  \"adapter_kernel_size\": 3,\n",
            "  \"adapter_stride\": 2,\n",
            "  \"add_adapter\": false,\n",
            "  \"apply_spec_augment\": true,\n",
            "  \"architectures\": [\n",
            "    \"Wav2Vec2ForPreTraining\"\n",
            "  ],\n",
            "  \"attention_dropout\": 0.1,\n",
            "  \"bos_token_id\": 1,\n",
            "  \"classifier_proj_size\": 256,\n",
            "  \"codevector_dim\": 256,\n",
            "  \"contrastive_logits_temperature\": 0.1,\n",
            "  \"conv_bias\": false,\n",
            "  \"conv_dim\": [\n",
            "    512,\n",
            "    512,\n",
            "    512,\n",
            "    512,\n",
            "    512,\n",
            "    512,\n",
            "    512\n",
            "  ],\n",
            "  \"conv_kernel\": [\n",
            "    10,\n",
            "    3,\n",
            "    3,\n",
            "    3,\n",
            "    3,\n",
            "    2,\n",
            "    2\n",
            "  ],\n",
            "  \"conv_stride\": [\n",
            "    5,\n",
            "    2,\n",
            "    2,\n",
            "    2,\n",
            "    2,\n",
            "    2,\n",
            "    2\n",
            "  ],\n",
            "  \"ctc_loss_reduction\": \"mean\",\n",
            "  \"ctc_zero_infinity\": false,\n",
            "  \"diversity_loss_weight\": 0.1,\n",
            "  \"do_stable_layer_norm\": false,\n",
            "  \"eos_token_id\": 2,\n",
            "  \"feat_extract_activation\": \"gelu\",\n",
            "  \"feat_extract_norm\": \"group\",\n",
            "  \"feat_proj_dropout\": 0.1,\n",
            "  \"feat_quantizer_dropout\": 0.0,\n",
            "  \"final_dropout\": 0.0,\n",
            "  \"freeze_feat_extract_train\": true,\n",
            "  \"gradient_checkpointing\": true,\n",
            "  \"hidden_act\": \"gelu\",\n",
            "  \"hidden_dropout\": 0.1,\n",
            "  \"hidden_size\": 768,\n",
            "  \"initializer_range\": 0.02,\n",
            "  \"intermediate_size\": 3072,\n",
            "  \"layer_norm_eps\": 1e-05,\n",
            "  \"layerdrop\": 0.0,\n",
            "  \"mask_channel_length\": 10,\n",
            "  \"mask_channel_min_space\": 1,\n",
            "  \"mask_channel_other\": 0.0,\n",
            "  \"mask_channel_prob\": 0.0,\n",
            "  \"mask_channel_selection\": \"static\",\n",
            "  \"mask_feature_length\": 10,\n",
            "  \"mask_feature_min_masks\": 0,\n",
            "  \"mask_feature_prob\": 0.0,\n",
            "  \"mask_time_length\": 10,\n",
            "  \"mask_time_min_masks\": 2,\n",
            "  \"mask_time_min_space\": 1,\n",
            "  \"mask_time_other\": 0.0,\n",
            "  \"mask_time_prob\": 0.05,\n",
            "  \"mask_time_selection\": \"static\",\n",
            "  \"model_type\": \"wav2vec2\",\n",
            "  \"no_mask_channel_overlap\": false,\n",
            "  \"no_mask_time_overlap\": false,\n",
            "  \"num_adapter_layers\": 3,\n",
            "  \"num_attention_heads\": 12,\n",
            "  \"num_codevector_groups\": 2,\n",
            "  \"num_codevectors_per_group\": 320,\n",
            "  \"num_conv_pos_embedding_groups\": 16,\n",
            "  \"num_conv_pos_embeddings\": 128,\n",
            "  \"num_feat_extract_layers\": 7,\n",
            "  \"num_hidden_layers\": 12,\n",
            "  \"num_negatives\": 100,\n",
            "  \"output_hidden_size\": 768,\n",
            "  \"pad_token_id\": 29,\n",
            "  \"proj_codevector_dim\": 256,\n",
            "  \"tdnn_dilation\": [\n",
            "    1,\n",
            "    2,\n",
            "    3,\n",
            "    1,\n",
            "    1\n",
            "  ],\n",
            "  \"tdnn_dim\": [\n",
            "    512,\n",
            "    512,\n",
            "    512,\n",
            "    512,\n",
            "    1500\n",
            "  ],\n",
            "  \"tdnn_kernel\": [\n",
            "    5,\n",
            "    3,\n",
            "    3,\n",
            "    1,\n",
            "    1\n",
            "  ],\n",
            "  \"transformers_version\": \"4.17.0\",\n",
            "  \"use_weighted_layer_sum\": false,\n",
            "  \"vocab_size\": 32,\n",
            "  \"xvector_output_dim\": 512\n",
            "}\n",
            "\n",
            "loading weights file https://huggingface.co/facebook/wav2vec2-base/resolve/main/pytorch_model.bin from cache at /root/.cache/huggingface/transformers/ef45231897ce572a660ebc5a63d3702f1a6041c4c5fb78cbec330708531939b3.fcae05302a685f7904c551c8ea571e8bc2a2c4a1777ea81ad66e47f7883a650a\n",
            "Some weights of the model checkpoint at facebook/wav2vec2-base were not used when initializing Wav2Vec2ForCTC: ['project_q.weight', 'quantizer.weight_proj.bias', 'project_hid.bias', 'project_q.bias', 'quantizer.weight_proj.weight', 'project_hid.weight', 'quantizer.codevectors']\n",
            "- This IS expected if you are initializing Wav2Vec2ForCTC from the checkpoint of a model trained on another task or with another architecture (e.g. initializing a BertForSequenceClassification model from a BertForPreTraining model).\n",
            "- This IS NOT expected if you are initializing Wav2Vec2ForCTC from the checkpoint of a model that you expect to be exactly identical (initializing a BertForSequenceClassification model from a BertForSequenceClassification model).\n",
            "Some weights of Wav2Vec2ForCTC were not initialized from the model checkpoint at facebook/wav2vec2-base and are newly initialized: ['lm_head.weight', 'lm_head.bias']\n",
            "You should probably TRAIN this model on a down-stream task to be able to use it for predictions and inference.\n"
          ]
        }
      ]
    },
    {
      "cell_type": "markdown",
      "metadata": {
        "id": "1DwR3XLSzGDD"
      },
      "source": [
        "The first component of Wav2Vec2 consists of a stack of CNN layers that are used to extract acoustically meaningful - but contextually independent - features from the raw speech signal. This part of the model has already been sufficiently trained during pretrainind and as stated in the [paper](https://arxiv.org/abs/2006.11477) does not need to be fine-tuned anymore. \n",
        "Thus, we can set the `requires_grad` to `False` for all parameters of the *feature extraction* part."
      ]
    },
    {
      "cell_type": "code",
      "source": [
        "model.freeze_feature_encoder()"
      ],
      "metadata": {
        "id": "Et_NUAZjWppc"
      },
      "execution_count": null,
      "outputs": []
    },
    {
      "cell_type": "markdown",
      "metadata": {
        "id": "lD4aGhQM0K-D"
      },
      "source": [
        "In a final step, we define all parameters related to training. \n",
        "To give more explanation on some of the parameters:\n",
        "- `group_by_length` makes training more efficient by grouping training samples of similar input length into one batch. This can significantly speed up training time by heavily reducing the overall number of useless padding tokens that are passed through the model\n",
        "- `learning_rate` and `weight_decay` were heuristically tuned until fine-tuning has become stable. Note that those parameters strongly depend on the Timit dataset and might be suboptimal for other speech datasets.\n",
        "\n",
        "For more explanations on other parameters, one can take a look at the [docs](https://huggingface.co/transformers/master/main_classes/trainer.html?highlight=trainer#trainingarguments).\n",
        "\n",
        "During training, a checkpoint will be uploaded asynchronously to the hub every 400 training steps. It allows you to also play around with the demo widget even while your model is still training.\n",
        "\n",
        "**Note**: If one does not want to upload the model checkpoints to the hub, simply set `push_to_hub=False`."
      ]
    },
    {
      "cell_type": "code",
      "metadata": {
        "id": "KbeKSV7uzGPP",
        "colab": {
          "base_uri": "https://localhost:8080/"
        },
        "outputId": "502e0963-4b94-40c9-915a-531b35ef7e8a"
      },
      "source": [
        "from transformers import TrainingArguments\n",
        "\n",
        "training_args = TrainingArguments(\n",
        "  output_dir=repo_name,\n",
        "  group_by_length=True,\n",
        "  per_device_train_batch_size=8,\n",
        "  evaluation_strategy=\"steps\",\n",
        "  num_train_epochs=30,\n",
        "  fp16=True,\n",
        "  gradient_checkpointing=True,\n",
        "  save_steps=500,\n",
        "  eval_steps=500,\n",
        "  logging_steps=500,\n",
        "  learning_rate=1e-4,\n",
        "  weight_decay=0.005,\n",
        "  warmup_steps=1000,\n",
        "  save_total_limit=2,\n",
        ")"
      ],
      "execution_count": null,
      "outputs": [
        {
          "output_type": "stream",
          "name": "stderr",
          "text": [
            "PyTorch: setting up devices\n",
            "The default value for the training argument `--report_to` will change in v5 (from all installed integrations to none). In v5, you will need to use `--report_to all` to get the same behavior as now. You should start updating your code and make this info disappear :-).\n"
          ]
        }
      ]
    },
    {
      "cell_type": "markdown",
      "metadata": {
        "id": "OsW-WZcL1ZtN"
      },
      "source": [
        "Now, all instances can be passed to Trainer and we are ready to start training!"
      ]
    },
    {
      "cell_type": "code",
      "metadata": {
        "id": "rY7vBmFCPFgC",
        "colab": {
          "base_uri": "https://localhost:8080/"
        },
        "outputId": "7d004e64-8aa4-49d1-8635-f6dd920470b1"
      },
      "source": [
        "from transformers import Trainer\n",
        "\n",
        "trainer = Trainer(\n",
        "    model=model,\n",
        "    data_collator=data_collator,\n",
        "    args=training_args,\n",
        "    compute_metrics=compute_metrics,\n",
        "    train_dataset=timit[\"train\"],\n",
        "    eval_dataset=timit[\"test\"],\n",
        "    tokenizer=processor.feature_extractor,\n",
        ")"
      ],
      "execution_count": null,
      "outputs": [
        {
          "output_type": "stream",
          "name": "stderr",
          "text": [
            "Using amp half precision backend\n"
          ]
        }
      ]
    },
    {
      "cell_type": "markdown",
      "metadata": {
        "id": "UoXBx1JAA0DX"
      },
      "source": [
        "\n",
        "\n",
        "---\n",
        "\n",
        "${}^1$ To allow models to become independent of the speaker rate, in CTC, consecutive tokens that are identical are simply grouped as a single token. However, the encoded labels should not be grouped when decoding since they don't correspond to the predicted tokens of the model, which is why the `group_tokens=False` parameter has to be passed. If we wouldn't pass this parameter a word like `\"hello\"` would incorrectly be encoded, and decoded as `\"helo\"`.\n",
        "\n",
        "${}^2$ The blank token allows the model to predict a word, such as `\"hello\"` by forcing it to insert the blank token between the two l's. A CTC-conform prediction of `\"hello\"` of our model would be `[PAD] [PAD] \"h\" \"e\" \"e\" \"l\" \"l\" [PAD] \"l\" \"o\" \"o\" [PAD]`."
      ]
    },
    {
      "cell_type": "markdown",
      "metadata": {
        "id": "rpvZHM1xReIW"
      },
      "source": [
        "### Training"
      ]
    },
    {
      "cell_type": "markdown",
      "metadata": {
        "id": "j-3oKSzZ1hGq"
      },
      "source": [
        "Training will take between 90 and 270 minutes depending on the GPU allocated to this notebook. While the trained model yields satisfying results on *Timit*'s test data, it is by no means an optimally fine-tuned model. The purpose of this notebook is to demonstrate how Wav2Vec2's [base](https://huggingface.co/facebook/wav2vec2-base), [large](https://huggingface.co/facebook/wav2vec2-large), and [large-lv60](https://huggingface.co/facebook/wav2vec2-large-lv60) checkpoints can be fine-tuned on any English dataset.\n",
        "\n",
        "In case you want to use this google colab to fine-tune your model, you should make sure that your training doesn't stop due to inactivity. A simple hack to prevent this is to paste the following code into the console of this tab (*right mouse click -> inspect -> Console tab and insert code*)."
      ]
    },
    {
      "cell_type": "markdown",
      "metadata": {
        "id": "VYYAvgkW4P0m"
      },
      "source": [
        "```javascript\n",
        "function ConnectButton(){\n",
        "    console.log(\"Connect pushed\"); \n",
        "    document.querySelector(\"#top-toolbar > colab-connect-button\").shadowRoot.querySelector(\"#connect\").click() \n",
        "}\n",
        "setInterval(ConnectButton,60000);\n",
        "```"
      ]
    },
    {
      "cell_type": "markdown",
      "metadata": {
        "id": "PmY6yqd1zvzU"
      },
      "source": [
        "Depending on what GPU was allocated to your google colab it might be possible that you are seeing an `\"out-of-memory\"` error here. In this case, it's probably best to reduce `per_device_train_batch_size` to 16 or even less and eventually make use of [`gradient_accumulation`](https://huggingface.co/transformers/master/main_classes/trainer.html#trainingarguments)."
      ]
    },
    {
      "cell_type": "code",
      "metadata": {
        "colab": {
          "base_uri": "https://localhost:8080/",
          "height": 1000
        },
        "id": "_UEjJqGsQw24",
        "outputId": "ef86cb55-632e-44fd-b9b2-6b804e7808df"
      },
      "source": [
        "trainer.train()"
      ],
      "execution_count": null,
      "outputs": [
        {
          "output_type": "stream",
          "name": "stderr",
          "text": [
            "The following columns in the training set  don't have a corresponding argument in `Wav2Vec2ForCTC.forward` and have been ignored: input_length. If input_length are not expected by `Wav2Vec2ForCTC.forward`,  you can safely ignore this message.\n",
            "/usr/local/lib/python3.7/dist-packages/transformers/optimization.py:309: FutureWarning: This implementation of AdamW is deprecated and will be removed in a future version. Use the PyTorch implementation torch.optim.AdamW instead, or set `no_deprecation_warning=True` to disable this warning\n",
            "  FutureWarning,\n",
            "***** Running training *****\n",
            "  Num examples = 3978\n",
            "  Num Epochs = 30\n",
            "  Instantaneous batch size per device = 8\n",
            "  Total train batch size (w. parallel, distributed & accumulation) = 8\n",
            "  Gradient Accumulation steps = 1\n",
            "  Total optimization steps = 14940\n"
          ]
        },
        {
          "output_type": "display_data",
          "data": {
            "text/plain": [
              "<IPython.core.display.HTML object>"
            ],
            "text/html": [
              "\n",
              "    <div>\n",
              "      \n",
              "      <progress value='14940' max='14940' style='width:300px; height:20px; vertical-align: middle;'></progress>\n",
              "      [14940/14940 1:24:12, Epoch 30/30]\n",
              "    </div>\n",
              "    <table border=\"1\" class=\"dataframe\">\n",
              "  <thead>\n",
              " <tr style=\"text-align: left;\">\n",
              "      <th>Step</th>\n",
              "      <th>Training Loss</th>\n",
              "      <th>Validation Loss</th>\n",
              "      <th>Wer</th>\n",
              "    </tr>\n",
              "  </thead>\n",
              "  <tbody>\n",
              "    <tr>\n",
              "      <td>500</td>\n",
              "      <td>3.513700</td>\n",
              "      <td>1.671889</td>\n",
              "      <td>0.958032</td>\n",
              "    </tr>\n",
              "    <tr>\n",
              "      <td>1000</td>\n",
              "      <td>0.832400</td>\n",
              "      <td>0.554610</td>\n",
              "      <td>0.534147</td>\n",
              "    </tr>\n",
              "    <tr>\n",
              "      <td>1500</td>\n",
              "      <td>0.436500</td>\n",
              "      <td>0.456734</td>\n",
              "      <td>0.463510</td>\n",
              "    </tr>\n",
              "    <tr>\n",
              "      <td>2000</td>\n",
              "      <td>0.305800</td>\n",
              "      <td>0.442902</td>\n",
              "      <td>0.445386</td>\n",
              "    </tr>\n",
              "    <tr>\n",
              "      <td>2500</td>\n",
              "      <td>0.228400</td>\n",
              "      <td>0.473383</td>\n",
              "      <td>0.418648</td>\n",
              "    </tr>\n",
              "    <tr>\n",
              "      <td>3000</td>\n",
              "      <td>0.189200</td>\n",
              "      <td>0.419089</td>\n",
              "      <td>0.403005</td>\n",
              "    </tr>\n",
              "    <tr>\n",
              "      <td>3500</td>\n",
              "      <td>0.154200</td>\n",
              "      <td>0.452161</td>\n",
              "      <td>0.398456</td>\n",
              "    </tr>\n",
              "    <tr>\n",
              "      <td>4000</td>\n",
              "      <td>0.136400</td>\n",
              "      <td>0.474920</td>\n",
              "      <td>0.392185</td>\n",
              "    </tr>\n",
              "    <tr>\n",
              "      <td>4500</td>\n",
              "      <td>0.123900</td>\n",
              "      <td>0.495003</td>\n",
              "      <td>0.397698</td>\n",
              "    </tr>\n",
              "    <tr>\n",
              "      <td>5000</td>\n",
              "      <td>0.109200</td>\n",
              "      <td>0.446769</td>\n",
              "      <td>0.377851</td>\n",
              "    </tr>\n",
              "    <tr>\n",
              "      <td>5500</td>\n",
              "      <td>0.095600</td>\n",
              "      <td>0.489680</td>\n",
              "      <td>0.378885</td>\n",
              "    </tr>\n",
              "    <tr>\n",
              "      <td>6000</td>\n",
              "      <td>0.089700</td>\n",
              "      <td>0.492681</td>\n",
              "      <td>0.371787</td>\n",
              "    </tr>\n",
              "    <tr>\n",
              "      <td>6500</td>\n",
              "      <td>0.079200</td>\n",
              "      <td>0.524202</td>\n",
              "      <td>0.369926</td>\n",
              "    </tr>\n",
              "    <tr>\n",
              "      <td>7000</td>\n",
              "      <td>0.073100</td>\n",
              "      <td>0.520223</td>\n",
              "      <td>0.377162</td>\n",
              "    </tr>\n",
              "    <tr>\n",
              "      <td>7500</td>\n",
              "      <td>0.068100</td>\n",
              "      <td>0.504624</td>\n",
              "      <td>0.363724</td>\n",
              "    </tr>\n",
              "    <tr>\n",
              "      <td>8000</td>\n",
              "      <td>0.062000</td>\n",
              "      <td>0.533646</td>\n",
              "      <td>0.366412</td>\n",
              "    </tr>\n",
              "    <tr>\n",
              "      <td>8500</td>\n",
              "      <td>0.055600</td>\n",
              "      <td>0.501713</td>\n",
              "      <td>0.363311</td>\n",
              "    </tr>\n",
              "    <tr>\n",
              "      <td>9000</td>\n",
              "      <td>0.055600</td>\n",
              "      <td>0.546627</td>\n",
              "      <td>0.373648</td>\n",
              "    </tr>\n",
              "    <tr>\n",
              "      <td>9500</td>\n",
              "      <td>0.046100</td>\n",
              "      <td>0.548935</td>\n",
              "      <td>0.356626</td>\n",
              "    </tr>\n",
              "    <tr>\n",
              "      <td>10000</td>\n",
              "      <td>0.043900</td>\n",
              "      <td>0.539872</td>\n",
              "      <td>0.355937</td>\n",
              "    </tr>\n",
              "    <tr>\n",
              "      <td>10500</td>\n",
              "      <td>0.039700</td>\n",
              "      <td>0.515413</td>\n",
              "      <td>0.353938</td>\n",
              "    </tr>\n",
              "    <tr>\n",
              "      <td>11000</td>\n",
              "      <td>0.034600</td>\n",
              "      <td>0.517013</td>\n",
              "      <td>0.351251</td>\n",
              "    </tr>\n",
              "    <tr>\n",
              "      <td>11500</td>\n",
              "      <td>0.033800</td>\n",
              "      <td>0.523557</td>\n",
              "      <td>0.349183</td>\n",
              "    </tr>\n",
              "    <tr>\n",
              "      <td>12000</td>\n",
              "      <td>0.034200</td>\n",
              "      <td>0.528785</td>\n",
              "      <td>0.349252</td>\n",
              "    </tr>\n",
              "    <tr>\n",
              "      <td>12500</td>\n",
              "      <td>0.028200</td>\n",
              "      <td>0.514678</td>\n",
              "      <td>0.344911</td>\n",
              "    </tr>\n",
              "    <tr>\n",
              "      <td>13000</td>\n",
              "      <td>0.025100</td>\n",
              "      <td>0.509152</td>\n",
              "      <td>0.344222</td>\n",
              "    </tr>\n",
              "    <tr>\n",
              "      <td>13500</td>\n",
              "      <td>0.026800</td>\n",
              "      <td>0.509325</td>\n",
              "      <td>0.341327</td>\n",
              "    </tr>\n",
              "    <tr>\n",
              "      <td>14000</td>\n",
              "      <td>0.021000</td>\n",
              "      <td>0.530961</td>\n",
              "      <td>0.339880</td>\n",
              "    </tr>\n",
              "    <tr>\n",
              "      <td>14500</td>\n",
              "      <td>0.022000</td>\n",
              "      <td>0.518533</td>\n",
              "      <td>0.336986</td>\n",
              "    </tr>\n",
              "  </tbody>\n",
              "</table><p>"
            ]
          },
          "metadata": {}
        },
        {
          "output_type": "stream",
          "name": "stderr",
          "text": [
            "The following columns in the evaluation set  don't have a corresponding argument in `Wav2Vec2ForCTC.forward` and have been ignored: input_length. If input_length are not expected by `Wav2Vec2ForCTC.forward`,  you can safely ignore this message.\n",
            "***** Running Evaluation *****\n",
            "  Num examples = 1680\n",
            "  Batch size = 8\n",
            "Saving model checkpoint to wav2vec2-base-timit-demo-google-colab/checkpoint-500\n",
            "Configuration saved in wav2vec2-base-timit-demo-google-colab/checkpoint-500/config.json\n",
            "Model weights saved in wav2vec2-base-timit-demo-google-colab/checkpoint-500/pytorch_model.bin\n",
            "Feature extractor saved in wav2vec2-base-timit-demo-google-colab/checkpoint-500/preprocessor_config.json\n",
            "The following columns in the evaluation set  don't have a corresponding argument in `Wav2Vec2ForCTC.forward` and have been ignored: input_length. If input_length are not expected by `Wav2Vec2ForCTC.forward`,  you can safely ignore this message.\n",
            "***** Running Evaluation *****\n",
            "  Num examples = 1680\n",
            "  Batch size = 8\n",
            "Saving model checkpoint to wav2vec2-base-timit-demo-google-colab/checkpoint-1000\n",
            "Configuration saved in wav2vec2-base-timit-demo-google-colab/checkpoint-1000/config.json\n",
            "Model weights saved in wav2vec2-base-timit-demo-google-colab/checkpoint-1000/pytorch_model.bin\n",
            "Feature extractor saved in wav2vec2-base-timit-demo-google-colab/checkpoint-1000/preprocessor_config.json\n",
            "The following columns in the evaluation set  don't have a corresponding argument in `Wav2Vec2ForCTC.forward` and have been ignored: input_length. If input_length are not expected by `Wav2Vec2ForCTC.forward`,  you can safely ignore this message.\n",
            "***** Running Evaluation *****\n",
            "  Num examples = 1680\n",
            "  Batch size = 8\n",
            "Saving model checkpoint to wav2vec2-base-timit-demo-google-colab/checkpoint-1500\n",
            "Configuration saved in wav2vec2-base-timit-demo-google-colab/checkpoint-1500/config.json\n",
            "Model weights saved in wav2vec2-base-timit-demo-google-colab/checkpoint-1500/pytorch_model.bin\n",
            "Feature extractor saved in wav2vec2-base-timit-demo-google-colab/checkpoint-1500/preprocessor_config.json\n",
            "Deleting older checkpoint [wav2vec2-base-timit-demo-google-colab/checkpoint-500] due to args.save_total_limit\n",
            "The following columns in the evaluation set  don't have a corresponding argument in `Wav2Vec2ForCTC.forward` and have been ignored: input_length. If input_length are not expected by `Wav2Vec2ForCTC.forward`,  you can safely ignore this message.\n",
            "***** Running Evaluation *****\n",
            "  Num examples = 1680\n",
            "  Batch size = 8\n",
            "Saving model checkpoint to wav2vec2-base-timit-demo-google-colab/checkpoint-2000\n",
            "Configuration saved in wav2vec2-base-timit-demo-google-colab/checkpoint-2000/config.json\n",
            "Model weights saved in wav2vec2-base-timit-demo-google-colab/checkpoint-2000/pytorch_model.bin\n",
            "Feature extractor saved in wav2vec2-base-timit-demo-google-colab/checkpoint-2000/preprocessor_config.json\n",
            "Deleting older checkpoint [wav2vec2-base-timit-demo-google-colab/checkpoint-1000] due to args.save_total_limit\n",
            "The following columns in the evaluation set  don't have a corresponding argument in `Wav2Vec2ForCTC.forward` and have been ignored: input_length. If input_length are not expected by `Wav2Vec2ForCTC.forward`,  you can safely ignore this message.\n",
            "***** Running Evaluation *****\n",
            "  Num examples = 1680\n",
            "  Batch size = 8\n",
            "Saving model checkpoint to wav2vec2-base-timit-demo-google-colab/checkpoint-2500\n",
            "Configuration saved in wav2vec2-base-timit-demo-google-colab/checkpoint-2500/config.json\n",
            "Model weights saved in wav2vec2-base-timit-demo-google-colab/checkpoint-2500/pytorch_model.bin\n",
            "Feature extractor saved in wav2vec2-base-timit-demo-google-colab/checkpoint-2500/preprocessor_config.json\n",
            "Deleting older checkpoint [wav2vec2-base-timit-demo-google-colab/checkpoint-1500] due to args.save_total_limit\n",
            "The following columns in the evaluation set  don't have a corresponding argument in `Wav2Vec2ForCTC.forward` and have been ignored: input_length. If input_length are not expected by `Wav2Vec2ForCTC.forward`,  you can safely ignore this message.\n",
            "***** Running Evaluation *****\n",
            "  Num examples = 1680\n",
            "  Batch size = 8\n",
            "Saving model checkpoint to wav2vec2-base-timit-demo-google-colab/checkpoint-3000\n",
            "Configuration saved in wav2vec2-base-timit-demo-google-colab/checkpoint-3000/config.json\n",
            "Model weights saved in wav2vec2-base-timit-demo-google-colab/checkpoint-3000/pytorch_model.bin\n",
            "Feature extractor saved in wav2vec2-base-timit-demo-google-colab/checkpoint-3000/preprocessor_config.json\n",
            "Deleting older checkpoint [wav2vec2-base-timit-demo-google-colab/checkpoint-2000] due to args.save_total_limit\n",
            "The following columns in the evaluation set  don't have a corresponding argument in `Wav2Vec2ForCTC.forward` and have been ignored: input_length. If input_length are not expected by `Wav2Vec2ForCTC.forward`,  you can safely ignore this message.\n",
            "***** Running Evaluation *****\n",
            "  Num examples = 1680\n",
            "  Batch size = 8\n",
            "Saving model checkpoint to wav2vec2-base-timit-demo-google-colab/checkpoint-3500\n",
            "Configuration saved in wav2vec2-base-timit-demo-google-colab/checkpoint-3500/config.json\n",
            "Model weights saved in wav2vec2-base-timit-demo-google-colab/checkpoint-3500/pytorch_model.bin\n",
            "Feature extractor saved in wav2vec2-base-timit-demo-google-colab/checkpoint-3500/preprocessor_config.json\n",
            "Deleting older checkpoint [wav2vec2-base-timit-demo-google-colab/checkpoint-2500] due to args.save_total_limit\n",
            "The following columns in the evaluation set  don't have a corresponding argument in `Wav2Vec2ForCTC.forward` and have been ignored: input_length. If input_length are not expected by `Wav2Vec2ForCTC.forward`,  you can safely ignore this message.\n",
            "***** Running Evaluation *****\n",
            "  Num examples = 1680\n",
            "  Batch size = 8\n",
            "Saving model checkpoint to wav2vec2-base-timit-demo-google-colab/checkpoint-4000\n",
            "Configuration saved in wav2vec2-base-timit-demo-google-colab/checkpoint-4000/config.json\n",
            "Model weights saved in wav2vec2-base-timit-demo-google-colab/checkpoint-4000/pytorch_model.bin\n",
            "Feature extractor saved in wav2vec2-base-timit-demo-google-colab/checkpoint-4000/preprocessor_config.json\n",
            "Deleting older checkpoint [wav2vec2-base-timit-demo-google-colab/checkpoint-3000] due to args.save_total_limit\n",
            "The following columns in the evaluation set  don't have a corresponding argument in `Wav2Vec2ForCTC.forward` and have been ignored: input_length. If input_length are not expected by `Wav2Vec2ForCTC.forward`,  you can safely ignore this message.\n",
            "***** Running Evaluation *****\n",
            "  Num examples = 1680\n",
            "  Batch size = 8\n",
            "Saving model checkpoint to wav2vec2-base-timit-demo-google-colab/checkpoint-4500\n",
            "Configuration saved in wav2vec2-base-timit-demo-google-colab/checkpoint-4500/config.json\n",
            "Model weights saved in wav2vec2-base-timit-demo-google-colab/checkpoint-4500/pytorch_model.bin\n",
            "Feature extractor saved in wav2vec2-base-timit-demo-google-colab/checkpoint-4500/preprocessor_config.json\n",
            "Deleting older checkpoint [wav2vec2-base-timit-demo-google-colab/checkpoint-3500] due to args.save_total_limit\n",
            "The following columns in the evaluation set  don't have a corresponding argument in `Wav2Vec2ForCTC.forward` and have been ignored: input_length. If input_length are not expected by `Wav2Vec2ForCTC.forward`,  you can safely ignore this message.\n",
            "***** Running Evaluation *****\n",
            "  Num examples = 1680\n",
            "  Batch size = 8\n",
            "Saving model checkpoint to wav2vec2-base-timit-demo-google-colab/checkpoint-5000\n",
            "Configuration saved in wav2vec2-base-timit-demo-google-colab/checkpoint-5000/config.json\n",
            "Model weights saved in wav2vec2-base-timit-demo-google-colab/checkpoint-5000/pytorch_model.bin\n",
            "Feature extractor saved in wav2vec2-base-timit-demo-google-colab/checkpoint-5000/preprocessor_config.json\n",
            "Deleting older checkpoint [wav2vec2-base-timit-demo-google-colab/checkpoint-4000] due to args.save_total_limit\n",
            "The following columns in the evaluation set  don't have a corresponding argument in `Wav2Vec2ForCTC.forward` and have been ignored: input_length. If input_length are not expected by `Wav2Vec2ForCTC.forward`,  you can safely ignore this message.\n",
            "***** Running Evaluation *****\n",
            "  Num examples = 1680\n",
            "  Batch size = 8\n",
            "Saving model checkpoint to wav2vec2-base-timit-demo-google-colab/checkpoint-5500\n",
            "Configuration saved in wav2vec2-base-timit-demo-google-colab/checkpoint-5500/config.json\n",
            "Model weights saved in wav2vec2-base-timit-demo-google-colab/checkpoint-5500/pytorch_model.bin\n",
            "Feature extractor saved in wav2vec2-base-timit-demo-google-colab/checkpoint-5500/preprocessor_config.json\n",
            "Deleting older checkpoint [wav2vec2-base-timit-demo-google-colab/checkpoint-4500] due to args.save_total_limit\n",
            "The following columns in the evaluation set  don't have a corresponding argument in `Wav2Vec2ForCTC.forward` and have been ignored: input_length. If input_length are not expected by `Wav2Vec2ForCTC.forward`,  you can safely ignore this message.\n",
            "***** Running Evaluation *****\n",
            "  Num examples = 1680\n",
            "  Batch size = 8\n",
            "Saving model checkpoint to wav2vec2-base-timit-demo-google-colab/checkpoint-6000\n",
            "Configuration saved in wav2vec2-base-timit-demo-google-colab/checkpoint-6000/config.json\n",
            "Model weights saved in wav2vec2-base-timit-demo-google-colab/checkpoint-6000/pytorch_model.bin\n",
            "Feature extractor saved in wav2vec2-base-timit-demo-google-colab/checkpoint-6000/preprocessor_config.json\n",
            "Deleting older checkpoint [wav2vec2-base-timit-demo-google-colab/checkpoint-5000] due to args.save_total_limit\n",
            "The following columns in the evaluation set  don't have a corresponding argument in `Wav2Vec2ForCTC.forward` and have been ignored: input_length. If input_length are not expected by `Wav2Vec2ForCTC.forward`,  you can safely ignore this message.\n",
            "***** Running Evaluation *****\n",
            "  Num examples = 1680\n",
            "  Batch size = 8\n",
            "Saving model checkpoint to wav2vec2-base-timit-demo-google-colab/checkpoint-6500\n",
            "Configuration saved in wav2vec2-base-timit-demo-google-colab/checkpoint-6500/config.json\n",
            "Model weights saved in wav2vec2-base-timit-demo-google-colab/checkpoint-6500/pytorch_model.bin\n",
            "Feature extractor saved in wav2vec2-base-timit-demo-google-colab/checkpoint-6500/preprocessor_config.json\n",
            "Deleting older checkpoint [wav2vec2-base-timit-demo-google-colab/checkpoint-5500] due to args.save_total_limit\n",
            "The following columns in the evaluation set  don't have a corresponding argument in `Wav2Vec2ForCTC.forward` and have been ignored: input_length. If input_length are not expected by `Wav2Vec2ForCTC.forward`,  you can safely ignore this message.\n",
            "***** Running Evaluation *****\n",
            "  Num examples = 1680\n",
            "  Batch size = 8\n",
            "Saving model checkpoint to wav2vec2-base-timit-demo-google-colab/checkpoint-7000\n",
            "Configuration saved in wav2vec2-base-timit-demo-google-colab/checkpoint-7000/config.json\n",
            "Model weights saved in wav2vec2-base-timit-demo-google-colab/checkpoint-7000/pytorch_model.bin\n",
            "Feature extractor saved in wav2vec2-base-timit-demo-google-colab/checkpoint-7000/preprocessor_config.json\n",
            "Deleting older checkpoint [wav2vec2-base-timit-demo-google-colab/checkpoint-6000] due to args.save_total_limit\n",
            "The following columns in the evaluation set  don't have a corresponding argument in `Wav2Vec2ForCTC.forward` and have been ignored: input_length. If input_length are not expected by `Wav2Vec2ForCTC.forward`,  you can safely ignore this message.\n",
            "***** Running Evaluation *****\n",
            "  Num examples = 1680\n",
            "  Batch size = 8\n",
            "Saving model checkpoint to wav2vec2-base-timit-demo-google-colab/checkpoint-7500\n",
            "Configuration saved in wav2vec2-base-timit-demo-google-colab/checkpoint-7500/config.json\n",
            "Model weights saved in wav2vec2-base-timit-demo-google-colab/checkpoint-7500/pytorch_model.bin\n",
            "Feature extractor saved in wav2vec2-base-timit-demo-google-colab/checkpoint-7500/preprocessor_config.json\n",
            "Deleting older checkpoint [wav2vec2-base-timit-demo-google-colab/checkpoint-6500] due to args.save_total_limit\n",
            "The following columns in the evaluation set  don't have a corresponding argument in `Wav2Vec2ForCTC.forward` and have been ignored: input_length. If input_length are not expected by `Wav2Vec2ForCTC.forward`,  you can safely ignore this message.\n",
            "***** Running Evaluation *****\n",
            "  Num examples = 1680\n",
            "  Batch size = 8\n",
            "Saving model checkpoint to wav2vec2-base-timit-demo-google-colab/checkpoint-8000\n",
            "Configuration saved in wav2vec2-base-timit-demo-google-colab/checkpoint-8000/config.json\n",
            "Model weights saved in wav2vec2-base-timit-demo-google-colab/checkpoint-8000/pytorch_model.bin\n",
            "Feature extractor saved in wav2vec2-base-timit-demo-google-colab/checkpoint-8000/preprocessor_config.json\n",
            "Deleting older checkpoint [wav2vec2-base-timit-demo-google-colab/checkpoint-7000] due to args.save_total_limit\n",
            "The following columns in the evaluation set  don't have a corresponding argument in `Wav2Vec2ForCTC.forward` and have been ignored: input_length. If input_length are not expected by `Wav2Vec2ForCTC.forward`,  you can safely ignore this message.\n",
            "***** Running Evaluation *****\n",
            "  Num examples = 1680\n",
            "  Batch size = 8\n",
            "Saving model checkpoint to wav2vec2-base-timit-demo-google-colab/checkpoint-8500\n",
            "Configuration saved in wav2vec2-base-timit-demo-google-colab/checkpoint-8500/config.json\n",
            "Model weights saved in wav2vec2-base-timit-demo-google-colab/checkpoint-8500/pytorch_model.bin\n",
            "Feature extractor saved in wav2vec2-base-timit-demo-google-colab/checkpoint-8500/preprocessor_config.json\n",
            "Deleting older checkpoint [wav2vec2-base-timit-demo-google-colab/checkpoint-7500] due to args.save_total_limit\n",
            "The following columns in the evaluation set  don't have a corresponding argument in `Wav2Vec2ForCTC.forward` and have been ignored: input_length. If input_length are not expected by `Wav2Vec2ForCTC.forward`,  you can safely ignore this message.\n",
            "***** Running Evaluation *****\n",
            "  Num examples = 1680\n",
            "  Batch size = 8\n",
            "Saving model checkpoint to wav2vec2-base-timit-demo-google-colab/checkpoint-9000\n",
            "Configuration saved in wav2vec2-base-timit-demo-google-colab/checkpoint-9000/config.json\n",
            "Model weights saved in wav2vec2-base-timit-demo-google-colab/checkpoint-9000/pytorch_model.bin\n",
            "Feature extractor saved in wav2vec2-base-timit-demo-google-colab/checkpoint-9000/preprocessor_config.json\n",
            "Deleting older checkpoint [wav2vec2-base-timit-demo-google-colab/checkpoint-8000] due to args.save_total_limit\n",
            "The following columns in the evaluation set  don't have a corresponding argument in `Wav2Vec2ForCTC.forward` and have been ignored: input_length. If input_length are not expected by `Wav2Vec2ForCTC.forward`,  you can safely ignore this message.\n",
            "***** Running Evaluation *****\n",
            "  Num examples = 1680\n",
            "  Batch size = 8\n",
            "Saving model checkpoint to wav2vec2-base-timit-demo-google-colab/checkpoint-9500\n",
            "Configuration saved in wav2vec2-base-timit-demo-google-colab/checkpoint-9500/config.json\n",
            "Model weights saved in wav2vec2-base-timit-demo-google-colab/checkpoint-9500/pytorch_model.bin\n",
            "Feature extractor saved in wav2vec2-base-timit-demo-google-colab/checkpoint-9500/preprocessor_config.json\n",
            "Deleting older checkpoint [wav2vec2-base-timit-demo-google-colab/checkpoint-8500] due to args.save_total_limit\n",
            "The following columns in the evaluation set  don't have a corresponding argument in `Wav2Vec2ForCTC.forward` and have been ignored: input_length. If input_length are not expected by `Wav2Vec2ForCTC.forward`,  you can safely ignore this message.\n",
            "***** Running Evaluation *****\n",
            "  Num examples = 1680\n",
            "  Batch size = 8\n",
            "Saving model checkpoint to wav2vec2-base-timit-demo-google-colab/checkpoint-10000\n",
            "Configuration saved in wav2vec2-base-timit-demo-google-colab/checkpoint-10000/config.json\n",
            "Model weights saved in wav2vec2-base-timit-demo-google-colab/checkpoint-10000/pytorch_model.bin\n",
            "Feature extractor saved in wav2vec2-base-timit-demo-google-colab/checkpoint-10000/preprocessor_config.json\n",
            "Deleting older checkpoint [wav2vec2-base-timit-demo-google-colab/checkpoint-9000] due to args.save_total_limit\n",
            "The following columns in the evaluation set  don't have a corresponding argument in `Wav2Vec2ForCTC.forward` and have been ignored: input_length. If input_length are not expected by `Wav2Vec2ForCTC.forward`,  you can safely ignore this message.\n",
            "***** Running Evaluation *****\n",
            "  Num examples = 1680\n",
            "  Batch size = 8\n",
            "Saving model checkpoint to wav2vec2-base-timit-demo-google-colab/checkpoint-10500\n",
            "Configuration saved in wav2vec2-base-timit-demo-google-colab/checkpoint-10500/config.json\n",
            "Model weights saved in wav2vec2-base-timit-demo-google-colab/checkpoint-10500/pytorch_model.bin\n",
            "Feature extractor saved in wav2vec2-base-timit-demo-google-colab/checkpoint-10500/preprocessor_config.json\n",
            "Deleting older checkpoint [wav2vec2-base-timit-demo-google-colab/checkpoint-9500] due to args.save_total_limit\n",
            "The following columns in the evaluation set  don't have a corresponding argument in `Wav2Vec2ForCTC.forward` and have been ignored: input_length. If input_length are not expected by `Wav2Vec2ForCTC.forward`,  you can safely ignore this message.\n",
            "***** Running Evaluation *****\n",
            "  Num examples = 1680\n",
            "  Batch size = 8\n",
            "Saving model checkpoint to wav2vec2-base-timit-demo-google-colab/checkpoint-11000\n",
            "Configuration saved in wav2vec2-base-timit-demo-google-colab/checkpoint-11000/config.json\n",
            "Model weights saved in wav2vec2-base-timit-demo-google-colab/checkpoint-11000/pytorch_model.bin\n",
            "Feature extractor saved in wav2vec2-base-timit-demo-google-colab/checkpoint-11000/preprocessor_config.json\n",
            "Deleting older checkpoint [wav2vec2-base-timit-demo-google-colab/checkpoint-10000] due to args.save_total_limit\n",
            "The following columns in the evaluation set  don't have a corresponding argument in `Wav2Vec2ForCTC.forward` and have been ignored: input_length. If input_length are not expected by `Wav2Vec2ForCTC.forward`,  you can safely ignore this message.\n",
            "***** Running Evaluation *****\n",
            "  Num examples = 1680\n",
            "  Batch size = 8\n",
            "Saving model checkpoint to wav2vec2-base-timit-demo-google-colab/checkpoint-11500\n",
            "Configuration saved in wav2vec2-base-timit-demo-google-colab/checkpoint-11500/config.json\n",
            "Model weights saved in wav2vec2-base-timit-demo-google-colab/checkpoint-11500/pytorch_model.bin\n",
            "Feature extractor saved in wav2vec2-base-timit-demo-google-colab/checkpoint-11500/preprocessor_config.json\n",
            "Deleting older checkpoint [wav2vec2-base-timit-demo-google-colab/checkpoint-10500] due to args.save_total_limit\n",
            "The following columns in the evaluation set  don't have a corresponding argument in `Wav2Vec2ForCTC.forward` and have been ignored: input_length. If input_length are not expected by `Wav2Vec2ForCTC.forward`,  you can safely ignore this message.\n",
            "***** Running Evaluation *****\n",
            "  Num examples = 1680\n",
            "  Batch size = 8\n",
            "Saving model checkpoint to wav2vec2-base-timit-demo-google-colab/checkpoint-12000\n",
            "Configuration saved in wav2vec2-base-timit-demo-google-colab/checkpoint-12000/config.json\n",
            "Model weights saved in wav2vec2-base-timit-demo-google-colab/checkpoint-12000/pytorch_model.bin\n",
            "Feature extractor saved in wav2vec2-base-timit-demo-google-colab/checkpoint-12000/preprocessor_config.json\n",
            "Deleting older checkpoint [wav2vec2-base-timit-demo-google-colab/checkpoint-11000] due to args.save_total_limit\n",
            "The following columns in the evaluation set  don't have a corresponding argument in `Wav2Vec2ForCTC.forward` and have been ignored: input_length. If input_length are not expected by `Wav2Vec2ForCTC.forward`,  you can safely ignore this message.\n",
            "***** Running Evaluation *****\n",
            "  Num examples = 1680\n",
            "  Batch size = 8\n",
            "Saving model checkpoint to wav2vec2-base-timit-demo-google-colab/checkpoint-12500\n",
            "Configuration saved in wav2vec2-base-timit-demo-google-colab/checkpoint-12500/config.json\n",
            "Model weights saved in wav2vec2-base-timit-demo-google-colab/checkpoint-12500/pytorch_model.bin\n",
            "Feature extractor saved in wav2vec2-base-timit-demo-google-colab/checkpoint-12500/preprocessor_config.json\n",
            "Deleting older checkpoint [wav2vec2-base-timit-demo-google-colab/checkpoint-11500] due to args.save_total_limit\n",
            "The following columns in the evaluation set  don't have a corresponding argument in `Wav2Vec2ForCTC.forward` and have been ignored: input_length. If input_length are not expected by `Wav2Vec2ForCTC.forward`,  you can safely ignore this message.\n",
            "***** Running Evaluation *****\n",
            "  Num examples = 1680\n",
            "  Batch size = 8\n",
            "Saving model checkpoint to wav2vec2-base-timit-demo-google-colab/checkpoint-13000\n",
            "Configuration saved in wav2vec2-base-timit-demo-google-colab/checkpoint-13000/config.json\n",
            "Model weights saved in wav2vec2-base-timit-demo-google-colab/checkpoint-13000/pytorch_model.bin\n",
            "Feature extractor saved in wav2vec2-base-timit-demo-google-colab/checkpoint-13000/preprocessor_config.json\n",
            "Deleting older checkpoint [wav2vec2-base-timit-demo-google-colab/checkpoint-12000] due to args.save_total_limit\n",
            "The following columns in the evaluation set  don't have a corresponding argument in `Wav2Vec2ForCTC.forward` and have been ignored: input_length. If input_length are not expected by `Wav2Vec2ForCTC.forward`,  you can safely ignore this message.\n",
            "***** Running Evaluation *****\n",
            "  Num examples = 1680\n",
            "  Batch size = 8\n",
            "Saving model checkpoint to wav2vec2-base-timit-demo-google-colab/checkpoint-13500\n",
            "Configuration saved in wav2vec2-base-timit-demo-google-colab/checkpoint-13500/config.json\n",
            "Model weights saved in wav2vec2-base-timit-demo-google-colab/checkpoint-13500/pytorch_model.bin\n",
            "Feature extractor saved in wav2vec2-base-timit-demo-google-colab/checkpoint-13500/preprocessor_config.json\n",
            "Deleting older checkpoint [wav2vec2-base-timit-demo-google-colab/checkpoint-12500] due to args.save_total_limit\n",
            "The following columns in the evaluation set  don't have a corresponding argument in `Wav2Vec2ForCTC.forward` and have been ignored: input_length. If input_length are not expected by `Wav2Vec2ForCTC.forward`,  you can safely ignore this message.\n",
            "***** Running Evaluation *****\n",
            "  Num examples = 1680\n",
            "  Batch size = 8\n",
            "Saving model checkpoint to wav2vec2-base-timit-demo-google-colab/checkpoint-14000\n",
            "Configuration saved in wav2vec2-base-timit-demo-google-colab/checkpoint-14000/config.json\n",
            "Model weights saved in wav2vec2-base-timit-demo-google-colab/checkpoint-14000/pytorch_model.bin\n",
            "Feature extractor saved in wav2vec2-base-timit-demo-google-colab/checkpoint-14000/preprocessor_config.json\n",
            "Deleting older checkpoint [wav2vec2-base-timit-demo-google-colab/checkpoint-13000] due to args.save_total_limit\n",
            "The following columns in the evaluation set  don't have a corresponding argument in `Wav2Vec2ForCTC.forward` and have been ignored: input_length. If input_length are not expected by `Wav2Vec2ForCTC.forward`,  you can safely ignore this message.\n",
            "***** Running Evaluation *****\n",
            "  Num examples = 1680\n",
            "  Batch size = 8\n",
            "Saving model checkpoint to wav2vec2-base-timit-demo-google-colab/checkpoint-14500\n",
            "Configuration saved in wav2vec2-base-timit-demo-google-colab/checkpoint-14500/config.json\n",
            "Model weights saved in wav2vec2-base-timit-demo-google-colab/checkpoint-14500/pytorch_model.bin\n",
            "Feature extractor saved in wav2vec2-base-timit-demo-google-colab/checkpoint-14500/preprocessor_config.json\n",
            "Deleting older checkpoint [wav2vec2-base-timit-demo-google-colab/checkpoint-13500] due to args.save_total_limit\n",
            "\n",
            "\n",
            "Training completed. Do not forget to share your model on huggingface.co/models =)\n",
            "\n",
            "\n"
          ]
        },
        {
          "output_type": "execute_result",
          "data": {
            "text/plain": [
              "TrainOutput(global_step=14940, training_loss=0.23359869193520091, metrics={'train_runtime': 5052.3634, 'train_samples_per_second': 23.621, 'train_steps_per_second': 2.957, 'total_flos': 3.0766610595969556e+18, 'train_loss': 0.23359869193520091, 'epoch': 30.0})"
            ]
          },
          "metadata": {},
          "execution_count": 85
        }
      ]
    },
    {
      "cell_type": "markdown",
      "metadata": {
        "id": "UCyp-v3n4Zlt"
      },
      "source": [
        "The final WER should be around 0.3 which is reasonable given that state-of-the-art phoneme error rates (PER) are just below 0.1 (see [leaderboard](https://paperswithcode.com/sota/speech-recognition-on-timit)) and that WER is usually worse than PER.\n",
        "\n",
        "You can now upload the result of the training to the Hub, just execute this instruction:"
      ]
    },
    {
      "cell_type": "code",
      "metadata": {
        "colab": {
          "base_uri": "https://localhost:8080/",
          "height": 497,
          "referenced_widgets": [
            "a7725ad7a1774178bba1b39b48bee36b",
            "acc6c975316f4fc9af3f449ccaf71646",
            "2b48e3c58b284b32ae51a3c3afb13d85",
            "7748d6bd4e224b3f836a06b321e72de0",
            "b29aab47d701449181b8d8c715b09657",
            "5cb2c62e3d6f426f8c17eec2fe6e23ae",
            "f44a8453ba314ddbb153e1278eb59eec",
            "6ba56300bd3240629256a72060f36fde",
            "d8f4c2ce266a4a9284572af28ad9ad1c",
            "4cdbe067372b4c32bc782f966aea7f42",
            "afe17562ac7948edab0233eb3804d9cb",
            "00a02ff8b284413f853da9d7c41afedd",
            "73b586087e9447e688c97318bf6eba11",
            "6ba8f8fde3fc4050a304df11cc1d2c7c",
            "0ceb294ca03a4bf2ae5586ffbbb6f0fc",
            "ffa2bd3495f54f1c81f15ebf50fd4fee",
            "e53ec4e8ee3d44bb8b3bdcf323335c8a",
            "ceef78fab0024c578976ad6c589c0d7f",
            "35a9027e670146f3a25db0d06035fd1b",
            "0cd65792216b4decaf24961bb33802d0",
            "968f456d45ab4f25aeaf57b0c0ddc190",
            "92ae2ab85efc40fa89da650ccbe85e21",
            "e1a34af59be04546808279b6e673c498",
            "91a9bd637428473192d5ec47ba137268",
            "f11e33bc060746758ad638204b71955c",
            "ef69985b8f7c4662912a11a377e99b59",
            "9721f00cdfc942e8ab8a4faf8080ef2d",
            "196c66080f944a61a537a0ddd9905248",
            "e7d54319900548208c3852623ebc3dcf",
            "adbd04cd03624b66a8c725f9a89647b6",
            "200b5fada23d45ff947953003d052605",
            "8c89f99cd7b9408eafbfbf8e0c56d39c",
            "a40561b6f013481ba77fa137ab43b1c2",
            "63ee5e2413434249bd47a8d662ec0da6",
            "d10215d60b9f471ab681a948ad143159",
            "bcb33e49c5ab412eb5b8cd823cf06706",
            "f23b78d30ff040f481b5584a83083b39",
            "fe39df4b5e9d41f6a0233bafb4522dd4",
            "6cac8e9fcefd4353a76244f89ff459e1",
            "4f70c2c356074adf9aa7c1fb6b20f8e3",
            "4cc884973b734098a135619736b5f599",
            "fd72ea27c82843ceb5fdb74886fc5b44",
            "28b1ff0d507e40fb84e4083537207de4",
            "bf2896c4b25147f0a303c748fa2b0cd9"
          ]
        },
        "id": "JYGQYBhHNsvj",
        "outputId": "c60381d7-a4ec-4cfe-ec0b-0b16af963c3d"
      },
      "source": [
        "trainer.push_to_hub()"
      ],
      "execution_count": null,
      "outputs": [
        {
          "output_type": "stream",
          "name": "stderr",
          "text": [
            "/content/wav2vec2-base-timit-demo-google-colab is already a clone of https://huggingface.co/patrickvonplaten/wav2vec2-base-timit-demo-google-colab. Make sure you pull the latest changes with `repo.git_pull()`.\n",
            "Saving model checkpoint to wav2vec2-base-timit-demo-google-colab\n",
            "Configuration saved in wav2vec2-base-timit-demo-google-colab/config.json\n",
            "Model weights saved in wav2vec2-base-timit-demo-google-colab/pytorch_model.bin\n",
            "Feature extractor saved in wav2vec2-base-timit-demo-google-colab/preprocessor_config.json\n"
          ]
        },
        {
          "output_type": "display_data",
          "data": {
            "text/plain": [
              "Upload file pytorch_model.bin:   0%|          | 3.34k/360M [00:00<?, ?B/s]"
            ],
            "application/vnd.jupyter.widget-view+json": {
              "version_major": 2,
              "version_minor": 0,
              "model_id": "a7725ad7a1774178bba1b39b48bee36b"
            }
          },
          "metadata": {}
        },
        {
          "output_type": "display_data",
          "data": {
            "text/plain": [
              "Upload file runs/May10_11-02-51_d58de38fbf77/1652180636.6085317/events.out.tfevents.1652180636.d58de38fbf77.96…"
            ],
            "application/vnd.jupyter.widget-view+json": {
              "version_major": 2,
              "version_minor": 0,
              "model_id": "00a02ff8b284413f853da9d7c41afedd"
            }
          },
          "metadata": {}
        },
        {
          "output_type": "display_data",
          "data": {
            "text/plain": [
              "Upload file training_args.bin: 100%|##########| 2.98k/2.98k [00:00<?, ?B/s]"
            ],
            "application/vnd.jupyter.widget-view+json": {
              "version_major": 2,
              "version_minor": 0,
              "model_id": "e1a34af59be04546808279b6e673c498"
            }
          },
          "metadata": {}
        },
        {
          "output_type": "display_data",
          "data": {
            "text/plain": [
              "Upload file runs/May10_11-02-51_d58de38fbf77/events.out.tfevents.1652180636.d58de38fbf77.96.2:  18%|#7        …"
            ],
            "application/vnd.jupyter.widget-view+json": {
              "version_major": 2,
              "version_minor": 0,
              "model_id": "63ee5e2413434249bd47a8d662ec0da6"
            }
          },
          "metadata": {}
        },
        {
          "output_type": "stream",
          "name": "stderr",
          "text": [
            "remote: Enforcing permissions...        \n",
            "remote: Allowed refs: all        \n",
            "To https://huggingface.co/patrickvonplaten/wav2vec2-base-timit-demo-google-colab\n",
            "   293755a..629f0ba  main -> main\n",
            "\n",
            "Dropping the following result as it does not have all the necessary fields:\n",
            "{}\n",
            "remote: Enforcing permissions...        \n",
            "remote: Allowed refs: all        \n",
            "To https://huggingface.co/patrickvonplaten/wav2vec2-base-timit-demo-google-colab\n",
            "   629f0ba..38b281e  main -> main\n",
            "\n"
          ]
        },
        {
          "output_type": "execute_result",
          "data": {
            "text/plain": [
              "'https://huggingface.co/patrickvonplaten/wav2vec2-base-timit-demo-google-colab/commit/629f0ba808bdecd2134e2d91110e86e4d7d7647c'"
            ],
            "application/vnd.google.colaboratory.intrinsic+json": {
              "type": "string"
            }
          },
          "metadata": {},
          "execution_count": 86
        }
      ]
    },
    {
      "cell_type": "markdown",
      "metadata": {
        "id": "djzwS5WeNu16"
      },
      "source": [
        "You can now share this model with all your friends, family, favorite pets: they can all load it with the identifier \"your-username/the-name-you-picked\" so for instance:"
      ]
    },
    {
      "cell_type": "markdown",
      "metadata": {
        "id": "Adm0LngNNxq7"
      },
      "source": [
        "```python\n",
        "from transformers import AutoModelForCTC, Wav2Vec2Processor\n",
        "\n",
        "model = AutoModelForCTC.from_pretrained(\"patrickvonplaten/wav2vec2-base-timit-demo-google-colab\")\n",
        "processor = Wav2Vec2Processor.from_pretrained(\"patrickvonplaten/wav2vec2-base-timit-demo-google-colab\")\n",
        "```"
      ]
    },
    {
      "cell_type": "markdown",
      "metadata": {
        "id": "nD4XP5IHncsY"
      },
      "source": [
        "### Evaluate\n",
        "\n",
        "In the final part, we run our model on some of the validation data to get a feeling for how well it works.\n",
        "\n",
        "Let's load the `processor` and `model`."
      ]
    },
    {
      "cell_type": "code",
      "metadata": {
        "id": "-rg0USDCnbo6",
        "colab": {
          "base_uri": "https://localhost:8080/",
          "height": 718,
          "referenced_widgets": [
            "524b5795780746f5966c06b878cc0fbc",
            "8eb41fee8e1c452a9d69a07a266d871a",
            "f22febfc3bbe48058be84b2a20e906f5",
            "ab51fefefa1b464a9a780b80c6f0c020",
            "88fd1cb973f8485b97caa19b7801c3d3",
            "3234edc4a75e4658acd19feef174e88f",
            "6bfe6219ad934146a4d680e38ed19879",
            "63e9fc689ea54fbfa7226cc9918977cb",
            "dc034b4bf9e34963ab79f391c55d44ac",
            "6b3288ffeef34c2a925d2554c7c4f521",
            "116e45bbe2d640d18d6a47309692dc20",
            "66d5a397b26e4d66a97bc3b3159e96bd",
            "041870fd5bac43b394956252364a16c4",
            "26f6574d99724fb29159071dda6039b5",
            "55d0bfd5c746402f89e6b86a7ca37b3a",
            "b69bad861f014c20b4cb470c73b1fe37",
            "940e030ce7ae40d68136ddf1a1a67736",
            "c80bdd3bae794c08b81c950a33ff9ba0",
            "7b0c8bc5bb66433384aeb47bf99001ae",
            "6b03d462bd0f4fbeab0df76bbb881621",
            "be78bdab8638431e80c087a0fe9a7a8f",
            "d44a1f0b3216469fb1ac597951f9471a",
            "a0e897961bb049438847879cf082adf3",
            "820ac3ce474346728b80a609d47848ee",
            "045273b88fa04afba97bf7ba6027f164",
            "4847949da7b64782895b4fca8b432ec8",
            "427b99cf8b964a59bbbf0b4d04504906",
            "f652ea3e007c42669e445a7247bb0430",
            "527bf8b3612b4da89479424c5b66681e",
            "708ff309676040119bccd6f21d1684f6",
            "6a8694b9181f4828ba3ef4ff828fd1c3",
            "90dbfe5bab604315b329a6a8fcf131b1",
            "b1a51bfb07774b7bac783d1c4d5a680c",
            "6ca0c9b3d250425b9597de9baa6bd77b",
            "b7d46c7f5da646eba0ed9e38fed6b4ee",
            "7291673613bb43848bec1abee7447078",
            "5c49d625a7f742f1a64820bc6f749f3a",
            "a6a5bcb980df41d1b3e7b581701eae16",
            "6412d390b2ce416fae910d689c3f6e70",
            "255c276a050446ed9df81f8eeb7c1178",
            "ddd975596c234b0eacc40ef18ef40778",
            "a5fd824b8eb64bb7b8d83354961927e6",
            "17e3d063396848548af91c55c8f8e282",
            "a3b48bc669674ff2a0bcce75a50e81eb"
          ]
        },
        "outputId": "ddfac637-7c6d-4df1-a07a-4f1278fff182"
      },
      "source": [
        "processor = Wav2Vec2Processor.from_pretrained(\"patrickvonplaten/wav2vec2-base-timit-demo-google-colab\")"
      ],
      "execution_count": null,
      "outputs": [
        {
          "output_type": "stream",
          "name": "stderr",
          "text": [
            "https://huggingface.co/patrickvonplaten/wav2vec2-base-timit-demo-google-colab/resolve/main/preprocessor_config.json not found in cache or force_download set to True, downloading to /root/.cache/huggingface/transformers/tmpjyd34ogd\n"
          ]
        },
        {
          "output_type": "display_data",
          "data": {
            "text/plain": [
              "Downloading:   0%|          | 0.00/215 [00:00<?, ?B/s]"
            ],
            "application/vnd.jupyter.widget-view+json": {
              "version_major": 2,
              "version_minor": 0,
              "model_id": "524b5795780746f5966c06b878cc0fbc"
            }
          },
          "metadata": {}
        },
        {
          "output_type": "stream",
          "name": "stderr",
          "text": [
            "storing https://huggingface.co/patrickvonplaten/wav2vec2-base-timit-demo-google-colab/resolve/main/preprocessor_config.json in cache at /root/.cache/huggingface/transformers/17fa07f6e2f88edf24c71037bed1b7cf0cf9acfef7d3353afb589689627542c1.0e3e6656f99a6f7b9eddd943463eb7f34363640fce9e87b047ebd50d4b112b50\n",
            "creating metadata file for /root/.cache/huggingface/transformers/17fa07f6e2f88edf24c71037bed1b7cf0cf9acfef7d3353afb589689627542c1.0e3e6656f99a6f7b9eddd943463eb7f34363640fce9e87b047ebd50d4b112b50\n",
            "loading feature extractor configuration file https://huggingface.co/patrickvonplaten/wav2vec2-base-timit-demo-google-colab/resolve/main/preprocessor_config.json from cache at /root/.cache/huggingface/transformers/17fa07f6e2f88edf24c71037bed1b7cf0cf9acfef7d3353afb589689627542c1.0e3e6656f99a6f7b9eddd943463eb7f34363640fce9e87b047ebd50d4b112b50\n",
            "Feature extractor Wav2Vec2FeatureExtractor {\n",
            "  \"do_normalize\": true,\n",
            "  \"feature_extractor_type\": \"Wav2Vec2FeatureExtractor\",\n",
            "  \"feature_size\": 1,\n",
            "  \"padding_side\": \"right\",\n",
            "  \"padding_value\": 0.0,\n",
            "  \"return_attention_mask\": false,\n",
            "  \"sampling_rate\": 16000\n",
            "}\n",
            "\n",
            "https://huggingface.co/patrickvonplaten/wav2vec2-base-timit-demo-google-colab/resolve/main/tokenizer_config.json not found in cache or force_download set to True, downloading to /root/.cache/huggingface/transformers/tmpcsym765z\n"
          ]
        },
        {
          "output_type": "display_data",
          "data": {
            "text/plain": [
              "Downloading:   0%|          | 0.00/217 [00:00<?, ?B/s]"
            ],
            "application/vnd.jupyter.widget-view+json": {
              "version_major": 2,
              "version_minor": 0,
              "model_id": "66d5a397b26e4d66a97bc3b3159e96bd"
            }
          },
          "metadata": {}
        },
        {
          "output_type": "stream",
          "name": "stderr",
          "text": [
            "storing https://huggingface.co/patrickvonplaten/wav2vec2-base-timit-demo-google-colab/resolve/main/tokenizer_config.json in cache at /root/.cache/huggingface/transformers/7bf2e07c1c7ed7e3d055d87aa6bd33c75e6883d98029ae3744fed6bea9e35095.59710b1a6a5501d31e746b6e464f5c44de3e55a58f80634196025936683a68a9\n",
            "creating metadata file for /root/.cache/huggingface/transformers/7bf2e07c1c7ed7e3d055d87aa6bd33c75e6883d98029ae3744fed6bea9e35095.59710b1a6a5501d31e746b6e464f5c44de3e55a58f80634196025936683a68a9\n",
            "https://huggingface.co/patrickvonplaten/wav2vec2-base-timit-demo-google-colab/resolve/main/vocab.json not found in cache or force_download set to True, downloading to /root/.cache/huggingface/transformers/tmpptj3is25\n"
          ]
        },
        {
          "output_type": "display_data",
          "data": {
            "text/plain": [
              "Downloading:   0%|          | 0.00/268 [00:00<?, ?B/s]"
            ],
            "application/vnd.jupyter.widget-view+json": {
              "version_major": 2,
              "version_minor": 0,
              "model_id": "a0e897961bb049438847879cf082adf3"
            }
          },
          "metadata": {}
        },
        {
          "output_type": "stream",
          "name": "stderr",
          "text": [
            "storing https://huggingface.co/patrickvonplaten/wav2vec2-base-timit-demo-google-colab/resolve/main/vocab.json in cache at /root/.cache/huggingface/transformers/f739813380b0880ba302557f0f990f0f64e8efe81fcc91a4fce08206a91ee215.c44a036121683e19f1a033a1765d4344364cb4633a6cbf5cf51b153f2388abb1\n",
            "creating metadata file for /root/.cache/huggingface/transformers/f739813380b0880ba302557f0f990f0f64e8efe81fcc91a4fce08206a91ee215.c44a036121683e19f1a033a1765d4344364cb4633a6cbf5cf51b153f2388abb1\n",
            "https://huggingface.co/patrickvonplaten/wav2vec2-base-timit-demo-google-colab/resolve/main/special_tokens_map.json not found in cache or force_download set to True, downloading to /root/.cache/huggingface/transformers/tmpckp9vkh1\n"
          ]
        },
        {
          "output_type": "display_data",
          "data": {
            "text/plain": [
              "Downloading:   0%|          | 0.00/85.0 [00:00<?, ?B/s]"
            ],
            "application/vnd.jupyter.widget-view+json": {
              "version_major": 2,
              "version_minor": 0,
              "model_id": "6ca0c9b3d250425b9597de9baa6bd77b"
            }
          },
          "metadata": {}
        },
        {
          "output_type": "stream",
          "name": "stderr",
          "text": [
            "storing https://huggingface.co/patrickvonplaten/wav2vec2-base-timit-demo-google-colab/resolve/main/special_tokens_map.json in cache at /root/.cache/huggingface/transformers/c239f3738252f8d8e83d9813ea82866aeec476c467a008db86229f4edc6490b0.a21d51735cf8667bcd610f057e88548d5d6a381401f6b4501a8bc6c1a9dc8498\n",
            "creating metadata file for /root/.cache/huggingface/transformers/c239f3738252f8d8e83d9813ea82866aeec476c467a008db86229f4edc6490b0.a21d51735cf8667bcd610f057e88548d5d6a381401f6b4501a8bc6c1a9dc8498\n",
            "loading file https://huggingface.co/patrickvonplaten/wav2vec2-base-timit-demo-google-colab/resolve/main/vocab.json from cache at /root/.cache/huggingface/transformers/f739813380b0880ba302557f0f990f0f64e8efe81fcc91a4fce08206a91ee215.c44a036121683e19f1a033a1765d4344364cb4633a6cbf5cf51b153f2388abb1\n",
            "loading file https://huggingface.co/patrickvonplaten/wav2vec2-base-timit-demo-google-colab/resolve/main/tokenizer_config.json from cache at /root/.cache/huggingface/transformers/7bf2e07c1c7ed7e3d055d87aa6bd33c75e6883d98029ae3744fed6bea9e35095.59710b1a6a5501d31e746b6e464f5c44de3e55a58f80634196025936683a68a9\n",
            "loading file https://huggingface.co/patrickvonplaten/wav2vec2-base-timit-demo-google-colab/resolve/main/added_tokens.json from cache at None\n",
            "loading file https://huggingface.co/patrickvonplaten/wav2vec2-base-timit-demo-google-colab/resolve/main/special_tokens_map.json from cache at /root/.cache/huggingface/transformers/c239f3738252f8d8e83d9813ea82866aeec476c467a008db86229f4edc6490b0.a21d51735cf8667bcd610f057e88548d5d6a381401f6b4501a8bc6c1a9dc8498\n",
            "Adding <s> to the vocabulary\n",
            "Adding </s> to the vocabulary\n",
            "Special tokens have been added in the vocabulary, make sure the associated word embeddings are fine-tuned or trained.\n"
          ]
        }
      ]
    },
    {
      "cell_type": "code",
      "metadata": {
        "id": "sSpFW3pDn23P",
        "colab": {
          "base_uri": "https://localhost:8080/"
        },
        "outputId": "dd9ac831-3620-4b87-98b6-c85a57150a15"
      },
      "source": [
        "model = Wav2Vec2ForCTC.from_pretrained(\"patrickvonplaten/wav2vec2-base-timit-demo-google-colab\").cuda()"
      ],
      "execution_count": null,
      "outputs": [
        {
          "output_type": "stream",
          "name": "stderr",
          "text": [
            "loading configuration file https://huggingface.co/patrickvonplaten/wav2vec2-base-timit-demo-google-colab/resolve/main/config.json from cache at /root/.cache/huggingface/transformers/7606a293c66b1cba6bb9a342dcffe3831dc19a120cfeeb9e57cdf6ffb9630f3f.3202909be16e9c482257d0c4d35b4f4c2558cea585027c729eed803ba4bf0d8e\n",
            "Model config Wav2Vec2Config {\n",
            "  \"_name_or_path\": \"facebook/wav2vec2-base\",\n",
            "  \"activation_dropout\": 0.0,\n",
            "  \"adapter_kernel_size\": 3,\n",
            "  \"adapter_stride\": 2,\n",
            "  \"add_adapter\": false,\n",
            "  \"apply_spec_augment\": true,\n",
            "  \"architectures\": [\n",
            "    \"Wav2Vec2ForCTC\"\n",
            "  ],\n",
            "  \"attention_dropout\": 0.1,\n",
            "  \"bos_token_id\": 1,\n",
            "  \"classifier_proj_size\": 256,\n",
            "  \"codevector_dim\": 256,\n",
            "  \"contrastive_logits_temperature\": 0.1,\n",
            "  \"conv_bias\": false,\n",
            "  \"conv_dim\": [\n",
            "    512,\n",
            "    512,\n",
            "    512,\n",
            "    512,\n",
            "    512,\n",
            "    512,\n",
            "    512\n",
            "  ],\n",
            "  \"conv_kernel\": [\n",
            "    10,\n",
            "    3,\n",
            "    3,\n",
            "    3,\n",
            "    3,\n",
            "    2,\n",
            "    2\n",
            "  ],\n",
            "  \"conv_stride\": [\n",
            "    5,\n",
            "    2,\n",
            "    2,\n",
            "    2,\n",
            "    2,\n",
            "    2,\n",
            "    2\n",
            "  ],\n",
            "  \"ctc_loss_reduction\": \"mean\",\n",
            "  \"ctc_zero_infinity\": false,\n",
            "  \"diversity_loss_weight\": 0.1,\n",
            "  \"do_stable_layer_norm\": false,\n",
            "  \"eos_token_id\": 2,\n",
            "  \"feat_extract_activation\": \"gelu\",\n",
            "  \"feat_extract_norm\": \"group\",\n",
            "  \"feat_proj_dropout\": 0.1,\n",
            "  \"feat_quantizer_dropout\": 0.0,\n",
            "  \"final_dropout\": 0.0,\n",
            "  \"freeze_feat_extract_train\": true,\n",
            "  \"hidden_act\": \"gelu\",\n",
            "  \"hidden_dropout\": 0.1,\n",
            "  \"hidden_size\": 768,\n",
            "  \"initializer_range\": 0.02,\n",
            "  \"intermediate_size\": 3072,\n",
            "  \"layer_norm_eps\": 1e-05,\n",
            "  \"layerdrop\": 0.0,\n",
            "  \"mask_channel_length\": 10,\n",
            "  \"mask_channel_min_space\": 1,\n",
            "  \"mask_channel_other\": 0.0,\n",
            "  \"mask_channel_prob\": 0.0,\n",
            "  \"mask_channel_selection\": \"static\",\n",
            "  \"mask_feature_length\": 10,\n",
            "  \"mask_feature_min_masks\": 0,\n",
            "  \"mask_feature_prob\": 0.0,\n",
            "  \"mask_time_length\": 10,\n",
            "  \"mask_time_min_masks\": 2,\n",
            "  \"mask_time_min_space\": 1,\n",
            "  \"mask_time_other\": 0.0,\n",
            "  \"mask_time_prob\": 0.05,\n",
            "  \"mask_time_selection\": \"static\",\n",
            "  \"model_type\": \"wav2vec2\",\n",
            "  \"no_mask_channel_overlap\": false,\n",
            "  \"no_mask_time_overlap\": false,\n",
            "  \"num_adapter_layers\": 3,\n",
            "  \"num_attention_heads\": 12,\n",
            "  \"num_codevector_groups\": 2,\n",
            "  \"num_codevectors_per_group\": 320,\n",
            "  \"num_conv_pos_embedding_groups\": 16,\n",
            "  \"num_conv_pos_embeddings\": 128,\n",
            "  \"num_feat_extract_layers\": 7,\n",
            "  \"num_hidden_layers\": 12,\n",
            "  \"num_negatives\": 100,\n",
            "  \"output_hidden_size\": 768,\n",
            "  \"pad_token_id\": 29,\n",
            "  \"proj_codevector_dim\": 256,\n",
            "  \"tdnn_dilation\": [\n",
            "    1,\n",
            "    2,\n",
            "    3,\n",
            "    1,\n",
            "    1\n",
            "  ],\n",
            "  \"tdnn_dim\": [\n",
            "    512,\n",
            "    512,\n",
            "    512,\n",
            "    512,\n",
            "    1500\n",
            "  ],\n",
            "  \"tdnn_kernel\": [\n",
            "    5,\n",
            "    3,\n",
            "    3,\n",
            "    1,\n",
            "    1\n",
            "  ],\n",
            "  \"torch_dtype\": \"float32\",\n",
            "  \"transformers_version\": \"4.17.0\",\n",
            "  \"use_weighted_layer_sum\": false,\n",
            "  \"vocab_size\": 32,\n",
            "  \"xvector_output_dim\": 512\n",
            "}\n",
            "\n",
            "loading weights file https://huggingface.co/patrickvonplaten/wav2vec2-base-timit-demo-google-colab/resolve/main/pytorch_model.bin from cache at /root/.cache/huggingface/transformers/666767bce47a87d50dfd1ceac759d5dc9db6eac8d185ae8f9a7dd388687c28c5.20bdf845b9896c1d0a213f03187b544f2a12b23d751b88c7b49a95d00bd946e1\n",
            "All model checkpoint weights were used when initializing Wav2Vec2ForCTC.\n",
            "\n",
            "All the weights of Wav2Vec2ForCTC were initialized from the model checkpoint at patrickvonplaten/wav2vec2-base-timit-demo-google-colab.\n",
            "If your task is similar to the task the model of the checkpoint was trained on, you can already use Wav2Vec2ForCTC for predictions without further training.\n"
          ]
        }
      ]
    },
    {
      "cell_type": "markdown",
      "metadata": {
        "id": "TUuZpB0v5jn_"
      },
      "source": [
        "Now, we will make use of the `map(...)` function to predict the transcription of every test sample and to save the prediction in the dataset itself. We will call the resulting dictionary `\"results\"`. \n",
        "\n",
        "**Note**: we evaluate the test data set with `batch_size=1` on purpose due to this [issue](https://github.com/pytorch/fairseq/issues/3227). Since padded inputs don't yield the exact same output as non-padded inputs, a better WER can be achieved by not padding the input at all."
      ]
    },
    {
      "cell_type": "code",
      "metadata": {
        "id": "40naJl53n7jT"
      },
      "source": [
        "def map_to_result(batch):\n",
        "  with torch.no_grad():\n",
        "    input_values = torch.tensor(batch[\"input_values\"], device=\"cuda\").unsqueeze(0)\n",
        "    logits = model(input_values).logits\n",
        "\n",
        "  pred_ids = torch.argmax(logits, dim=-1)\n",
        "  batch[\"pred_str\"] = processor.batch_decode(pred_ids)[0]\n",
        "  batch[\"text\"] = processor.decode(batch[\"labels\"], group_tokens=False)\n",
        "  \n",
        "  return batch"
      ],
      "execution_count": null,
      "outputs": []
    },
    {
      "cell_type": "code",
      "metadata": {
        "id": "uPqH7gZqrGPi",
        "colab": {
          "base_uri": "https://localhost:8080/",
          "height": 48,
          "referenced_widgets": [
            "8fbdb230253a4152be95bf6229049f09",
            "857f0c099d8549e98991a93c791db4c1",
            "16561789e2b9417a80ddcb6ef9d8676a",
            "050c9d6bfd1e4b6ebe67401183a8d397",
            "5874591082f944ff9b32202a1edbfd60",
            "8c968b160d3d4fbb998840734f9f07e4",
            "d2fd7c9e56b1419f9d23a10c260a7c7d",
            "4a03fb6d945f4102bc4f7192195d810d",
            "8ab2466b187047fbbe4d8b72455b1108",
            "89472d79793e4db9afa6845fb016c8ad",
            "f5e79b8c3a634eae8a555f18b9dc9bd6"
          ]
        },
        "outputId": "1eb633f5-c487-4cd1-8be6-aac4af385a2e"
      },
      "source": [
        "results = timit[\"test\"].map(map_to_result, remove_columns=timit[\"test\"].column_names)"
      ],
      "execution_count": null,
      "outputs": [
        {
          "output_type": "display_data",
          "data": {
            "text/plain": [
              "0ex [00:00, ?ex/s]"
            ],
            "application/vnd.jupyter.widget-view+json": {
              "version_major": 2,
              "version_minor": 0,
              "model_id": "8fbdb230253a4152be95bf6229049f09"
            }
          },
          "metadata": {}
        }
      ]
    },
    {
      "cell_type": "markdown",
      "metadata": {
        "id": "-mqpdB8R6rty"
      },
      "source": [
        "Let's compute the overall WER now."
      ]
    },
    {
      "cell_type": "code",
      "metadata": {
        "id": "PmqAb4Isx8OK",
        "colab": {
          "base_uri": "https://localhost:8080/"
        },
        "outputId": "d70180e0-77e4-458b-daff-61df307f500c"
      },
      "source": [
        "print(\"Test WER: {:.3f}\".format(wer_metric.compute(predictions=results[\"pred_str\"], references=results[\"text\"])))"
      ],
      "execution_count": null,
      "outputs": [
        {
          "output_type": "stream",
          "name": "stdout",
          "text": [
            "Test WER: 0.218\n"
          ]
        }
      ]
    },
    {
      "cell_type": "markdown",
      "metadata": {
        "id": "6Va94d8Y7Q98"
      },
      "source": [
        "21.8% WER - not bad! Our demo model would have probably made it on the official [leaderboard](https://paperswithcode.com/sota/speech-recognition-on-timit).\n",
        "\n",
        "Let's take a look at some predictions to see what errors are made by the model."
      ]
    },
    {
      "cell_type": "code",
      "metadata": {
        "id": "odNDiFVRy53w",
        "colab": {
          "base_uri": "https://localhost:8080/",
          "height": 363
        },
        "outputId": "cb787bc7-5346-449e-e314-202df442185a"
      },
      "source": [
        "show_random_elements(results)"
      ],
      "execution_count": null,
      "outputs": [
        {
          "output_type": "display_data",
          "data": {
            "text/plain": [
              "<IPython.core.display.HTML object>"
            ],
            "text/html": [
              "<table border=\"1\" class=\"dataframe\">\n",
              "  <thead>\n",
              "    <tr style=\"text-align: right;\">\n",
              "      <th></th>\n",
              "      <th>pred_str</th>\n",
              "      <th>text</th>\n",
              "    </tr>\n",
              "  </thead>\n",
              "  <tbody>\n",
              "    <tr>\n",
              "      <th>0</th>\n",
              "      <td>aim to balenge your employ you benefits package</td>\n",
              "      <td>aim to balance your employee benefit package</td>\n",
              "    </tr>\n",
              "    <tr>\n",
              "      <th>1</th>\n",
              "      <td>the fog prevented them from ariving on tom</td>\n",
              "      <td>the fog prevented them from arriving on time</td>\n",
              "    </tr>\n",
              "    <tr>\n",
              "      <th>2</th>\n",
              "      <td>young children should avoid exposure to contageous diseases</td>\n",
              "      <td>young children should avoid exposure to contagious diseases</td>\n",
              "    </tr>\n",
              "    <tr>\n",
              "      <th>3</th>\n",
              "      <td>art official intelligence is for real</td>\n",
              "      <td>artificial intelligence is for real</td>\n",
              "    </tr>\n",
              "    <tr>\n",
              "      <th>4</th>\n",
              "      <td>theire propes were two step latters a chair and a pame fen</td>\n",
              "      <td>their props were two stepladders a chair and a palm fan</td>\n",
              "    </tr>\n",
              "    <tr>\n",
              "      <th>5</th>\n",
              "      <td>if people were more generous there would be no need for wealfar</td>\n",
              "      <td>if people were more generous there would be no need for welfare</td>\n",
              "    </tr>\n",
              "    <tr>\n",
              "      <th>6</th>\n",
              "      <td>the fish began to leep frantically on the surface of the smalleaku</td>\n",
              "      <td>the fish began to leap frantically on the surface of the small lake</td>\n",
              "    </tr>\n",
              "    <tr>\n",
              "      <th>7</th>\n",
              "      <td>her rite hand aques whenever the baramatric presuer changes</td>\n",
              "      <td>her right hand aches whenever the barometric pressure changes</td>\n",
              "    </tr>\n",
              "    <tr>\n",
              "      <th>8</th>\n",
              "      <td>only lawyers loved milunears</td>\n",
              "      <td>only lawyers love millionaires</td>\n",
              "    </tr>\n",
              "    <tr>\n",
              "      <th>9</th>\n",
              "      <td>the nearest synnegu may not be within walk in distance</td>\n",
              "      <td>the nearest synagogue may not be within walking distance</td>\n",
              "    </tr>\n",
              "  </tbody>\n",
              "</table>"
            ]
          },
          "metadata": {}
        }
      ]
    },
    {
      "cell_type": "markdown",
      "metadata": {
        "id": "5HFCujhd9n4N"
      },
      "source": [
        "It becomes clear that the predicted transcriptions are acoustically very similar to the target transcriptions, but often contain spelling or grammatical errors. This shouldn't be very surprising though given that we purely rely on Wav2Vec2 without making use of a language model."
      ]
    },
    {
      "cell_type": "markdown",
      "metadata": {
        "id": "a3ydKvUl9FTK"
      },
      "source": [
        "Finally, to better understand how CTC works, it is worth taking a deeper look at the exact output of the model. Let's run the first test sample through the model, take the predicted ids and convert them to their corresponding tokens."
      ]
    },
    {
      "cell_type": "code",
      "metadata": {
        "id": "AqaM45t87uM4",
        "colab": {
          "base_uri": "https://localhost:8080/",
          "height": 73
        },
        "outputId": "2d181121-2184-48dc-a337-bb33194fd68b"
      },
      "source": [
        "model.to(\"cuda\")\n",
        "\n",
        "with torch.no_grad():\n",
        "  logits = model(torch.tensor(timit[\"test\"][:1][\"input_values\"], device=\"cuda\")).logits\n",
        "\n",
        "pred_ids = torch.argmax(logits, dim=-1)\n",
        "\n",
        "# convert ids to tokens\n",
        "\" \".join(processor.tokenizer.convert_ids_to_tokens(pred_ids[0].tolist()))"
      ],
      "execution_count": null,
      "outputs": [
        {
          "output_type": "execute_result",
          "data": {
            "text/plain": [
              "'[PAD] [PAD] [PAD] [PAD] [PAD] t t h h e | | | b [PAD] [PAD] [PAD] u u n n g g [PAD] [PAD] l l l l [PAD] o o o | | w w a a s s | | [PAD] [PAD] [PAD] p l l [PAD] e s s s s [PAD] n n t t [PAD] l l l y y | | [PAD] s s s i i t t t [PAD] u u u u u [PAD] [PAD] [PAD] [PAD] a a t t [PAD] e e d d | | [PAD] n n e e a a r | | t t h e e | | s s h h [PAD] [PAD] [PAD] [PAD] o o r r r r | [PAD] [PAD] [PAD] [PAD] [PAD] [PAD] [PAD] [PAD] [PAD]'"
            ],
            "application/vnd.google.colaboratory.intrinsic+json": {
              "type": "string"
            }
          },
          "metadata": {},
          "execution_count": 98
        }
      ]
    },
    {
      "cell_type": "markdown",
      "metadata": {
        "id": "tdO8E28g-n5C"
      },
      "source": [
        "The output should make it a bit clearer how CTC works in practice. The model is to some extent invariant to speaking rate since it has learned to either just repeat the same token in case the speech chunk to be classified still corresponds to the same token. This makes CTC a very powerful algorithm for speech recognition since the speech file's transcription is often very much independent of its length.\n",
        "\n",
        "I again advise the reader to take a look at [this](https://distill.pub/2017/ctc) very nice blog post to better understand CTC."
      ]
    }
  ]
}